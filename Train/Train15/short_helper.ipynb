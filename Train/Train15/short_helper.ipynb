{
 "cells": [
  {
   "cell_type": "code",
   "execution_count": 1,
   "metadata": {
    "id": "gQ72ylODaJaZ"
   },
   "outputs": [
    {
     "name": "stderr",
     "output_type": "stream",
     "text": [
      "2023-05-14 14:04:49.767814: I tensorflow/core/platform/cpu_feature_guard.cc:193] This TensorFlow binary is optimized with oneAPI Deep Neural Network Library (oneDNN) to use the following CPU instructions in performance-critical operations:  AVX2 AVX512F AVX512_VNNI FMA\n",
      "To enable them in other operations, rebuild TensorFlow with the appropriate compiler flags.\n",
      "2023-05-14 14:04:49.992348: I tensorflow/core/util/util.cc:169] oneDNN custom operations are on. You may see slightly different numerical results due to floating-point round-off errors from different computation orders. To turn them off, set the environment variable `TF_ENABLE_ONEDNN_OPTS=0`.\n",
      "2023-05-14 14:04:50.006954: W tensorflow/stream_executor/platform/default/dso_loader.cc:64] Could not load dynamic library 'libcudart.so.11.0'; dlerror: libcudart.so.11.0: cannot open shared object file: No such file or directory\n",
      "2023-05-14 14:04:50.006995: I tensorflow/stream_executor/cuda/cudart_stub.cc:29] Ignore above cudart dlerror if you do not have a GPU set up on your machine.\n",
      "2023-05-14 14:04:50.058099: E tensorflow/stream_executor/cuda/cuda_blas.cc:2981] Unable to register cuBLAS factory: Attempting to register factory for plugin cuBLAS when one has already been registered\n",
      "2023-05-14 14:04:50.899027: W tensorflow/stream_executor/platform/default/dso_loader.cc:64] Could not load dynamic library 'libnvinfer.so.7'; dlerror: libnvinfer.so.7: cannot open shared object file: No such file or directory\n",
      "2023-05-14 14:04:50.899110: W tensorflow/stream_executor/platform/default/dso_loader.cc:64] Could not load dynamic library 'libnvinfer_plugin.so.7'; dlerror: libnvinfer_plugin.so.7: cannot open shared object file: No such file or directory\n",
      "2023-05-14 14:04:50.899118: W tensorflow/compiler/tf2tensorrt/utils/py_utils.cc:38] TF-TRT Warning: Cannot dlopen some TensorRT libraries. If you would like to use Nvidia GPU with TensorRT, please make sure the missing libraries mentioned above are installed properly.\n"
     ]
    },
    {
     "name": "stdout",
     "output_type": "stream",
     "text": [
      "2.10.0\n",
      "2023-05-14 14:04:52\n",
      "14:04:52\n"
     ]
    }
   ],
   "source": [
    "# Fonots\n",
    "\n",
    "# Használathoz fel kell tölteni a metric_____.log filét ha Google Colabon használod.\n",
    "\n",
    "import tensorflow as tf\n",
    "import seaborn as sns\n",
    "import pandas as pd\n",
    "import numpy as np\n",
    "import matplotlib\n",
    "import matplotlib.pyplot as plt\n",
    "\n",
    "import os\n",
    "import pickle\n",
    "import joblib\n",
    "\n",
    "import warnings \n",
    "# warnings.filterwarnings(\"ignore\")\n",
    "\n",
    "from datetime import datetime, date, time\n",
    "\n",
    "from tensorflow import keras\n",
    "from tensorflow.keras import layers\n",
    "\n",
    "from rich.progress import track\n",
    "\n",
    "from termcolor import colored\n",
    "\n",
    "from sklearn.linear_model import LinearRegression\n",
    "\n",
    "from pandas.plotting import scatter_matrix\n",
    "\n",
    "print(tf.__version__)\n",
    "\n",
    "import time\n",
    "ost = time.time()\n",
    "\n",
    "ost = time.strftime(\"%Y-%m-%d %H:%M:%S\", time.gmtime())\n",
    "print(ost)\n",
    "\n",
    "ost = time.strftime(\"%H:%M:%S\", time.gmtime())\n",
    "print(ost)"
   ]
  },
  {
   "cell_type": "code",
   "execution_count": 111,
   "metadata": {},
   "outputs": [
    {
     "data": {
      "text/html": [
       "<div>\n",
       "<style scoped>\n",
       "    .dataframe tbody tr th:only-of-type {\n",
       "        vertical-align: middle;\n",
       "    }\n",
       "\n",
       "    .dataframe tbody tr th {\n",
       "        vertical-align: top;\n",
       "    }\n",
       "\n",
       "    .dataframe thead th {\n",
       "        text-align: right;\n",
       "    }\n",
       "</style>\n",
       "<table border=\"1\" class=\"dataframe\">\n",
       "  <thead>\n",
       "    <tr style=\"text-align: right;\">\n",
       "      <th></th>\n",
       "      <th>worker_give_metrics</th>\n",
       "      <th>write_to_csv_time</th>\n",
       "      <th>time</th>\n",
       "      <th>response_time_p95</th>\n",
       "      <th>response_time</th>\n",
       "      <th>worker_number</th>\n",
       "      <th>request_rate</th>\n",
       "      <th>CPU0User%</th>\n",
       "      <th>CPU0Idle%</th>\n",
       "      <th>CPU0Total%</th>\n",
       "      <th>...</th>\n",
       "      <th>[NUMA:0]Mapped</th>\n",
       "      <th>[NUMA:0]Anon</th>\n",
       "      <th>[NUMA:0]AnonH</th>\n",
       "      <th>[NUMA:0]Inactive</th>\n",
       "      <th>[NUMA:0]Hits</th>\n",
       "      <th>[TCPD]InReceives</th>\n",
       "      <th>[TCPD]InDelivers</th>\n",
       "      <th>[TCPD]OutRequests</th>\n",
       "      <th>[TCPD]InSegs</th>\n",
       "      <th>[TCPD]OutSegs</th>\n",
       "    </tr>\n",
       "  </thead>\n",
       "  <tbody>\n",
       "    <tr>\n",
       "      <th>0</th>\n",
       "      <td>192.168.0.170</td>\n",
       "      <td>20:07:33</td>\n",
       "      <td>20:07:3</td>\n",
       "      <td>170.48660</td>\n",
       "      <td>122.845000</td>\n",
       "      <td>1</td>\n",
       "      <td>0.4</td>\n",
       "      <td>9.8</td>\n",
       "      <td>69.9</td>\n",
       "      <td>15.9</td>\n",
       "      <td>...</td>\n",
       "      <td>54914.0</td>\n",
       "      <td>727424.8</td>\n",
       "      <td>0.0</td>\n",
       "      <td>42991.2</td>\n",
       "      <td>100.0</td>\n",
       "      <td>182.8</td>\n",
       "      <td>182.8</td>\n",
       "      <td>182.9</td>\n",
       "      <td>182.3</td>\n",
       "      <td>182.4</td>\n",
       "    </tr>\n",
       "    <tr>\n",
       "      <th>1</th>\n",
       "      <td>192.168.0.170</td>\n",
       "      <td>20:07:42</td>\n",
       "      <td>20:07:4</td>\n",
       "      <td>173.23785</td>\n",
       "      <td>100.906500</td>\n",
       "      <td>3</td>\n",
       "      <td>1.0</td>\n",
       "      <td>9.5</td>\n",
       "      <td>69.5</td>\n",
       "      <td>15.5</td>\n",
       "      <td>...</td>\n",
       "      <td>47587.6</td>\n",
       "      <td>725717.6</td>\n",
       "      <td>0.0</td>\n",
       "      <td>37337.2</td>\n",
       "      <td>100.0</td>\n",
       "      <td>131.1</td>\n",
       "      <td>131.1</td>\n",
       "      <td>131.0</td>\n",
       "      <td>131.1</td>\n",
       "      <td>131.1</td>\n",
       "    </tr>\n",
       "    <tr>\n",
       "      <th>2</th>\n",
       "      <td>192.168.0.170</td>\n",
       "      <td>20:07:51</td>\n",
       "      <td>20:07:5</td>\n",
       "      <td>76.25155</td>\n",
       "      <td>69.350800</td>\n",
       "      <td>1</td>\n",
       "      <td>1.0</td>\n",
       "      <td>9.7</td>\n",
       "      <td>76.1</td>\n",
       "      <td>15.7</td>\n",
       "      <td>...</td>\n",
       "      <td>42023.2</td>\n",
       "      <td>724221.6</td>\n",
       "      <td>0.0</td>\n",
       "      <td>34854.0</td>\n",
       "      <td>100.0</td>\n",
       "      <td>235.0</td>\n",
       "      <td>235.0</td>\n",
       "      <td>235.0</td>\n",
       "      <td>235.0</td>\n",
       "      <td>235.1</td>\n",
       "    </tr>\n",
       "    <tr>\n",
       "      <th>3</th>\n",
       "      <td>192.168.0.170</td>\n",
       "      <td>20:08:01</td>\n",
       "      <td>20:08:0</td>\n",
       "      <td>169.67600</td>\n",
       "      <td>103.225818</td>\n",
       "      <td>1</td>\n",
       "      <td>1.1</td>\n",
       "      <td>8.6</td>\n",
       "      <td>79.8</td>\n",
       "      <td>14.4</td>\n",
       "      <td>...</td>\n",
       "      <td>38244.0</td>\n",
       "      <td>723113.6</td>\n",
       "      <td>0.0</td>\n",
       "      <td>28973.2</td>\n",
       "      <td>100.0</td>\n",
       "      <td>264.9</td>\n",
       "      <td>264.9</td>\n",
       "      <td>284.9</td>\n",
       "      <td>264.9</td>\n",
       "      <td>285.0</td>\n",
       "    </tr>\n",
       "    <tr>\n",
       "      <th>4</th>\n",
       "      <td>192.168.0.170</td>\n",
       "      <td>20:08:11</td>\n",
       "      <td>20:08:1</td>\n",
       "      <td>95.18005</td>\n",
       "      <td>72.214400</td>\n",
       "      <td>1</td>\n",
       "      <td>1.0</td>\n",
       "      <td>9.5</td>\n",
       "      <td>82.2</td>\n",
       "      <td>16.3</td>\n",
       "      <td>...</td>\n",
       "      <td>39842.8</td>\n",
       "      <td>724387.2</td>\n",
       "      <td>0.0</td>\n",
       "      <td>28122.8</td>\n",
       "      <td>100.0</td>\n",
       "      <td>259.4</td>\n",
       "      <td>259.4</td>\n",
       "      <td>260.1</td>\n",
       "      <td>259.4</td>\n",
       "      <td>260.2</td>\n",
       "    </tr>\n",
       "  </tbody>\n",
       "</table>\n",
       "<p>5 rows × 36 columns</p>\n",
       "</div>"
      ],
      "text/plain": [
       "  worker_give_metrics write_to_csv_time     time  response_time_p95  \\\n",
       "0       192.168.0.170          20:07:33  20:07:3          170.48660   \n",
       "1       192.168.0.170          20:07:42  20:07:4          173.23785   \n",
       "2       192.168.0.170          20:07:51  20:07:5           76.25155   \n",
       "3       192.168.0.170          20:08:01  20:08:0          169.67600   \n",
       "4       192.168.0.170          20:08:11  20:08:1           95.18005   \n",
       "\n",
       "   response_time  worker_number  request_rate  CPU0User%  CPU0Idle%  \\\n",
       "0     122.845000              1           0.4        9.8       69.9   \n",
       "1     100.906500              3           1.0        9.5       69.5   \n",
       "2      69.350800              1           1.0        9.7       76.1   \n",
       "3     103.225818              1           1.1        8.6       79.8   \n",
       "4      72.214400              1           1.0        9.5       82.2   \n",
       "\n",
       "   CPU0Total%  ...  [NUMA:0]Mapped  [NUMA:0]Anon  [NUMA:0]AnonH  \\\n",
       "0        15.9  ...         54914.0      727424.8            0.0   \n",
       "1        15.5  ...         47587.6      725717.6            0.0   \n",
       "2        15.7  ...         42023.2      724221.6            0.0   \n",
       "3        14.4  ...         38244.0      723113.6            0.0   \n",
       "4        16.3  ...         39842.8      724387.2            0.0   \n",
       "\n",
       "   [NUMA:0]Inactive  [NUMA:0]Hits  [TCPD]InReceives  [TCPD]InDelivers  \\\n",
       "0           42991.2         100.0             182.8             182.8   \n",
       "1           37337.2         100.0             131.1             131.1   \n",
       "2           34854.0         100.0             235.0             235.0   \n",
       "3           28973.2         100.0             264.9             264.9   \n",
       "4           28122.8         100.0             259.4             259.4   \n",
       "\n",
       "   [TCPD]OutRequests  [TCPD]InSegs  [TCPD]OutSegs  \n",
       "0              182.9         182.3          182.4  \n",
       "1              131.0         131.1          131.1  \n",
       "2              235.0         235.0          235.1  \n",
       "3              284.9         264.9          285.0  \n",
       "4              260.1         259.4          260.2  \n",
       "\n",
       "[5 rows x 36 columns]"
      ]
     },
     "execution_count": 111,
     "metadata": {},
     "output_type": "execute_result"
    }
   ],
   "source": [
    "metric_file_name = 'metric_train_by_none.log'\n",
    "\n",
    "df = pd.read_csv(metric_file_name, sep=',', header=0)\n",
    "\n",
    "df.head()"
   ]
  },
  {
   "cell_type": "code",
   "execution_count": 113,
   "metadata": {},
   "outputs": [
    {
     "data": {
      "text/html": [
       "<div>\n",
       "<style scoped>\n",
       "    .dataframe tbody tr th:only-of-type {\n",
       "        vertical-align: middle;\n",
       "    }\n",
       "\n",
       "    .dataframe tbody tr th {\n",
       "        vertical-align: top;\n",
       "    }\n",
       "\n",
       "    .dataframe thead th {\n",
       "        text-align: right;\n",
       "    }\n",
       "</style>\n",
       "<table border=\"1\" class=\"dataframe\">\n",
       "  <thead>\n",
       "    <tr style=\"text-align: right;\">\n",
       "      <th></th>\n",
       "      <th>worker_give_metrics</th>\n",
       "      <th>write_to_csv_time</th>\n",
       "      <th>time</th>\n",
       "      <th>response_time_p95</th>\n",
       "      <th>response_time</th>\n",
       "      <th>worker_number</th>\n",
       "      <th>request_rate</th>\n",
       "      <th>CPU0User%</th>\n",
       "      <th>CPU0Idle%</th>\n",
       "      <th>CPU0Total%</th>\n",
       "      <th>...</th>\n",
       "      <th>[NUMA:0]Mapped</th>\n",
       "      <th>[NUMA:0]Anon</th>\n",
       "      <th>[NUMA:0]AnonH</th>\n",
       "      <th>[NUMA:0]Inactive</th>\n",
       "      <th>[NUMA:0]Hits</th>\n",
       "      <th>[TCPD]InReceives</th>\n",
       "      <th>[TCPD]InDelivers</th>\n",
       "      <th>[TCPD]OutRequests</th>\n",
       "      <th>[TCPD]InSegs</th>\n",
       "      <th>[TCPD]OutSegs</th>\n",
       "    </tr>\n",
       "  </thead>\n",
       "  <tbody>\n",
       "    <tr>\n",
       "      <th>221</th>\n",
       "      <td>192.168.0.170</td>\n",
       "      <td>20:59:35</td>\n",
       "      <td>20:59:3</td>\n",
       "      <td>117.32065</td>\n",
       "      <td>99.209500</td>\n",
       "      <td>8</td>\n",
       "      <td>0.2</td>\n",
       "      <td>5.6</td>\n",
       "      <td>72.2</td>\n",
       "      <td>9.5</td>\n",
       "      <td>...</td>\n",
       "      <td>47884.4</td>\n",
       "      <td>750553.6</td>\n",
       "      <td>0.0</td>\n",
       "      <td>36710.0</td>\n",
       "      <td>100.0</td>\n",
       "      <td>1.7</td>\n",
       "      <td>1.7</td>\n",
       "      <td>1.9</td>\n",
       "      <td>1.7</td>\n",
       "      <td>1.9</td>\n",
       "    </tr>\n",
       "    <tr>\n",
       "      <th>222</th>\n",
       "      <td>192.168.0.170</td>\n",
       "      <td>20:59:46</td>\n",
       "      <td>20:59:4</td>\n",
       "      <td>388.72090</td>\n",
       "      <td>328.960000</td>\n",
       "      <td>7</td>\n",
       "      <td>0.2</td>\n",
       "      <td>7.2</td>\n",
       "      <td>66.2</td>\n",
       "      <td>12.2</td>\n",
       "      <td>...</td>\n",
       "      <td>34832.0</td>\n",
       "      <td>750834.8</td>\n",
       "      <td>0.0</td>\n",
       "      <td>36678.4</td>\n",
       "      <td>100.0</td>\n",
       "      <td>3.0</td>\n",
       "      <td>3.0</td>\n",
       "      <td>3.0</td>\n",
       "      <td>3.0</td>\n",
       "      <td>3.0</td>\n",
       "    </tr>\n",
       "    <tr>\n",
       "      <th>223</th>\n",
       "      <td>192.168.0.170</td>\n",
       "      <td>21:01:54</td>\n",
       "      <td>21:01:5</td>\n",
       "      <td>670.45220</td>\n",
       "      <td>419.907333</td>\n",
       "      <td>5</td>\n",
       "      <td>0.3</td>\n",
       "      <td>6.4</td>\n",
       "      <td>67.2</td>\n",
       "      <td>10.9</td>\n",
       "      <td>...</td>\n",
       "      <td>45022.4</td>\n",
       "      <td>751852.4</td>\n",
       "      <td>0.0</td>\n",
       "      <td>39076.8</td>\n",
       "      <td>100.0</td>\n",
       "      <td>3.0</td>\n",
       "      <td>3.0</td>\n",
       "      <td>3.0</td>\n",
       "      <td>3.0</td>\n",
       "      <td>3.0</td>\n",
       "    </tr>\n",
       "  </tbody>\n",
       "</table>\n",
       "<p>3 rows × 36 columns</p>\n",
       "</div>"
      ],
      "text/plain": [
       "    worker_give_metrics write_to_csv_time     time  response_time_p95  \\\n",
       "221       192.168.0.170          20:59:35  20:59:3          117.32065   \n",
       "222       192.168.0.170          20:59:46  20:59:4          388.72090   \n",
       "223       192.168.0.170          21:01:54  21:01:5          670.45220   \n",
       "\n",
       "     response_time  worker_number  request_rate  CPU0User%  CPU0Idle%  \\\n",
       "221      99.209500              8           0.2        5.6       72.2   \n",
       "222     328.960000              7           0.2        7.2       66.2   \n",
       "223     419.907333              5           0.3        6.4       67.2   \n",
       "\n",
       "     CPU0Total%  ...  [NUMA:0]Mapped  [NUMA:0]Anon  [NUMA:0]AnonH  \\\n",
       "221         9.5  ...         47884.4      750553.6            0.0   \n",
       "222        12.2  ...         34832.0      750834.8            0.0   \n",
       "223        10.9  ...         45022.4      751852.4            0.0   \n",
       "\n",
       "     [NUMA:0]Inactive  [NUMA:0]Hits  [TCPD]InReceives  [TCPD]InDelivers  \\\n",
       "221           36710.0         100.0               1.7               1.7   \n",
       "222           36678.4         100.0               3.0               3.0   \n",
       "223           39076.8         100.0               3.0               3.0   \n",
       "\n",
       "     [TCPD]OutRequests  [TCPD]InSegs  [TCPD]OutSegs  \n",
       "221                1.9           1.7            1.9  \n",
       "222                3.0           3.0            3.0  \n",
       "223                3.0           3.0            3.0  \n",
       "\n",
       "[3 rows x 36 columns]"
      ]
     },
     "execution_count": 113,
     "metadata": {},
     "output_type": "execute_result"
    }
   ],
   "source": [
    "df.tail(3)"
   ]
  },
  {
   "cell_type": "code",
   "execution_count": 116,
   "metadata": {},
   "outputs": [
    {
     "data": {
      "text/html": [
       "<div>\n",
       "<style scoped>\n",
       "    .dataframe tbody tr th:only-of-type {\n",
       "        vertical-align: middle;\n",
       "    }\n",
       "\n",
       "    .dataframe tbody tr th {\n",
       "        vertical-align: top;\n",
       "    }\n",
       "\n",
       "    .dataframe thead th {\n",
       "        text-align: right;\n",
       "    }\n",
       "</style>\n",
       "<table border=\"1\" class=\"dataframe\">\n",
       "  <thead>\n",
       "    <tr style=\"text-align: right;\">\n",
       "      <th></th>\n",
       "      <th>worker_give_metrics</th>\n",
       "      <th>write_to_csv_time</th>\n",
       "      <th>time</th>\n",
       "      <th>response_time_p95</th>\n",
       "      <th>response_time</th>\n",
       "      <th>worker_number</th>\n",
       "      <th>request_rate</th>\n",
       "      <th>CPU0User%</th>\n",
       "      <th>CPU0Idle%</th>\n",
       "      <th>CPU0Total%</th>\n",
       "      <th>...</th>\n",
       "      <th>[NUMA:0]Mapped</th>\n",
       "      <th>[NUMA:0]Anon</th>\n",
       "      <th>[NUMA:0]AnonH</th>\n",
       "      <th>[NUMA:0]Inactive</th>\n",
       "      <th>[NUMA:0]Hits</th>\n",
       "      <th>[TCPD]InReceives</th>\n",
       "      <th>[TCPD]InDelivers</th>\n",
       "      <th>[TCPD]OutRequests</th>\n",
       "      <th>[TCPD]InSegs</th>\n",
       "      <th>[TCPD]OutSegs</th>\n",
       "    </tr>\n",
       "  </thead>\n",
       "  <tbody>\n",
       "    <tr>\n",
       "      <th>223</th>\n",
       "      <td>192.168.0.170</td>\n",
       "      <td>21:01:54</td>\n",
       "      <td>21:01:5</td>\n",
       "      <td>670.4522</td>\n",
       "      <td>419.907333</td>\n",
       "      <td>5</td>\n",
       "      <td>0.3</td>\n",
       "      <td>6.4</td>\n",
       "      <td>67.2</td>\n",
       "      <td>10.9</td>\n",
       "      <td>...</td>\n",
       "      <td>45022.4</td>\n",
       "      <td>751852.4</td>\n",
       "      <td>0.0</td>\n",
       "      <td>39076.8</td>\n",
       "      <td>100.0</td>\n",
       "      <td>3.0</td>\n",
       "      <td>3.0</td>\n",
       "      <td>3.0</td>\n",
       "      <td>3.0</td>\n",
       "      <td>3.0</td>\n",
       "    </tr>\n",
       "  </tbody>\n",
       "</table>\n",
       "<p>1 rows × 36 columns</p>\n",
       "</div>"
      ],
      "text/plain": [
       "    worker_give_metrics write_to_csv_time     time  response_time_p95  \\\n",
       "223       192.168.0.170          21:01:54  21:01:5           670.4522   \n",
       "\n",
       "     response_time  worker_number  request_rate  CPU0User%  CPU0Idle%  \\\n",
       "223     419.907333              5           0.3        6.4       67.2   \n",
       "\n",
       "     CPU0Total%  ...  [NUMA:0]Mapped  [NUMA:0]Anon  [NUMA:0]AnonH  \\\n",
       "223        10.9  ...         45022.4      751852.4            0.0   \n",
       "\n",
       "     [NUMA:0]Inactive  [NUMA:0]Hits  [TCPD]InReceives  [TCPD]InDelivers  \\\n",
       "223           39076.8         100.0               3.0               3.0   \n",
       "\n",
       "     [TCPD]OutRequests  [TCPD]InSegs  [TCPD]OutSegs  \n",
       "223                3.0           3.0            3.0  \n",
       "\n",
       "[1 rows x 36 columns]"
      ]
     },
     "execution_count": 116,
     "metadata": {},
     "output_type": "execute_result"
    }
   ],
   "source": [
    "# csak az utolsó sort akarom megtartani, mert ha fel van tanítva a modell akkor már csak ez kell\n",
    "\n",
    "last_df = df.iloc[[-1]]\n",
    "\n",
    "last_df.head()"
   ]
  },
  {
   "cell_type": "code",
   "execution_count": 4,
   "metadata": {},
   "outputs": [
    {
     "data": {
      "image/png": "[encoded data removed]",
      "text/plain": [
       "<Figure size 1440x288 with 1 Axes>"
      ]
     },
     "metadata": {
      "needs_background": "light"
     },
     "output_type": "display_data"
    }
   ],
   "source": [
    "plt.figure(figsize=(20,4))\n",
    "plt.plot(df['[TCPD]OutRequests'])\n",
    "plt.plot(df['[TCPD]InDelivers'])\n",
    "plt.plot(df['[TCPD]InReceives'])\n",
    "plt.plot(df['[TCPD]OutSegs'])\n",
    "plt.plot(df['[TCPD]InSegs'])\n",
    "plt.grid()\n",
    "plt.show()"
   ]
  },
  {
   "cell_type": "code",
   "execution_count": 5,
   "metadata": {},
   "outputs": [
    {
     "data": {
      "text/plain": [
       "array(['192.168.0.170'], dtype=object)"
      ]
     },
     "execution_count": 5,
     "metadata": {},
     "output_type": "execute_result"
    }
   ],
   "source": [
    "df['worker_give_metrics'].unique()"
   ]
  },
  {
   "cell_type": "code",
   "execution_count": 8,
   "metadata": {},
   "outputs": [
    {
     "data": {
      "image/png": "[encoded data removed]",
      "text/plain": [
       "<Figure size 1440x576 with 3 Axes>"
      ]
     },
     "metadata": {
      "needs_background": "light"
     },
     "output_type": "display_data"
    }
   ],
   "source": [
    "\n",
    "fig, (ax1, ax3) = plt.subplots(2, 1, figsize=(20, 8))\n",
    "\n",
    "l1 = ax1.plot(df['response_time'], color = 'C0', label='Response Time(ms)')\n",
    "l2 = ax1.plot(df['response_time_p95'], color = 'C1', label='RT95%(ms)')\n",
    "\n",
    "ax2 = ax1.twinx()\n",
    "\n",
    "l3 = ax2.plot(df['request_rate'], color = 'C2', label='Request Rate (/sec)')\n",
    "\n",
    "ax1.set_xlabel('Time')\n",
    "ax1.set_ylabel('Response Time')\n",
    "ax2.set_ylabel('Request Rate')\n",
    "\n",
    "ax3.plot(df['worker_number'], color = 'black', label='VM number')\n",
    "ax3.set_xlabel('Time')\n",
    "ax3.set_ylabel('VM Number')\n",
    "ax3.legend(loc=2, frameon=False)\n",
    "\n",
    "lns = l1+l2+l3\n",
    "labs = [l.get_label() for l in lns]\n",
    "ax2.legend(lns, labs, loc=2, frameon=False)\n",
    "\n",
    "plt.show()"
   ]
  },
  {
   "cell_type": "markdown",
   "metadata": {
    "id": "L3kmCEPlxOMP"
   },
   "source": [
    "## CPU Threshod és Response Time Threshold\n",
    "\n",
    "Két féle skálázást csináltam azonos terheléssel.\n",
    "\n",
    "A két féle skálázásból származó log filokat beolvasom és összehasonlítom."
   ]
  },
  {
   "cell_type": "code",
   "execution_count": 9,
   "metadata": {},
   "outputs": [
    {
     "data": {
      "text/html": [
       "<div>\n",
       "<style scoped>\n",
       "    .dataframe tbody tr th:only-of-type {\n",
       "        vertical-align: middle;\n",
       "    }\n",
       "\n",
       "    .dataframe tbody tr th {\n",
       "        vertical-align: top;\n",
       "    }\n",
       "\n",
       "    .dataframe thead th {\n",
       "        text-align: right;\n",
       "    }\n",
       "</style>\n",
       "<table border=\"1\" class=\"dataframe\">\n",
       "  <thead>\n",
       "    <tr style=\"text-align: right;\">\n",
       "      <th></th>\n",
       "      <th>worker_give_metrics</th>\n",
       "      <th>write_to_csv_time</th>\n",
       "      <th>time</th>\n",
       "      <th>response_time_p95</th>\n",
       "      <th>response_time</th>\n",
       "      <th>worker_number</th>\n",
       "      <th>request_rate</th>\n",
       "      <th>CPU0User%</th>\n",
       "      <th>CPU0Idle%</th>\n",
       "      <th>CPU0Total%</th>\n",
       "      <th>...</th>\n",
       "      <th>[NUMA:0]Hits</th>\n",
       "      <th>[TCPD]InReceives</th>\n",
       "      <th>[TCPD]InDelivers</th>\n",
       "      <th>[TCPD]OutRequests</th>\n",
       "      <th>[TCPD]InSegs</th>\n",
       "      <th>[TCPD]OutSegs</th>\n",
       "      <th>actual_vm_number_is</th>\n",
       "      <th>actual_vm_number_was</th>\n",
       "      <th>actual_vm_number_will</th>\n",
       "      <th>delta_vm</th>\n",
       "    </tr>\n",
       "  </thead>\n",
       "  <tbody>\n",
       "    <tr>\n",
       "      <th>0</th>\n",
       "      <td>192.168.0.170</td>\n",
       "      <td>20:07:33</td>\n",
       "      <td>20:07:3</td>\n",
       "      <td>170.48660</td>\n",
       "      <td>122.845000</td>\n",
       "      <td>1</td>\n",
       "      <td>0.4</td>\n",
       "      <td>9.8</td>\n",
       "      <td>69.9</td>\n",
       "      <td>15.9</td>\n",
       "      <td>...</td>\n",
       "      <td>100.0</td>\n",
       "      <td>182.8</td>\n",
       "      <td>182.8</td>\n",
       "      <td>182.9</td>\n",
       "      <td>182.3</td>\n",
       "      <td>182.4</td>\n",
       "      <td>1</td>\n",
       "      <td>NaN</td>\n",
       "      <td>3.0</td>\n",
       "      <td>2.0</td>\n",
       "    </tr>\n",
       "    <tr>\n",
       "      <th>1</th>\n",
       "      <td>192.168.0.170</td>\n",
       "      <td>20:07:42</td>\n",
       "      <td>20:07:4</td>\n",
       "      <td>173.23785</td>\n",
       "      <td>100.906500</td>\n",
       "      <td>3</td>\n",
       "      <td>1.0</td>\n",
       "      <td>9.5</td>\n",
       "      <td>69.5</td>\n",
       "      <td>15.5</td>\n",
       "      <td>...</td>\n",
       "      <td>100.0</td>\n",
       "      <td>131.1</td>\n",
       "      <td>131.1</td>\n",
       "      <td>131.0</td>\n",
       "      <td>131.1</td>\n",
       "      <td>131.1</td>\n",
       "      <td>3</td>\n",
       "      <td>1.0</td>\n",
       "      <td>1.0</td>\n",
       "      <td>-2.0</td>\n",
       "    </tr>\n",
       "    <tr>\n",
       "      <th>2</th>\n",
       "      <td>192.168.0.170</td>\n",
       "      <td>20:07:51</td>\n",
       "      <td>20:07:5</td>\n",
       "      <td>76.25155</td>\n",
       "      <td>69.350800</td>\n",
       "      <td>1</td>\n",
       "      <td>1.0</td>\n",
       "      <td>9.7</td>\n",
       "      <td>76.1</td>\n",
       "      <td>15.7</td>\n",
       "      <td>...</td>\n",
       "      <td>100.0</td>\n",
       "      <td>235.0</td>\n",
       "      <td>235.0</td>\n",
       "      <td>235.0</td>\n",
       "      <td>235.0</td>\n",
       "      <td>235.1</td>\n",
       "      <td>1</td>\n",
       "      <td>3.0</td>\n",
       "      <td>1.0</td>\n",
       "      <td>0.0</td>\n",
       "    </tr>\n",
       "    <tr>\n",
       "      <th>3</th>\n",
       "      <td>192.168.0.170</td>\n",
       "      <td>20:08:01</td>\n",
       "      <td>20:08:0</td>\n",
       "      <td>169.67600</td>\n",
       "      <td>103.225818</td>\n",
       "      <td>1</td>\n",
       "      <td>1.1</td>\n",
       "      <td>8.6</td>\n",
       "      <td>79.8</td>\n",
       "      <td>14.4</td>\n",
       "      <td>...</td>\n",
       "      <td>100.0</td>\n",
       "      <td>264.9</td>\n",
       "      <td>264.9</td>\n",
       "      <td>284.9</td>\n",
       "      <td>264.9</td>\n",
       "      <td>285.0</td>\n",
       "      <td>1</td>\n",
       "      <td>1.0</td>\n",
       "      <td>1.0</td>\n",
       "      <td>0.0</td>\n",
       "    </tr>\n",
       "    <tr>\n",
       "      <th>4</th>\n",
       "      <td>192.168.0.170</td>\n",
       "      <td>20:08:11</td>\n",
       "      <td>20:08:1</td>\n",
       "      <td>95.18005</td>\n",
       "      <td>72.214400</td>\n",
       "      <td>1</td>\n",
       "      <td>1.0</td>\n",
       "      <td>9.5</td>\n",
       "      <td>82.2</td>\n",
       "      <td>16.3</td>\n",
       "      <td>...</td>\n",
       "      <td>100.0</td>\n",
       "      <td>259.4</td>\n",
       "      <td>259.4</td>\n",
       "      <td>260.1</td>\n",
       "      <td>259.4</td>\n",
       "      <td>260.2</td>\n",
       "      <td>1</td>\n",
       "      <td>1.0</td>\n",
       "      <td>4.0</td>\n",
       "      <td>3.0</td>\n",
       "    </tr>\n",
       "  </tbody>\n",
       "</table>\n",
       "<p>5 rows × 40 columns</p>\n",
       "</div>"
      ],
      "text/plain": [
       "  worker_give_metrics write_to_csv_time     time  response_time_p95  \\\n",
       "0       192.168.0.170          20:07:33  20:07:3          170.48660   \n",
       "1       192.168.0.170          20:07:42  20:07:4          173.23785   \n",
       "2       192.168.0.170          20:07:51  20:07:5           76.25155   \n",
       "3       192.168.0.170          20:08:01  20:08:0          169.67600   \n",
       "4       192.168.0.170          20:08:11  20:08:1           95.18005   \n",
       "\n",
       "   response_time  worker_number  request_rate  CPU0User%  CPU0Idle%  \\\n",
       "0     122.845000              1           0.4        9.8       69.9   \n",
       "1     100.906500              3           1.0        9.5       69.5   \n",
       "2      69.350800              1           1.0        9.7       76.1   \n",
       "3     103.225818              1           1.1        8.6       79.8   \n",
       "4      72.214400              1           1.0        9.5       82.2   \n",
       "\n",
       "   CPU0Total%  ...  [NUMA:0]Hits  [TCPD]InReceives  [TCPD]InDelivers  \\\n",
       "0        15.9  ...         100.0             182.8             182.8   \n",
       "1        15.5  ...         100.0             131.1             131.1   \n",
       "2        15.7  ...         100.0             235.0             235.0   \n",
       "3        14.4  ...         100.0             264.9             264.9   \n",
       "4        16.3  ...         100.0             259.4             259.4   \n",
       "\n",
       "   [TCPD]OutRequests  [TCPD]InSegs  [TCPD]OutSegs  actual_vm_number_is  \\\n",
       "0              182.9         182.3          182.4                    1   \n",
       "1              131.0         131.1          131.1                    3   \n",
       "2              235.0         235.0          235.1                    1   \n",
       "3              284.9         264.9          285.0                    1   \n",
       "4              260.1         259.4          260.2                    1   \n",
       "\n",
       "   actual_vm_number_was  actual_vm_number_will  delta_vm  \n",
       "0                   NaN                    3.0       2.0  \n",
       "1                   1.0                    1.0      -2.0  \n",
       "2                   3.0                    1.0       0.0  \n",
       "3                   1.0                    1.0       0.0  \n",
       "4                   1.0                    4.0       3.0  \n",
       "\n",
       "[5 rows x 40 columns]"
      ]
     },
     "execution_count": 9,
     "metadata": {},
     "output_type": "execute_result"
    }
   ],
   "source": [
    "# -----------------------------------------------\n",
    "\n",
    "# New, jó ezt használom\n",
    "\n",
    "mf = df.copy()\n",
    "\n",
    "mf['actual_vm_number_is'] = mf['worker_number']\n",
    "mf['actual_vm_number_was'] = mf['worker_number'].shift(1)\n",
    "mf['actual_vm_number_will'] = mf['worker_number'].shift(-1)\n",
    "\n",
    "mf['delta_vm'] = mf['actual_vm_number_will'] - mf['actual_vm_number_is']\n",
    "\n",
    "mf.head()"
   ]
  },
  {
   "cell_type": "code",
   "execution_count": 10,
   "metadata": {},
   "outputs": [
    {
     "data": {
      "text/plain": [
       "array([ 2., -2.,  0.,  3., -3.,  1., -1., nan])"
      ]
     },
     "execution_count": 10,
     "metadata": {},
     "output_type": "execute_result"
    }
   ],
   "source": [
    "mf['delta_vm'].unique()"
   ]
  },
  {
   "cell_type": "code",
   "execution_count": 11,
   "metadata": {},
   "outputs": [
    {
     "data": {
      "image/png": "[encoded data removed]",
      "text/plain": [
       "<Figure size 1440x360 with 4 Axes>"
      ]
     },
     "metadata": {
      "needs_background": "light"
     },
     "output_type": "display_data"
    }
   ],
   "source": [
    "fig, (ax1, ax2, ax3, ax4) = plt.subplots(4, 1, figsize=(20, 5), sharex=True)\n",
    "\n",
    "ax1.plot(mf['response_time_p95'])\n",
    "ax2.plot(mf['request_rate'])\n",
    "ax3.plot(mf['CPU0User%'])\n",
    "ax4.plot(mf['worker_number'])\n",
    "plt.show()"
   ]
  },
  {
   "cell_type": "code",
   "execution_count": 12,
   "metadata": {},
   "outputs": [],
   "source": [
    "# Átállítom a színeket\n",
    "\n",
    "from cycler import cycler\n",
    "import matplotlib as mpl\n",
    "\n",
    "colormap = plt.get_cmap('jet')\n",
    "colors = [colormap(k) for k in np.linspace(0, 1, 10)]\n",
    "\n",
    "mpl.rcParams['axes.prop_cycle'] = cycler(color=colors)"
   ]
  },
  {
   "cell_type": "code",
   "execution_count": 13,
   "metadata": {},
   "outputs": [],
   "source": [
    "def plot_true_vs_pred(true, pred):\n",
    "    plt.axes(aspect='equal')\n",
    "    plt.scatter(true, pred)\n",
    "    plt.xlabel('True Values')\n",
    "    plt.ylabel('Predictions')\n",
    "    _min = np.min((np.min(true), np.min(pred)))\n",
    "    _max = np.max((np.max(true), np.max(pred)))\n",
    "    _min -= _min/10\n",
    "    _max += _max/10\n",
    "    lims = [_min, _max]\n",
    "    plt.xlim(lims)\n",
    "    plt.ylim(lims)\n",
    "    _ = plt.plot(lims, lims)\n",
    "    plt.show()\n",
    "\n",
    "def plot_true_vs_pred_two(true1, pred1, true2, pred2):\n",
    "    fig, (ax0, ax1) = plt.subplots(1, 2, figsize=(4.0*2, 4.0))\n",
    "    \n",
    "    ax0.axis('equal')\n",
    "    ax0.set_aspect('equal', 'box')\n",
    "    ax0.scatter(true1, pred1)\n",
    "    ax0.set_xlabel('True Values')\n",
    "    ax0.set_ylabel('Predictions')\n",
    "    _min = np.min((np.min(true1), np.min(pred1)))\n",
    "    _max = np.max((np.max(true1), np.max(pred1)))\n",
    "    _min -= _min/10\n",
    "    _max += _max/10\n",
    "    lims = [_min, _max]\n",
    "    ax0.set_xlim(lims)\n",
    "    ax0.set_ylim(lims)\n",
    "    _ = ax0.plot(lims, lims)\n",
    "    \n",
    "    ax1.axis('equal')\n",
    "    ax1.set_aspect('equal', 'box')\n",
    "    ax1.scatter(true2, pred2)\n",
    "    ax1.set_xlabel('True Values')\n",
    "    ax1.set_ylabel('Predictions')\n",
    "    _min = np.min((np.min(true1), np.min(pred1)))\n",
    "    _max = np.max((np.max(true1), np.max(pred1)))\n",
    "    _min -= _min/10\n",
    "    _max += _max/10\n",
    "    lims = [_min, _max]\n",
    "    ax1.set_xlim(lims)\n",
    "    ax1.set_ylim(lims)\n",
    "    _ = ax1.plot(lims, lims)\n",
    "    \n",
    "    plt.show()\n",
    "\n",
    "def plot_true_vs_pred_hist(true, pred):\n",
    "\n",
    "    # definitions for the axes\n",
    "    left, width = 0.1, 0.65\n",
    "    bottom, height = 0.1, 0.65\n",
    "    spacing = 0.005\n",
    "\n",
    "    rect_scatter = [left, bottom, width, height]\n",
    "    rect_histx = [left, bottom + height + spacing, width, 0.2]\n",
    "    rect_histy = [left + width + spacing, bottom, 0.2, height]\n",
    "\n",
    "    # start with a rectangular Figure\n",
    "    plt.figure(figsize=(4.8, 4.8))\n",
    "\n",
    "    ax_scatter = plt.axes(rect_scatter)\n",
    "    ax_scatter.tick_params(direction='in', top=True, right=True)\n",
    "    ax_histx = plt.axes(rect_histx)\n",
    "    ax_histx.tick_params(direction='in', labelbottom=False)\n",
    "    ax_histy = plt.axes(rect_histy)\n",
    "    ax_histy.tick_params(direction='in', labelleft=False)\n",
    "\n",
    "    # the scatter plot:\n",
    "    ax_scatter.scatter(true, pred)\n",
    "\n",
    "    # now determine nice limits by hand:\n",
    "    binwidth = 3.00\n",
    "    lim = np.ceil(np.abs([true, pred]).max() / binwidth) * binwidth\n",
    "    \n",
    "    _min = np.min((np.min(true), np.min(pred)))\n",
    "    _max = np.max((np.max(true), np.max(pred)))\n",
    "    #_min -= _min/10\n",
    "    #_max += _max/10\n",
    "    lims = [_min, _max]\n",
    "    ax_scatter.plot(lims, lims)\n",
    "    \n",
    "    ax_scatter.set_xlim((lims))\n",
    "    ax_scatter.set_ylim((lims))\n",
    "    ax_scatter.set_xlabel('True Values')\n",
    "    ax_scatter.set_ylabel('Predictions')\n",
    "\n",
    "    bins = np.arange(-lim, lim + binwidth, binwidth)\n",
    "    ax_histx.hist(true, bins=bins)\n",
    "    ax_histy.hist(pred, bins=bins, orientation='horizontal')\n",
    "\n",
    "    ax_histx.set_xlim(ax_scatter.get_xlim())\n",
    "    ax_histy.set_ylim(ax_scatter.get_ylim())\n",
    "\n",
    "    plt.show()\n"
   ]
  },
  {
   "cell_type": "code",
   "execution_count": 16,
   "metadata": {},
   "outputs": [],
   "source": [
    "import scipy.stats as stats\n",
    "\n",
    "def calc_true_pred_stats(true, pred, show=True):\n",
    "    \n",
    "    slope, intercept = np.polyfit(true, pred, 1)  # linear model adjustment\n",
    "    y_model = np.polyval([slope, intercept], true)   # modeling...\n",
    "    \n",
    "    if show == True:\n",
    "        print('slope {:.2f} int {:.2f}'.format(slope, intercept))\n",
    "\n",
    "    true_mean = np.mean(true)\n",
    "    pred_mean = np.mean(pred)\n",
    "    n = true.size                     # number of samples\n",
    "    m = 3                             # number of parameters\n",
    "    dof = n - m                       # degrees of freedom\n",
    "    t = stats.t.ppf(0.975, dof)       # Students statistic of interval confidence\n",
    "    \n",
    "    residual = true - pred\n",
    "    \n",
    "    std_error = (np.sum(residual**2) / dof)**.5   # Standard deviation of the error\n",
    "    \n",
    "    # calculating the r2\n",
    "    # https://www.statisticshowto.com/probability-and-statistics/coefficient-of-determination-r-squared/\n",
    "    # Pearson's correlation coefficient\n",
    "    numerator = np.sum((true - true_mean)*(pred - pred_mean))\n",
    "    denominator = ( np.sum((true - true_mean)**2) * np.sum((pred - pred_mean)**2) )**.5\n",
    "    correlation_coef = numerator / denominator\n",
    "    r2 = correlation_coef**2\n",
    "    r  = np.sqrt(r2)\n",
    "    \n",
    "    n = true.size\n",
    "    mse = 1/n * np.sum( (true - pred)**2 )\n",
    "    \n",
    "    if show == True:\n",
    "        print('r2 {:.2f}'.format(r2))\n",
    "        print('r  {:.2f}'.format(r))\n",
    "        print('mse {:.2f}'.format(mse))\n",
    "    \n",
    "    return {'slope': slope, 'intercept': intercept, 'r2': r2, 'r': r, 'mse': mse}"
   ]
  },
  {
   "cell_type": "code",
   "execution_count": 17,
   "metadata": {},
   "outputs": [],
   "source": [
    "import scipy.stats as stats\n",
    "\n",
    "def plot_true_vs_pred_hist_conf(true, pred, binwidth=3.00):\n",
    "\n",
    "    # definitions for the axes\n",
    "    left, width = 0.1, 0.65\n",
    "    bottom, height = 0.1, 0.65\n",
    "    spacing = 0.005\n",
    "\n",
    "    rect_scatter = [left, bottom, width, height]\n",
    "    rect_histx = [left, bottom + height + spacing, width, 0.2]\n",
    "    rect_histy = [left + width + spacing, bottom, 0.2, height]\n",
    "\n",
    "    # start with a rectangular Figure\n",
    "    plt.figure(figsize=(4.8, 4.8))\n",
    "\n",
    "    ax_scatter = plt.axes(rect_scatter)\n",
    "    ax_scatter.tick_params(direction='in', top=True, right=True)\n",
    "    ax_histx = plt.axes(rect_histx)\n",
    "    ax_histx.tick_params(direction='in', labelbottom=False)\n",
    "    ax_histy = plt.axes(rect_histy)\n",
    "    ax_histy.tick_params(direction='in', labelleft=False)\n",
    "\n",
    "    # the scatter plot:\n",
    "    ax_scatter.scatter(true, pred)\n",
    "\n",
    "    # now determine nice limits by hand:\n",
    "    # binwidth = 3.00\n",
    "    binwidth = binwidth\n",
    "    \n",
    "    lim = np.ceil(np.abs([true, pred]).max() / binwidth) * binwidth\n",
    "    \n",
    "    _min = np.min((np.min(true), np.min(pred)))\n",
    "    _max = np.max((np.max(true), np.max(pred)))\n",
    "    #_min -= _min/10\n",
    "    #_max += _max/10\n",
    "    lims = [_min, _max]\n",
    "    ax_scatter.plot(lims, lims)\n",
    "    \n",
    "    ax_scatter.set_xlim((lims))\n",
    "    ax_scatter.set_ylim((lims))\n",
    "    ax_scatter.set_xlabel('True Values')\n",
    "    ax_scatter.set_ylabel('Predictions')\n",
    "\n",
    "    bins = np.arange(-lim, lim + binwidth, binwidth)\n",
    "    ax_histx.hist(true, bins=bins)\n",
    "    ax_histy.hist(pred, bins=bins, orientation='horizontal')\n",
    "\n",
    "    ax_histx.set_xlim(ax_scatter.get_xlim())\n",
    "    ax_histy.set_ylim(ax_scatter.get_ylim())\n",
    "    \n",
    "    ax_histx.spines['right'].set_visible(False)\n",
    "    ax_histx.spines['top'].set_visible(False)\n",
    "    \n",
    "    ax_histy.spines['right'].set_visible(False)\n",
    "    ax_histy.spines['top'].set_visible(False)\n",
    "    # ax_histx.axis('off')\n",
    "    # ax_histy.axis('off')\n",
    "    \n",
    "    # ---------------------------------------------------------------\n",
    "    \n",
    "    slope, intercept = np.polyfit(true, pred, 1)  # linear model adjustment\n",
    "    y_model = np.polyval([slope, intercept], true)   # modeling...\n",
    "    \n",
    "    print('slope {:.2f} int {:.2f}'.format(slope, intercept))\n",
    "\n",
    "    true_mean = np.mean(true)\n",
    "    pred_mean = np.mean(pred)\n",
    "    n = true.size                     # number of samples\n",
    "    m = 3                             # number of parameters\n",
    "    dof = n - m                       # degrees of freedom\n",
    "    t = stats.t.ppf(0.975, dof)       # Students statistic of interval confidence\n",
    "    \n",
    "    residual = true - pred\n",
    "    \n",
    "    std_error = (np.sum(residual**2) / dof)**.5   # Standard deviation of the error\n",
    "    \n",
    "    # calculating the r2\n",
    "    # https://www.statisticshowto.com/probability-and-statistics/coefficient-of-determination-r-squared/\n",
    "    # Pearson's correlation coefficient\n",
    "    numerator = np.sum((true - true_mean)*(pred - pred_mean))\n",
    "    denominator = ( np.sum((true - true_mean)**2) * np.sum((pred - pred_mean)**2) )**.5\n",
    "    correlation_coef = numerator / denominator\n",
    "    r2 = correlation_coef**2\n",
    "    r  = np.sqrt(r2)\n",
    "    print('r2 {:.2f}'.format(r2))\n",
    "    print('r  {:.2f}'.format(r))\n",
    "    \n",
    "    n = true.size\n",
    "    mse = 1/n * np.sum( (true - pred)**2 )\n",
    "    print('mse {:.2f}'.format(mse))\n",
    "    \n",
    "    # to plot the adjusted model\n",
    "    true_line = np.linspace(np.min(true), np.max(true), 100)\n",
    "    true_line = np.linspace(min(np.min(true),np.min(pred)), max(np.max(true),np.max(pred)), 100)\n",
    "    \n",
    "    pred_line = np.polyval([slope, intercept], true_line)\n",
    "    \n",
    "    # confidence interval\n",
    "    ci = t * std_error * (1/n + (true_line - true_mean)**2 / np.sum((true - true_mean)**2))**.5\n",
    "    # predicting interval\n",
    "    pi = t * std_error * (1 + 1/n + (true_line - true_mean)**2 / np.sum((true - true_mean)**2))**.5  \n",
    "\n",
    "    ax_scatter.plot(true_line, pred_line)\n",
    "    ax_scatter.fill_between(true_line, pred_line + pi, pred_line - pi, color = 'lightcyan', label = '95% prediction interval')\n",
    "    ax_scatter.fill_between(true_line, pred_line + ci, pred_line - ci, color = 'skyblue', label = '95% confidence interval')\n",
    "\n",
    "    # the scatter plot (again):\n",
    "    ax_scatter.scatter(true, pred)\n",
    "    \n",
    "    # rounding and position must be changed for each case and preference\n",
    "    a = str(np.round(intercept))\n",
    "    b = str(np.round(slope,2))\n",
    "    r2s = str(np.round(r2,2))\n",
    "    MSEs = str(np.round(mse))\n",
    "    \n",
    "    # ax_scatter.text(20, 64, 'y = ' + a + ' + ' + b + ' x')\n",
    "    # ax_scatter.text(20, 60, '$r^2$ = ' + r2s + '     MSE = ' + MSEs)\n",
    "    \n",
    "    # ax_scatter.legend(fontsize=12)\n",
    "    ax_scatter.legend(frameon=False)\n",
    "    \n",
    "    \n",
    "    # a belső (pici) 95% Confidence region\n",
    "    # a külső (nagy) 95% Confidence interval\n",
    "    \n",
    "    plt.show()\n"
   ]
  },
  {
   "cell_type": "code",
   "execution_count": 18,
   "metadata": {},
   "outputs": [],
   "source": [
    "from sklearn.linear_model import LinearRegression\n",
    "\n",
    "def create_model_for_metric(columnname: str, short=False, binwidth=3.0):\n",
    "    \n",
    "    f1 = mf.copy()\n",
    "    __next_name = columnname + 'Next'\n",
    "    __prev_name = columnname + 'Prev'\n",
    "\n",
    "    f1[__next_name] = f1[columnname].shift(-1)\n",
    "    f1[__prev_name] = f1[columnname].shift(+1)\n",
    "    \n",
    "    f1 = f1.dropna()\n",
    "\n",
    "    # Az lenne a korrekt ha kidobnám azokat ahol nem volt skálázás (delta_vm == 0)\n",
    "    \n",
    "    indexAge = f1[ (f1['delta_vm'] == 0) ].index\n",
    "    f1.drop(indexAge , inplace=True)\n",
    "\n",
    "    \n",
    "    __metric_term1 = columnname + '_term1'\n",
    "    __metric_term2 = columnname + '_term2'\n",
    "    f1[__metric_term1] = f1[columnname] * f1['worker_number']/(f1['worker_number'] + f1['delta_vm'])\n",
    "    f1[__metric_term2] = f1[columnname] * f1['delta_vm']/(f1['worker_number'] + f1['delta_vm'])\n",
    "    \n",
    "    __metric_term = f1[[__metric_term1, __metric_term2]]\n",
    "    __metric_next = f1[__next_name]\n",
    "    \n",
    "    print(__metric_term.shape, __metric_next.shape)\n",
    "\n",
    "    lr = LinearRegression(fit_intercept=True)\n",
    "\n",
    "    rr = lr.fit(__metric_term, __metric_next)\n",
    "    \n",
    "    # _ = joblib.dump(lr, './lr/lr_' + columnname + '.joblib', compress=9)\n",
    "\n",
    "    __fit_score = rr.score(__metric_term, __metric_next)\n",
    "    \n",
    "    __fit_coef_ = rr.coef_\n",
    "    \n",
    "    __fit_intercept_ = rr.intercept_\n",
    "    \n",
    "    __pred_metric = rr.predict(__metric_term)\n",
    "    \n",
    "    if short == True:\n",
    "        print('score  =', __fit_score)\n",
    "        print('coef   =', __fit_coef_)\n",
    "        print('intcpt =', __fit_intercept_)\n",
    "\n",
    "        print()\n",
    "    \n",
    "    # Uristen geci bazmeg, hogy én mekkora fasz vagyok\n",
    "#    plot_true_vs_pred(f1[columnname].values, __pred_metric)\n",
    "    # Ez itt a before vs pred_next\n",
    "    # Nem pedig a next vs pred_next\n",
    "    \n",
    "#    plot_true_vs_pred(f1[__next_name].values, __pred_metric)\n",
    "    # ugyan ez\n",
    "    # plot_true_vs_pred(__metric_next, __pred_metric)\n",
    "\n",
    "# A fenti kettő helyett van most ez az egy -> hogy egymás mellett legyenek\n",
    "    if short == False:\n",
    "        plot_true_vs_pred_two(f1[columnname].values, __pred_metric, f1[__next_name].values, __pred_metric)\n",
    "    \n",
    "    plot_true_vs_pred_hist_conf(f1[__next_name].values, __pred_metric, binwidth)\n"
   ]
  },
  {
   "cell_type": "code",
   "execution_count": 19,
   "metadata": {},
   "outputs": [],
   "source": [
    "# Ezek itt a delta_metric_pred, delta_metric_true pred plottok\n",
    "\n",
    "# Az lr álltal a metrika pred after scaling vs metrika true after scaling értékeket vetik össze.\n",
    "\n",
    "# True vs Pred\n",
    "\n",
    "# ------------\n",
    "\n",
    "# Viszont a score, coef, intercpt értékek a modellből vannak számolva\n",
    "\n",
    "# Viszont a slope, r2, r, mse viszot a becslés jóságát nézik (pred vs true)"
   ]
  },
  {
   "cell_type": "code",
   "execution_count": 20,
   "metadata": {},
   "outputs": [
    {
     "name": "stdout",
     "output_type": "stream",
     "text": [
      "(194, 2) (194,)\n",
      "score  = 0.8891952695428373\n",
      "coef   = [0.87016971 0.58266153]\n",
      "intcpt = 1.8585627908563147\n",
      "\n",
      "slope 0.89 int 2.35\n",
      "r2 0.89\n",
      "r  0.94\n",
      "mse 25.76\n"
     ]
    },
    {
     "data": {
      "image/png": "[encoded data removed]",
      "text/plain": [
       "<Figure size 345.6x345.6 with 3 Axes>"
      ]
     },
     "metadata": {
      "needs_background": "light"
     },
     "output_type": "display_data"
    }
   ],
   "source": [
    "create_model_for_metric('CPU0User%', short=True)"
   ]
  },
  {
   "cell_type": "code",
   "execution_count": 21,
   "metadata": {},
   "outputs": [
    {
     "name": "stdout",
     "output_type": "stream",
     "text": [
      "(194, 2) (194,)\n",
      "score  = 0.6855208987373714\n",
      "coef   = [0.81839626 0.98981005]\n",
      "intcpt = 11.573752182180385\n",
      "\n",
      "slope 0.69 int 16.38\n",
      "r2 0.69\n",
      "r  0.83\n",
      "mse 154.14\n"
     ]
    },
    {
     "data": {
      "image/png": "[encoded data removed]",
      "text/plain": [
       "<Figure size 345.6x345.6 with 3 Axes>"
      ]
     },
     "metadata": {
      "needs_background": "light"
     },
     "output_type": "display_data"
    }
   ],
   "source": [
    "create_model_for_metric('CPU0Idle%', short=True)"
   ]
  },
  {
   "cell_type": "code",
   "execution_count": 22,
   "metadata": {
    "scrolled": false
   },
   "outputs": [
    {
     "name": "stdout",
     "output_type": "stream",
     "text": [
      "(194, 2) (194,)\n",
      "score  = 0.7335595636002967\n",
      "coef   = [0.84706443 0.91930659]\n",
      "intcpt = 13.845818401888309\n",
      "\n",
      "slope 0.73 int 22.57\n",
      "r2 0.73\n",
      "r  0.86\n",
      "mse 1471.75\n"
     ]
    },
    {
     "data": {
      "image/png": "[encoded data removed]",
      "text/plain": [
       "<Figure size 345.6x345.6 with 3 Axes>"
      ]
     },
     "metadata": {
      "needs_background": "light"
     },
     "output_type": "display_data"
    }
   ],
   "source": [
    "create_model_for_metric('[DSK:sda]RMerge', short=True)"
   ]
  },
  {
   "cell_type": "code",
   "execution_count": 23,
   "metadata": {},
   "outputs": [],
   "source": [
    "from sklearn.linear_model import LinearRegression\n",
    "\n",
    "def get_all(columnname: str, short=True):\n",
    "    \n",
    "    f1 = mf.copy()\n",
    "    __next_name = columnname + 'Next'\n",
    "    __prev_name = columnname + 'Prev'\n",
    "\n",
    "    f1[__next_name] = f1[columnname].shift(-1)\n",
    "    f1[__prev_name] = f1[columnname].shift(+1)\n",
    "    \n",
    "    f1 = f1.dropna()\n",
    "\n",
    "    # Az lenne a korrekt ha kidobnám azokat ahol nem volt skálázás (delta_vm == 0)\n",
    "    \n",
    "    indexAge = f1[ (f1['delta_vm'] == 0) ].index\n",
    "    f1.drop(indexAge , inplace=True)\n",
    "    \n",
    "    __metric_term1 = columnname + '_term1'\n",
    "    __metric_term2 = columnname + '_term2'\n",
    "    f1[__metric_term1] = f1[columnname] * f1['worker_number']/(f1['worker_number'] + f1['delta_vm'])\n",
    "    f1[__metric_term2] = f1[columnname] * f1['delta_vm']/(f1['worker_number'] + f1['delta_vm'])\n",
    "    \n",
    "    __metric_term = f1[[__metric_term1, __metric_term2]]\n",
    "    __metric_next = f1[__next_name]\n",
    "\n",
    "    \n",
    "    s = (__metric_term.shape, __metric_next.shape)\n",
    "    \n",
    "\n",
    "    lr = LinearRegression(fit_intercept=True)\n",
    "    rr = lr.fit(__metric_term, __metric_next)\n",
    "    rr.score(__metric_term, __metric_next)\n",
    "\n",
    "    __fit_score = rr.score(__metric_term, __metric_next)\n",
    "    __fit_coef_ = rr.coef_\n",
    "    __fit_intercept_ = rr.intercept_\n",
    "\n",
    "    __pred_metric = rr.predict(__metric_term)\n",
    "\n",
    "    if short == False:\n",
    "        print('score  =', __fit_score)\n",
    "        print('coef   =', __fit_coef_)\n",
    "        print('intcpt =', __fit_intercept_)\n",
    "\n",
    "        print()\n",
    "    \n",
    "#--------------------\n",
    "\n",
    "    true = f1[__next_name].values\n",
    "    pred = __pred_metric\n",
    "\n",
    "    \n",
    "    slope, intercept = np.polyfit(true, pred, 1)  # linear model adjustment\n",
    "    y_model = np.polyval([slope, intercept], true)   # modeling...\n",
    "\n",
    "    if short == False:\n",
    "        print('slope {:.2f} int {:.2f}'.format(slope, intercept))\n",
    "\n",
    "    true_mean = np.mean(true)\n",
    "    pred_mean = np.mean(pred)\n",
    "    n = true.size                     # number of samples\n",
    "    m = 3                             # number of parameters\n",
    "    dof = n - m                       # degrees of freedom\n",
    "    t = stats.t.ppf(0.975, dof)       # Students statistic of interval confidence\n",
    "    \n",
    "    residual = true - pred\n",
    "    \n",
    "    std_error = (np.sum(residual**2) / dof)**.5   # Standard deviation of the error\n",
    "\n",
    "    # calculating the r2\n",
    "    # https://www.statisticshowto.com/probability-and-statistics/coefficient-of-determination-r-squared/\n",
    "    # Pearson's correlation coefficient\n",
    "    numerator = np.sum((true - true_mean)*(pred - pred_mean))\n",
    "    denominator = ( np.sum((true - true_mean)**2) * np.sum((pred - pred_mean)**2) )**.5\n",
    "    correlation_coef = numerator / denominator\n",
    "    r2 = correlation_coef**2\n",
    "    r  = np.sqrt(r2)\n",
    "\n",
    "    n = true.size\n",
    "    mse = 1/n * np.sum( (true - pred)**2 )\n",
    "    \n",
    "    if short == False:\n",
    "    \n",
    "        print('r2 {:.2f}'.format(r2))\n",
    "        print('r  {:.2f}'.format(r))\n",
    "        print('mse {:.2f}'.format(mse))\n",
    "\n",
    "    return {'f1.shape': s,\n",
    "            'score_or': __fit_score,\n",
    "            'coef_or': __fit_coef_,\n",
    "            'intercept_or': __fit_intercept_,\n",
    "            'slope_tp': slope,\n",
    "            'intercept_tp': intercept,\n",
    "            'r2': r2,\n",
    "            'r': r,\n",
    "            'mse': mse}"
   ]
  },
  {
   "cell_type": "code",
   "execution_count": 24,
   "metadata": {},
   "outputs": [
    {
     "data": {
      "text/plain": [
       "{'f1.shape': ((194, 2), (194,)),\n",
       " 'score_or': 0.9000095691719929,\n",
       " 'coef_or': array([0.87125765, 0.57701614]),\n",
       " 'intercept_or': 3.239872776265514,\n",
       " 'slope_tp': 0.9000095691719932,\n",
       " 'intercept_tp': 3.799739454382645,\n",
       " 'r2': 0.9000095691719927,\n",
       " 'r': 0.9486883414335778,\n",
       " 'mse': 77.15242046307432}"
      ]
     },
     "execution_count": 24,
     "metadata": {},
     "output_type": "execute_result"
    }
   ],
   "source": [
    "get_all('CPU0Total%')"
   ]
  },
  {
   "cell_type": "code",
   "execution_count": 25,
   "metadata": {},
   "outputs": [],
   "source": [
    "# Fentinek meg az alábbinak azonosnak kell lennie -> ez csak egy ellenőrzés"
   ]
  },
  {
   "cell_type": "code",
   "execution_count": 26,
   "metadata": {},
   "outputs": [
    {
     "name": "stdout",
     "output_type": "stream",
     "text": [
      "(194, 2) (194,)\n",
      "score  = 0.9000095691719929\n",
      "coef   = [0.87125765 0.57701614]\n",
      "intcpt = 3.239872776265514\n",
      "\n",
      "slope 0.90 int 3.80\n",
      "r2 0.90\n",
      "r  0.95\n",
      "mse 77.15\n"
     ]
    },
    {
     "data": {
      "image/png": "[encoded data removed]",
      "text/plain": [
       "<Figure size 345.6x345.6 with 3 Axes>"
      ]
     },
     "metadata": {
      "needs_background": "light"
     },
     "output_type": "display_data"
    }
   ],
   "source": [
    "create_model_for_metric('CPU0Total%', short=True, binwidth=1.0)"
   ]
  },
  {
   "cell_type": "code",
   "execution_count": 27,
   "metadata": {},
   "outputs": [
    {
     "name": "stdout",
     "output_type": "stream",
     "text": [
      "\u001b[33m---------------------------------------\u001b[0m\n",
      "\u001b[31m---------------------------------------\u001b[0m\n",
      "\u001b[34m---------------------------------------\u001b[0m\n",
      "\u001b[32m---------------------------------------\u001b[0m\n",
      "\u001b[35m---------------------------------------\u001b[0m\n",
      "\u001b[36m---------------------------------------\u001b[0m\n",
      "\u001b[40m\u001b[31m--------------\u001b[0m\n",
      "\u001b[1m\u001b[40m\u001b[31m--------------\u001b[0m\n",
      "\u001b[7m\u001b[1m\u001b[40m\u001b[31m--------------\u001b[0m\n",
      "\u001b[8m\u001b[1m\u001b[40m\u001b[31m--------------\u001b[0m\n"
     ]
    }
   ],
   "source": [
    "print(colored('---------------------------------------', 'yellow'))\n",
    "print(colored('---------------------------------------', 'red'))\n",
    "print(colored('---------------------------------------', 'blue'))\n",
    "print(colored('---------------------------------------', 'green'))\n",
    "print(colored('---------------------------------------', 'magenta'))\n",
    "print(colored('---------------------------------------', 'cyan'))\n",
    "\n",
    "print(colored('--------------', color='red', on_color='on_grey'))\n",
    "\n",
    "print(colored('--------------', color='red', on_color='on_grey', attrs=['bold']))\n",
    "\n",
    "print(colored('--------------', color='red', on_color='on_grey', attrs=['bold', 'reverse']))\n",
    "\n",
    "print(colored('--------------', color='red', on_color='on_grey', attrs=['bold', 'concealed']))"
   ]
  },
  {
   "cell_type": "code",
   "execution_count": 28,
   "metadata": {},
   "outputs": [],
   "source": [
    "def get_terms_for_metric(columnname: str):\n",
    "    \n",
    "    f1 = mf.copy()\n",
    "    __next_name = columnname + 'Next'\n",
    "    __prev_name = columnname + 'Prev'\n",
    "\n",
    "    f1[__next_name] = f1[columnname].shift(-1)\n",
    "    f1[__prev_name] = f1[columnname].shift(+1)\n",
    "    \n",
    "    f1 = f1.dropna()\n",
    "\n",
    "    # Az lenne a korrekt ha kidobnám azokat ahol nem volt skálázás (delta_vm == 0)\n",
    "    \n",
    "    indexAge = f1[ (f1['delta_vm'] == 0) ].index\n",
    "    f1.drop(indexAge , inplace=True)\n",
    "    \n",
    "    __metric_term1 = columnname + '_term1'\n",
    "    __metric_term2 = columnname + '_term2'\n",
    "    f1[__metric_term1] = f1[columnname] * f1['worker_number']/(f1['worker_number'] + f1['delta_vm'])\n",
    "    f1[__metric_term2] = f1[columnname] * f1['delta_vm']/(f1['worker_number'] + f1['delta_vm'])\n",
    "    \n",
    "    __metric_term = f1[[__metric_term1, __metric_term2]]\n",
    "    __metric_next = f1[__next_name]\n",
    "    \n",
    "    return __metric_term, __metric_next, f1"
   ]
  },
  {
   "cell_type": "code",
   "execution_count": null,
   "metadata": {},
   "outputs": [],
   "source": []
  },
  {
   "cell_type": "code",
   "execution_count": 29,
   "metadata": {},
   "outputs": [
    {
     "name": "stdout",
     "output_type": "stream",
     "text": [
      "<class 'pandas.core.frame.DataFrame'> (194, 3)\n",
      "------------------------------------------------------------------------------\n",
      "                            OLS Regression Results                            \n",
      "==============================================================================\n",
      "Dep. Variable:         CPU0Total%Next   R-squared:                       0.900\n",
      "Model:                            OLS   Adj. R-squared:                  0.899\n",
      "Method:                 Least Squares   F-statistic:                     859.6\n",
      "Date:                Sun, 14 May 2023   Prob (F-statistic):           3.13e-96\n",
      "Time:                        14:11:58   Log-Likelihood:                -696.82\n",
      "No. Observations:                 194   AIC:                             1400.\n",
      "Df Residuals:                     191   BIC:                             1409.\n",
      "Df Model:                           2                                         \n",
      "Covariance Type:            nonrobust                                         \n",
      "====================================================================================\n",
      "                       coef    std err          t      P>|t|      [0.025      0.975]\n",
      "------------------------------------------------------------------------------------\n",
      "const                3.2399      1.087      2.981      0.003       1.096       5.384\n",
      "CPU0Total%_term1     0.8713      0.023     37.963      0.000       0.826       0.917\n",
      "CPU0Total%_term2     0.5770      0.028     20.940      0.000       0.523       0.631\n",
      "==============================================================================\n",
      "Omnibus:                       13.177   Durbin-Watson:                   2.586\n",
      "Prob(Omnibus):                  0.001   Jarque-Bera (JB):               21.129\n",
      "Skew:                           0.379   Prob(JB):                     2.58e-05\n",
      "Kurtosis:                       4.428   Cond. No.                         121.\n",
      "==============================================================================\n",
      "\n",
      "Notes:\n",
      "[1] Standard Errors assume that the covariance matrix of the errors is correctly specified.\n",
      "------------------------------------------------------------------------------\n",
      "\n",
      "coefficient of determination: \t\t0.90\n",
      "\n",
      "adjusted coefficient of determination: \t0.90\n",
      "\n",
      "regression coefficients: const               3.239873\n",
      "CPU0Total%_term1    0.871258\n",
      "CPU0Total%_term2    0.577016\n",
      "dtype: float64\n",
      "------------------------------------------------------------------------------\n",
      "\u001b[8m\u001b[1m\u001b[40m\u001b[31m------------------------------------------------------------------------------\u001b[0m\n"
     ]
    }
   ],
   "source": [
    "import statsmodels.api as sm\n",
    "\n",
    "__metric_term, __metric_next, f1 = get_terms_for_metric('CPU0Total%')\n",
    "\n",
    "_x = sm.add_constant(__metric_term)\n",
    "\n",
    "print(type(_x), _x.shape)\n",
    "\n",
    "model = sm.OLS(__metric_next, _x)\n",
    "\n",
    "results = model.fit()\n",
    "\n",
    "print('------------------------------------------------------------------------------')\n",
    "print(results.summary())\n",
    "print('------------------------------------------------------------------------------')\n",
    "\n",
    "print(f'\\ncoefficient of determination: \\t\\t{results.rsquared:.2f}')\n",
    "print(f'\\nadjusted coefficient of determination: \\t{results.rsquared_adj:.2f}')\n",
    "print(f'\\nregression coefficients: {results.params}')    \n",
    "# print(f'predicted response:\\n{results.fittedvalues}')\n",
    "# print(f'predicted response:\\n{results.predict(_x.loc[l])}')\n",
    "print('------------------------------------------------------------------------------')\n",
    "print(colored('------------------------------------------------------------------------------', color='red', on_color='on_grey', attrs=['bold', 'concealed']))\n"
   ]
  },
  {
   "cell_type": "markdown",
   "metadata": {},
   "source": [
    "# Ez itt most egy kisérleti szakasz\n",
    "\n",
    "valamit vizsgálok utána pedig törölöm."
   ]
  },
  {
   "cell_type": "code",
   "execution_count": 30,
   "metadata": {},
   "outputs": [],
   "source": [
    "from __future__ import print_function\n",
    "from ipywidgets import interact, interactive, fixed, interact_manual\n",
    "import ipywidgets as widgets"
   ]
  },
  {
   "cell_type": "code",
   "execution_count": 31,
   "metadata": {},
   "outputs": [],
   "source": [
    "cn = mf.columns[4:-4]"
   ]
  },
  {
   "cell_type": "code",
   "execution_count": 32,
   "metadata": {},
   "outputs": [],
   "source": [
    "\n",
    "\n",
    "# Ugyan ez az original modell alapján (nincs közöttük interakció)\n",
    "\n"
   ]
  },
  {
   "cell_type": "code",
   "execution_count": 33,
   "metadata": {},
   "outputs": [],
   "source": [
    "def get_terms_for_metric_with_extra(columnname: str, extra: str):\n",
    "    \n",
    "    f1 = mf.copy()\n",
    "    __next_name = columnname + 'Next'\n",
    "    __prev_name = columnname + 'Prev'\n",
    "\n",
    "    f1[__next_name] = f1[columnname].shift(-1)\n",
    "    f1[__prev_name] = f1[columnname].shift(+1)\n",
    "    \n",
    "    f1 = f1.dropna()\n",
    "\n",
    "    # Az lenne a korrekt ha kidobnám azokat ahol nem volt skálázás (delta_vm == 0)\n",
    "    \n",
    "    indexAge = f1[ (f1['delta_vm'] == 0) ].index\n",
    "    f1.drop(indexAge , inplace=True)\n",
    "    \n",
    "    __metric_term1 = columnname + '_term1'\n",
    "    __metric_term2 = columnname + '_term2'\n",
    "    __metric_term3 = extra + '_term1'\n",
    "    __metric_term4 = extra + '_term2'\n",
    "    f1[__metric_term1] = f1[columnname] * f1['worker_number']/(f1['worker_number'] + f1['delta_vm'])\n",
    "    f1[__metric_term2] = f1[columnname] * f1['delta_vm']/(f1['worker_number'] + f1['delta_vm'])\n",
    "\n",
    "    f1[__metric_term3] = f1[extra] * f1['worker_number']/(f1['worker_number'] + f1['delta_vm'])\n",
    "    f1[__metric_term4] = f1[extra] * f1['delta_vm']/(f1['worker_number'] + f1['delta_vm'])\n",
    "    \n",
    "    __metric_term = f1[[__metric_term1, __metric_term2, __metric_term3, __metric_term4]]\n",
    "    __metric_next = f1[__next_name]\n",
    "    \n",
    "    return __metric_term, __metric_next, f1"
   ]
  },
  {
   "cell_type": "code",
   "execution_count": 34,
   "metadata": {},
   "outputs": [],
   "source": [
    "\n",
    "# csak át akarom pörgetni nézni, hogy milyen eredményeket ad extra változókra a paraszt\n",
    "\n",
    "def tmp(extra: str):\n",
    "\n",
    "    # Origina wit Extra ->\n",
    "    __metric_term, __metric_next, f1 = get_terms_for_metric_with_extra('CPU0Total%', extra)\n",
    "\n",
    "    _x = sm.add_constant(__metric_term)\n",
    "\n",
    "    model = sm.OLS(__metric_next, _x)\n",
    "\n",
    "    results = model.fit()\n",
    "\n",
    "    print('------------------------------------------------------------------------------')\n",
    "    print(results.summary())\n",
    "    print('------------------------------------------------------------------------------')\n",
    "\n",
    "    print(f'\\ncoefficient of determination: \\t\\t{results.rsquared:.2f}')\n",
    "    print(f'\\nadjusted coefficient of determination: \\t{results.rsquared_adj:.2f}')\n",
    "    print(f'\\nregression coefficients: {results.params}')    \n",
    "    print('------------------------------------------------------------------------------')\n"
   ]
  },
  {
   "cell_type": "code",
   "execution_count": 35,
   "metadata": {},
   "outputs": [
    {
     "data": {
      "application/vnd.jupyter.widget-view+json": {
       "model_id": "064e07e3c1af4cd0a35007627ba55e48",
       "version_major": 2,
       "version_minor": 0
      },
      "text/plain": [
       "interactive(children=(Dropdown(description='extra', options=('response_time', 'worker_number', 'request_rate',…"
      ]
     },
     "metadata": {},
     "output_type": "display_data"
    }
   ],
   "source": [
    "interact(tmp, extra=cn);"
   ]
  },
  {
   "cell_type": "code",
   "execution_count": 36,
   "metadata": {},
   "outputs": [],
   "source": [
    "\n",
    "\n",
    "# Ugyanez az original modellel (de még az interakciót is hozzáadom)\n",
    "\n"
   ]
  },
  {
   "cell_type": "code",
   "execution_count": 37,
   "metadata": {},
   "outputs": [],
   "source": [
    "def get_terms_for_metric_with_extra_and_interaction(columnname: str, extra: str):\n",
    "    \n",
    "    f1 = mf.copy()\n",
    "    __next_name = columnname + 'Next'\n",
    "    __prev_name = columnname + 'Prev'\n",
    "\n",
    "    f1[__next_name] = f1[columnname].shift(-1)\n",
    "    f1[__prev_name] = f1[columnname].shift(+1)\n",
    "    \n",
    "    f1 = f1.dropna()\n",
    "\n",
    "    # Az lenne a korrekt ha kidobnám azokat ahol nem volt skálázás (delta_vm == 0)\n",
    "    \n",
    "    indexAge = f1[ (f1['delta_vm'] == 0) ].index\n",
    "    f1.drop(indexAge , inplace=True)\n",
    "    \n",
    "    __metric_term1 = columnname + '_term1'\n",
    "    __metric_term2 = columnname + '_term2'\n",
    "    __metric_term3 = extra + '_term1'\n",
    "    __metric_term4 = extra + '_term2'\n",
    "    __metric_term5 = columnname + '_' + extra\n",
    "    f1[__metric_term1] = f1[columnname] * f1['worker_number']/(f1['worker_number'] + f1['delta_vm'])\n",
    "    f1[__metric_term2] = f1[columnname] * f1['delta_vm']/(f1['worker_number'] + f1['delta_vm'])\n",
    "\n",
    "    f1[__metric_term3] = f1[extra] * f1['worker_number']/(f1['worker_number'] + f1['delta_vm'])\n",
    "    f1[__metric_term4] = f1[extra] * f1['delta_vm']/(f1['worker_number'] + f1['delta_vm'])\n",
    "    \n",
    "    f1[__metric_term5] = f1[columnname] * f1[extra]\n",
    "    \n",
    "    __metric_term = f1[[__metric_term1, __metric_term2, __metric_term3, __metric_term4, __metric_term5]]\n",
    "    __metric_next = f1[__next_name]\n",
    "    \n",
    "    return __metric_term, __metric_next, f1"
   ]
  },
  {
   "cell_type": "code",
   "execution_count": 38,
   "metadata": {},
   "outputs": [],
   "source": [
    "\n",
    "# csak át akarom pörgetni nézni, hogy milyen eredményeket ad extra változókra a paraszt\n",
    "\n",
    "def tmp(extra: str):\n",
    "\n",
    "    # Origina wit Extra ->\n",
    "    __metric_term, __metric_next, f1 = get_terms_for_metric_with_extra_and_interaction('CPU0Total%', extra)\n",
    "\n",
    "    _x = sm.add_constant(__metric_term)\n",
    "\n",
    "    model = sm.OLS(__metric_next, _x)\n",
    "\n",
    "    results = model.fit()\n",
    "\n",
    "    print('------------------------------------------------------------------------------')\n",
    "    print(results.summary())\n",
    "    print('------------------------------------------------------------------------------')\n",
    "\n",
    "    print(f'\\ncoefficient of determination: \\t\\t{results.rsquared:.2f}')\n",
    "    print(f'\\nadjusted coefficient of determination: \\t{results.rsquared_adj:.2f}')\n",
    "    print(f'\\nregression coefficients: {results.params}')    \n",
    "    print('------------------------------------------------------------------------------')\n"
   ]
  },
  {
   "cell_type": "code",
   "execution_count": 39,
   "metadata": {},
   "outputs": [
    {
     "data": {
      "application/vnd.jupyter.widget-view+json": {
       "model_id": "d117d4400a5f4278a0ecd5dfd649dbba",
       "version_major": 2,
       "version_minor": 0
      },
      "text/plain": [
       "interactive(children=(Dropdown(description='extra', options=('response_time', 'worker_number', 'request_rate',…"
      ]
     },
     "metadata": {},
     "output_type": "display_data"
    }
   ],
   "source": [
    "interact(tmp, extra=cn);"
   ]
  },
  {
   "cell_type": "code",
   "execution_count": 40,
   "metadata": {},
   "outputs": [
    {
     "data": {
      "text/plain": [
       "Index(['CPU0Total%_term1', 'CPU0Total%_term2'], dtype='object')"
      ]
     },
     "execution_count": 40,
     "metadata": {},
     "output_type": "execute_result"
    }
   ],
   "source": [
    "__metric_term.columns"
   ]
  },
  {
   "cell_type": "code",
   "execution_count": 41,
   "metadata": {},
   "outputs": [],
   "source": [
    "\n",
    "\n",
    "# Ezt azért hagyom itt mert lehet, hogy egyszer az sm.OLS segítségével fogom becsülni az LR-t\n",
    "# és akkor itt van összerakva, hogyan lehet abból a modelből kszámolni a predicted értéket\n"
   ]
  },
  {
   "cell_type": "code",
   "execution_count": 97,
   "metadata": {},
   "outputs": [],
   "source": [
    "\n",
    "# Megfigyelés\n",
    "\n",
    "# Nem igazán segít ha hozzáadok a modellhez egy egy változót\n"
   ]
  },
  {
   "cell_type": "code",
   "execution_count": 42,
   "metadata": {},
   "outputs": [],
   "source": [
    "\n",
    "\n",
    "# Tényleg csak kiviből, mi van ha az összeset hozzáadom\n",
    "\n"
   ]
  },
  {
   "cell_type": "code",
   "execution_count": 43,
   "metadata": {},
   "outputs": [],
   "source": [
    "names = [\n",
    "    'CPU0User%', 'CPU0Idle%', 'CPU0Total%', '[DSK:sda]Reads',\n",
    "    '[DSK:sda]RMerge', '[DSK:sda]RKBytes', '[DSK:sda]WaitR', '[DSK:sda]Writes',\n",
    "    '[DSK:sda]WMerge', '[DSK:sda]WKBytes', '[DSK:sda]WaitW',\n",
    "    '[DSK:sda]Request', '[DSK:sda]Wait', '[DSK:sda]SvcTim', '[DSK:sda]Util',\n",
    "    '[NUMA:0]Used', '[NUMA:0]Free', '[NUMA:0]Slab', '[NUMA:0]Mapped',\n",
    "    '[NUMA:0]Anon', '[NUMA:0]Inactive', '[TCPD]InReceives', '[TCPD]InDelivers',\n",
    "    '[TCPD]OutRequests', '[TCPD]InSegs', '[TCPD]OutSegs'\n",
    "]"
   ]
  },
  {
   "cell_type": "code",
   "execution_count": 44,
   "metadata": {},
   "outputs": [],
   "source": [
    "def get_terms_for_metric_with_all(columnname: str):\n",
    "    \n",
    "    f1 = mf.copy()\n",
    "    __next_name = columnname + 'Next'\n",
    "    __prev_name = columnname + 'Prev'\n",
    "\n",
    "    f1[__next_name] = f1[columnname].shift(-1)\n",
    "    f1[__prev_name] = f1[columnname].shift(+1)\n",
    "    \n",
    "    f1 = f1.dropna()\n",
    "\n",
    "    # Az lenne a korrekt ha kidobnám azokat ahol nem volt skálázás (delta_vm == 0)\n",
    "    \n",
    "    indexAge = f1[ (f1['delta_vm'] == 0) ].index\n",
    "    f1.drop(indexAge , inplace=True)\n",
    "    \n",
    "    __metric_term1 = columnname + '_term1'\n",
    "    __metric_term2 = columnname + '_term2'\n",
    "    f1[__metric_term1] = f1[columnname] * f1['worker_number']/(f1['worker_number'] + f1['delta_vm'])\n",
    "    f1[__metric_term2] = f1[columnname] * f1['delta_vm']/(f1['worker_number'] + f1['delta_vm'])\n",
    "    \n",
    "    __terms = []\n",
    "    \n",
    "    __terms.append(__metric_term1)\n",
    "    __terms.append(__metric_term2)\n",
    "    \n",
    "    for name in names:\n",
    "        __metric_term_a = name + 'term1'\n",
    "        __metric_term_b = name + 'term2'\n",
    "        __metric_term_c = name + 'term3'\n",
    "        \n",
    "        f1[__metric_term_a] = f1[name] * f1['worker_number']/(f1['worker_number'] + f1['delta_vm'])\n",
    "        f1[__metric_term_b] = f1[name] * f1['delta_vm']/(f1['worker_number'] + f1['delta_vm'])\n",
    "        f1[__metric_term_c] = f1[columnname] * f1[name]\n",
    "    \n",
    "        __terms.append(__metric_term_a)\n",
    "        __terms.append(__metric_term_b)\n",
    "        __terms.append(__metric_term_c)\n",
    "    \n",
    "    # __metric_term = f1[[__metric_term1, __metric_term2, __metric_term3, __metric_term4, __metric_term5]]\n",
    "    __metric_term = f1[__terms]\n",
    "    __metric_next = f1[__next_name]\n",
    "    \n",
    "    return __metric_term, __metric_next, f1"
   ]
  },
  {
   "cell_type": "code",
   "execution_count": 45,
   "metadata": {},
   "outputs": [],
   "source": [
    "\n",
    "def tmp(metric):\n",
    "\n",
    "    metric = metric\n",
    "    metric_next = metric + 'Next'\n",
    "\n",
    "    bins = 10000.0\n",
    "\n",
    "    # 0. (Original)\n",
    "    __metric_term, __metric_next, f1 = get_terms_for_metric(metric)\n",
    "\n",
    "    _x = sm.add_constant(__metric_term)\n",
    "    model = sm.OLS(__metric_next, _x)\n",
    "    results = model.fit()\n",
    "    pred = results.predict(_x)\n",
    "    pred = results.fittedvalues\n",
    "\n",
    "    # print('Original')\n",
    "    # plot_true_vs_pred_two(f1[metric].values, pred, f1[metric_next].values, pred)\n",
    "    plot_true_vs_pred_hist_conf(f1[metric_next].values, pred, bins)\n",
    "\n",
    "\n",
    "    # 6. (All)\n",
    "    __metric_term, __metric_next, f1 = get_terms_for_metric_with_all(metric)\n",
    "\n",
    "    _x = sm.add_constant(__metric_term)\n",
    "    model = sm.OLS(__metric_next, _x)\n",
    "    results = model.fit()\n",
    "    pred = results.predict(_x)\n",
    "    pred = results.fittedvalues\n",
    "\n",
    "    # print('Original with All and interaction')\n",
    "    # plot_true_vs_pred_two(f1[metric].values, pred, f1[metric_next].values, pred)\n",
    "    plot_true_vs_pred_hist_conf(f1[metric_next].values, pred, bins)"
   ]
  },
  {
   "cell_type": "code",
   "execution_count": 103,
   "metadata": {},
   "outputs": [
    {
     "data": {
      "application/vnd.jupyter.widget-view+json": {
       "model_id": "69e8ff6dd62d4de79dc591180ef2ab73",
       "version_major": 2,
       "version_minor": 0
      },
      "text/plain": [
       "interactive(children=(Dropdown(description='metric', options=('response_time', 'worker_number', 'request_rate'…"
      ]
     },
     "metadata": {},
     "output_type": "display_data"
    }
   ],
   "source": [
    "interact(tmp, metric=cn);"
   ]
  },
  {
   "cell_type": "code",
   "execution_count": null,
   "metadata": {},
   "outputs": [],
   "source": [
    "\n",
    "\n",
    "# A tanulság\n",
    "\n",
    "# Ha mindegyiket mellé veszem akkor egyes változókat fel lehet hozni,\n",
    "# Néhányat ami jó még jobbá tenni\n",
    "\n",
    "# Kérdés persze, hogy mükdöik-e ez az életben, de az LR becslésük, hogy hova kerülnek\n",
    "# egy felskálázás után az biztosan javul\n",
    "\n"
   ]
  },
  {
   "cell_type": "markdown",
   "metadata": {},
   "source": [
    "## Kísérleti szakasz vége\n",
    "\n",
    "Végeztem azzal amit meg akartam vizsgálni."
   ]
  },
  {
   "cell_type": "code",
   "execution_count": 46,
   "metadata": {},
   "outputs": [],
   "source": [
    "import tensorflow as tf\n",
    "tf.get_logger().setLevel('INFO')\n",
    "\n",
    "# sets seeds for base-python, numpy and tf\n",
    "tf.keras.utils.set_random_seed(42)\n",
    "tf.config.experimental.enable_op_determinism()"
   ]
  },
  {
   "cell_type": "code",
   "execution_count": null,
   "metadata": {},
   "outputs": [],
   "source": [
    "# így ilyen sorrendben szerepelnek a metrikák a metric_log filében"
   ]
  },
  {
   "cell_type": "code",
   "execution_count": null,
   "metadata": {},
   "outputs": [],
   "source": [
    "worker_give_metrics\n",
    "write_to_csv_time\n",
    "time\n",
    "response_time_p95\n",
    "response_time\n",
    "worker_number\n",
    "request_rate\n",
    "CPU0User%\n",
    "CPU0Idle%\n",
    "CPU0Total%\n",
    "[DSK:sda]Reads\n",
    "[DSK:sda]RMerge\n",
    "[DSK:sda]RKBytes\n",
    "[DSK:sda]WaitR\n",
    "[DSK:sda]Writes\n",
    "[DSK:sda]WMerge\n",
    "[DSK:sda]WKBytes\n",
    "[DSK:sda]WaitW\n",
    "[DSK:sda]Request\n",
    "[DSK:sda]QueLen\n",
    "[DSK:sda]Wait\n",
    "[DSK:sda]SvcTim\n",
    "[DSK:sda]Util\n",
    "[NUMA:0]Used\n",
    "[NUMA:0]Free\n",
    "[NUMA:0]Slab\n",
    "[NUMA:0]Mapped\n",
    "[NUMA:0]Anon\n",
    "[NUMA:0]AnonH\n",
    "[NUMA:0]Inactive\n",
    "[NUMA:0]Hits\n",
    "[TCPD]InReceives\n",
    "[TCPD]InDeliversm\n",
    "[TCPD]OutRequests\n",
    "[TCPD]InSegs\n",
    "[TCPD]OutSegs"
   ]
  },
  {
   "cell_type": "code",
   "execution_count": 250,
   "metadata": {},
   "outputs": [
    {
     "name": "stdout",
     "output_type": "stream",
     "text": [
      "[[  15.72   22.25 1475.04]]\n",
      "First example: [[  0.4   9.8 182.4]]\n",
      "Normalized   : [[-1.25 -0.77 -0.77]]\n",
      "Model: \"sequential_4\"\n",
      "_________________________________________________________________\n",
      " Layer (type)                Output Shape              Param #   \n",
      "=================================================================\n",
      " normalization_4 (Normalizat  (None, 3)                7         \n",
      " ion)                                                            \n",
      "                                                                 \n",
      " dense_12 (Dense)            (None, 30)                120       \n",
      "                                                                 \n",
      " dense_13 (Dense)            (None, 15)                465       \n",
      "                                                                 \n",
      " dense_14 (Dense)            (None, 1)                 16        \n",
      "                                                                 \n",
      "=================================================================\n",
      "Total params: 608\n",
      "Trainable params: 601\n",
      "Non-trainable params: 7\n",
      "_________________________________________________________________\n"
     ]
    }
   ],
   "source": [
    "# Csak a jó linregesek (17.8%)\n",
    "input_variables = ['request_rate',\n",
    "                   'CPU0Idle%',\n",
    "                   '[NUMA:0]Anon',\n",
    "                   '[NUMA:0]Mapped',\n",
    "                   '[NUMA:0]Inactive',\n",
    "                   '[TCPD]InSegs',\n",
    "                   '[TCPD]OutSegs']\n",
    "# Fent -> hiába tökéletes a model az actionok után hülyeségeket mond\n",
    "\n",
    "# Korábban peig azt láttam, hogy ezek vannak jó linearitásban a delta_vm-el\n",
    "# Amik a korábbi elemzések alapján szóba jöhet\n",
    "input_variables = ['request_rate',\n",
    "                   'CPU0User%',\n",
    "                   'CPU0Total%',\n",
    "                   '[DSK:sda]Reads',\n",
    "                   '[DSK:sda]RKBytes',\n",
    "                   '[NUMA:0]Free',\n",
    "                   '[NUMA:0]Slab',\n",
    "                   '[NUMA:0]Mapped',\n",
    "                   '[TCPD]OutSegs']\n",
    "\n",
    "# A kevesebb több (24.8%)\n",
    "input_variables = ['request_rate',\n",
    "                   'CPU0User%',\n",
    "                   '[TCPD]OutSegs']\n",
    "# Fent -> még akkor is ha ez a model rosszabb becslést ad az actionok után sokkal jobb\n",
    "\n",
    "# train_labels = mf[['response_time_p95']]\n",
    "train_features = mf[input_variables]\n",
    "train_labels = mf[['response_time']]\n",
    "\n",
    "normalizer = tf.keras.layers.Normalization(axis=-1)\n",
    "normalizer.adapt(np.array(train_features))\n",
    "\n",
    "with np.printoptions(precision=2, suppress=True):\n",
    "    print(normalizer.mean.numpy())\n",
    "\n",
    "first = np.array(train_features[:1])\n",
    "with np.printoptions(precision=2, suppress=True):\n",
    "    print('First example:', first)\n",
    "    print('Normalized   :', normalizer(first).numpy())\n",
    "\n",
    "first_model = tf.keras.Sequential([\n",
    "    normalizer,\n",
    "    tf.keras.layers.Dense(30, activation='tanh'),\n",
    "    tf.keras.layers.Dense(15, activation='ReLU'),\n",
    "    layers.Dense(units=1)\n",
    "])\n",
    "\n",
    "first_model.summary()\n",
    "\n",
    "first_model.compile(optimizer=tf.keras.optimizers.Adam(learning_rate=0.1),\n",
    "                    loss='mean_absolute_error')"
   ]
  },
  {
   "cell_type": "code",
   "execution_count": 100,
   "metadata": {},
   "outputs": [],
   "source": [
    "def plot_loss(history):\n",
    "    plt.plot(history.history['loss'], label='loss')\n",
    "    plt.plot(history.history['val_loss'], label='val_loss')\n",
    "    plt.xlabel('Epoch')\n",
    "    plt.ylabel('Error [RT]')\n",
    "    plt.legend()\n",
    "    plt.grid(True)"
   ]
  },
  {
   "cell_type": "code",
   "execution_count": 101,
   "metadata": {},
   "outputs": [
    {
     "name": "stderr",
     "output_type": "stream",
     "text": [
      "2023-05-14 15:17:00.107329: W tensorflow/core/data/root_dataset.cc:266] Optimization loop failed: CANCELLED: Operation was cancelled\n",
      "2023-05-14 15:17:00.143461: W tensorflow/core/data/root_dataset.cc:266] Optimization loop failed: CANCELLED: Operation was cancelled\n",
      "2023-05-14 15:17:00.182952: W tensorflow/core/data/root_dataset.cc:266] Optimization loop failed: CANCELLED: Operation was cancelled\n",
      "2023-05-14 15:17:00.219836: W tensorflow/core/data/root_dataset.cc:266] Optimization loop failed: CANCELLED: Operation was cancelled\n"
     ]
    },
    {
     "name": "stdout",
     "output_type": "stream",
     "text": [
      "CPU times: user 1min 12s, sys: 2.53 s, total: 1min 14s\n",
      "Wall time: 1min 11s\n"
     ]
    },
    {
     "data": {
      "image/png": "[encoded data removed]",
      "text/plain": [
       "<Figure size 432x288 with 1 Axes>"
      ]
     },
     "metadata": {
      "needs_background": "light"
     },
     "output_type": "display_data"
    }
   ],
   "source": [
    "%%time\n",
    "history = first_model.fit(\n",
    "    train_features,\n",
    "    train_labels,\n",
    "    epochs = 1500,\n",
    "    # batch_size = 300,\n",
    "    verbose = 0,\n",
    "    validation_split = 0.05)\n",
    "\n",
    "plot_loss(history)"
   ]
  },
  {
   "cell_type": "code",
   "execution_count": 255,
   "metadata": {},
   "outputs": [
    {
     "name": "stdout",
     "output_type": "stream",
     "text": [
      "WARNING:tensorflow:5 out of the last 299 calls to <function Model.make_predict_function.<locals>.predict_function at 0x7f3e373c03a0> triggered tf.function retracing. Tracing is expensive and the excessive number of tracings could be due to (1) creating @tf.function repeatedly in a loop, (2) passing tensors with different shapes, (3) passing Python objects instead of tensors. For (1), please define your @tf.function outside of the loop. For (2), @tf.function has reduce_retracing=True option that can avoid unnecessary retracing. For (3), please refer to https://www.tensorflow.org/guide/function#controlling_retracing and https://www.tensorflow.org/api_docs/python/tf/function for  more details.\n"
     ]
    },
    {
     "name": "stderr",
     "output_type": "stream",
     "text": [
      "WARNING:tensorflow:5 out of the last 299 calls to <function Model.make_predict_function.<locals>.predict_function at 0x7f3e373c03a0> triggered tf.function retracing. Tracing is expensive and the excessive number of tracings could be due to (1) creating @tf.function repeatedly in a loop, (2) passing tensors with different shapes, (3) passing Python objects instead of tensors. For (1), please define your @tf.function outside of the loop. For (2), @tf.function has reduce_retracing=True option that can avoid unnecessary retracing. For (3), please refer to https://www.tensorflow.org/guide/function#controlling_retracing and https://www.tensorflow.org/api_docs/python/tf/function for  more details.\n"
     ]
    },
    {
     "name": "stdout",
     "output_type": "stream",
     "text": [
      "7/7 [==============================] - 0s 2ms/step\n"
     ]
    }
   ],
   "source": [
    "predicted_labels = first_model.predict(train_features)"
   ]
  },
  {
   "cell_type": "code",
   "execution_count": 256,
   "metadata": {},
   "outputs": [
    {
     "data": {
      "image/png": "[encoded data removed]",
      "text/plain": [
       "<Figure size 432x288 with 1 Axes>"
      ]
     },
     "metadata": {
      "needs_background": "light"
     },
     "output_type": "display_data"
    }
   ],
   "source": [
    "plot_true_vs_pred(train_labels.values, predicted_labels)"
   ]
  },
  {
   "cell_type": "code",
   "execution_count": 251,
   "metadata": {},
   "outputs": [
    {
     "name": "stdout",
     "output_type": "stream",
     "text": [
      "1/1 [==============================] - 0s 71ms/step\n",
      "1/1 [==============================] - 0s 68ms/step\n"
     ]
    },
    {
     "ename": "AssertionError",
     "evalue": "\nNot equal to tolerance rtol=1e-07, atol=0\n\nMismatched elements: 1 / 1 (100%)\nMax absolute difference: 80.61542\nMax relative difference: 0.99514467\n x: array([[0.393326]], dtype=float32)\n y: array([[81.00874]], dtype=float32)",
     "output_type": "error",
     "traceback": [
      "\u001b[0;31m---------------------------------------------------------------------------\u001b[0m",
      "\u001b[0;31mAssertionError\u001b[0m                            Traceback (most recent call last)",
      "Cell \u001b[0;32mIn[251], line 16\u001b[0m\n\u001b[1;32m     13\u001b[0m model \u001b[38;5;241m=\u001b[39m keras\u001b[38;5;241m.\u001b[39mmodels\u001b[38;5;241m.\u001b[39mload_model(os\u001b[38;5;241m.\u001b[39mgetcwd())\n\u001b[1;32m     15\u001b[0m \u001b[38;5;66;03m# Let's check:\u001b[39;00m\n\u001b[0;32m---> 16\u001b[0m \u001b[43mnp\u001b[49m\u001b[38;5;241;43m.\u001b[39;49m\u001b[43mtesting\u001b[49m\u001b[38;5;241;43m.\u001b[39;49m\u001b[43massert_allclose\u001b[49m\u001b[43m(\u001b[49m\n\u001b[1;32m     17\u001b[0m \u001b[43m    \u001b[49m\u001b[43mfirst_model\u001b[49m\u001b[38;5;241;43m.\u001b[39;49m\u001b[43mpredict\u001b[49m\u001b[43m(\u001b[49m\u001b[43m_new_train_features\u001b[49m\u001b[43m)\u001b[49m\u001b[43m,\u001b[49m\u001b[43m \u001b[49m\u001b[43mmodel\u001b[49m\u001b[38;5;241;43m.\u001b[39;49m\u001b[43mpredict\u001b[49m\u001b[43m(\u001b[49m\u001b[43m_new_train_features\u001b[49m\u001b[43m)\u001b[49m\n\u001b[1;32m     18\u001b[0m \u001b[43m)\u001b[49m\n",
      "    \u001b[0;31m[... skipping hidden 1 frame]\u001b[0m\n",
      "File \u001b[0;32m~/notebook/lib/python3.8/site-packages/numpy/testing/_private/utils.py:844\u001b[0m, in \u001b[0;36massert_array_compare\u001b[0;34m(comparison, x, y, err_msg, verbose, header, precision, equal_nan, equal_inf)\u001b[0m\n\u001b[1;32m    840\u001b[0m         err_msg \u001b[38;5;241m+\u001b[39m\u001b[38;5;241m=\u001b[39m \u001b[38;5;124m'\u001b[39m\u001b[38;5;130;01m\\n\u001b[39;00m\u001b[38;5;124m'\u001b[39m \u001b[38;5;241m+\u001b[39m \u001b[38;5;124m'\u001b[39m\u001b[38;5;130;01m\\n\u001b[39;00m\u001b[38;5;124m'\u001b[39m\u001b[38;5;241m.\u001b[39mjoin(remarks)\n\u001b[1;32m    841\u001b[0m         msg \u001b[38;5;241m=\u001b[39m build_err_msg([ox, oy], err_msg,\n\u001b[1;32m    842\u001b[0m                             verbose\u001b[38;5;241m=\u001b[39mverbose, header\u001b[38;5;241m=\u001b[39mheader,\n\u001b[1;32m    843\u001b[0m                             names\u001b[38;5;241m=\u001b[39m(\u001b[38;5;124m'\u001b[39m\u001b[38;5;124mx\u001b[39m\u001b[38;5;124m'\u001b[39m, \u001b[38;5;124m'\u001b[39m\u001b[38;5;124my\u001b[39m\u001b[38;5;124m'\u001b[39m), precision\u001b[38;5;241m=\u001b[39mprecision)\n\u001b[0;32m--> 844\u001b[0m         \u001b[38;5;28;01mraise\u001b[39;00m \u001b[38;5;167;01mAssertionError\u001b[39;00m(msg)\n\u001b[1;32m    845\u001b[0m \u001b[38;5;28;01mexcept\u001b[39;00m \u001b[38;5;167;01mValueError\u001b[39;00m:\n\u001b[1;32m    846\u001b[0m     \u001b[38;5;28;01mimport\u001b[39;00m \u001b[38;5;21;01mtraceback\u001b[39;00m\n",
      "\u001b[0;31mAssertionError\u001b[0m: \nNot equal to tolerance rtol=1e-07, atol=0\n\nMismatched elements: 1 / 1 (100%)\nMax absolute difference: 80.61542\nMax relative difference: 0.99514467\n x: array([[0.393326]], dtype=float32)\n y: array([[81.00874]], dtype=float32)"
     ]
    }
   ],
   "source": [
    "# Save\n",
    "\n",
    "# Kiexportálni az itt feltanított model.\n",
    "\n",
    "first_model.save(os.getcwd())\n",
    "\n",
    "# first_model.save('model.h5')\n",
    "\n",
    "# ------------------------------------------\n",
    "\n",
    "# Load\n",
    "\n",
    "model = keras.models.load_model(os.getcwd())\n",
    "\n",
    "# Let's check:\n",
    "np.testing.assert_allclose(\n",
    "    first_model.predict(_new_train_features), model.predict(_new_train_features)\n",
    ")\n"
   ]
  },
  {
   "cell_type": "code",
   "execution_count": 257,
   "metadata": {},
   "outputs": [
    {
     "data": {
      "text/html": [
       "<div>\n",
       "<style scoped>\n",
       "    .dataframe tbody tr th:only-of-type {\n",
       "        vertical-align: middle;\n",
       "    }\n",
       "\n",
       "    .dataframe tbody tr th {\n",
       "        vertical-align: top;\n",
       "    }\n",
       "\n",
       "    .dataframe thead th {\n",
       "        text-align: right;\n",
       "    }\n",
       "</style>\n",
       "<table border=\"1\" class=\"dataframe\">\n",
       "  <thead>\n",
       "    <tr style=\"text-align: right;\">\n",
       "      <th></th>\n",
       "      <th>worker_give_metrics</th>\n",
       "      <th>write_to_csv_time</th>\n",
       "      <th>time</th>\n",
       "      <th>response_time_p95</th>\n",
       "      <th>response_time</th>\n",
       "      <th>worker_number</th>\n",
       "      <th>request_rate</th>\n",
       "      <th>CPU0User%</th>\n",
       "      <th>CPU0Idle%</th>\n",
       "      <th>CPU0Total%</th>\n",
       "      <th>...</th>\n",
       "      <th>[NUMA:0]Mapped</th>\n",
       "      <th>[NUMA:0]Anon</th>\n",
       "      <th>[NUMA:0]AnonH</th>\n",
       "      <th>[NUMA:0]Inactive</th>\n",
       "      <th>[NUMA:0]Hits</th>\n",
       "      <th>[TCPD]InReceives</th>\n",
       "      <th>[TCPD]InDelivers</th>\n",
       "      <th>[TCPD]OutRequests</th>\n",
       "      <th>[TCPD]InSegs</th>\n",
       "      <th>[TCPD]OutSegs</th>\n",
       "    </tr>\n",
       "  </thead>\n",
       "  <tbody>\n",
       "    <tr>\n",
       "      <th>223</th>\n",
       "      <td>192.168.0.170</td>\n",
       "      <td>21:01:54</td>\n",
       "      <td>21:01:5</td>\n",
       "      <td>670.4522</td>\n",
       "      <td>419.907333</td>\n",
       "      <td>5</td>\n",
       "      <td>0.3</td>\n",
       "      <td>6.4</td>\n",
       "      <td>67.2</td>\n",
       "      <td>10.9</td>\n",
       "      <td>...</td>\n",
       "      <td>45022.4</td>\n",
       "      <td>751852.4</td>\n",
       "      <td>0.0</td>\n",
       "      <td>39076.8</td>\n",
       "      <td>100.0</td>\n",
       "      <td>3.0</td>\n",
       "      <td>3.0</td>\n",
       "      <td>3.0</td>\n",
       "      <td>3.0</td>\n",
       "      <td>3.0</td>\n",
       "    </tr>\n",
       "  </tbody>\n",
       "</table>\n",
       "<p>1 rows × 36 columns</p>\n",
       "</div>"
      ],
      "text/plain": [
       "    worker_give_metrics write_to_csv_time     time  response_time_p95  \\\n",
       "223       192.168.0.170          21:01:54  21:01:5           670.4522   \n",
       "\n",
       "     response_time  worker_number  request_rate  CPU0User%  CPU0Idle%  \\\n",
       "223     419.907333              5           0.3        6.4       67.2   \n",
       "\n",
       "     CPU0Total%  ...  [NUMA:0]Mapped  [NUMA:0]Anon  [NUMA:0]AnonH  \\\n",
       "223        10.9  ...         45022.4      751852.4            0.0   \n",
       "\n",
       "     [NUMA:0]Inactive  [NUMA:0]Hits  [TCPD]InReceives  [TCPD]InDelivers  \\\n",
       "223           39076.8         100.0               3.0               3.0   \n",
       "\n",
       "     [TCPD]OutRequests  [TCPD]InSegs  [TCPD]OutSegs  \n",
       "223                3.0           3.0            3.0  \n",
       "\n",
       "[1 rows x 36 columns]"
      ]
     },
     "execution_count": 257,
     "metadata": {},
     "output_type": "execute_result"
    }
   ],
   "source": [
    "last_df.head()"
   ]
  },
  {
   "cell_type": "code",
   "execution_count": 258,
   "metadata": {},
   "outputs": [
    {
     "data": {
      "text/plain": [
       "(224, 3)"
      ]
     },
     "execution_count": 258,
     "metadata": {},
     "output_type": "execute_result"
    }
   ],
   "source": [
    "train_features.shape"
   ]
  },
  {
   "cell_type": "code",
   "execution_count": 269,
   "metadata": {},
   "outputs": [],
   "source": [
    "def create_term_for_prediction(value: float, w: int, k: int):\n",
    "    \n",
    "    __metric_term1 = value * w/(w+k)\n",
    "    __metric_term2 = value * k/(w+k)\n",
    "    \n",
    "    __metric_term = np.array([[__metric_term1, __metric_term2]])\n",
    "    \n",
    "    return __metric_term"
   ]
  },
  {
   "cell_type": "code",
   "execution_count": 299,
   "metadata": {
    "scrolled": false
   },
   "outputs": [
    {
     "name": "stdout",
     "output_type": "stream",
     "text": [
      "1/1 [==============================] - 0s 41ms/step\n",
      "5\n",
      "[-4, -3, -2, -1, 0, 1, 2, 3, 4]\n",
      "[-4, -3, -2, -1]\n",
      "     request_rate  CPU0User%  [TCPD]OutSegs\n",
      "223           0.3        6.4            3.0\n",
      "-----------------------------------------\n",
      "train_features -> vagyis a current metrics     \n",
      "     request_rate  CPU0User%  [TCPD]OutSegs\n",
      "223           0.3        6.4            3.0\n",
      "\u001b[31mc_rt                  -> \t223    419.907333\n",
      "Name: response_time, dtype: float64\u001b[0m\n",
      "\u001b[31mcurrent_worker_number -> \t223    5\n",
      "Name: worker_number, dtype: int64\u001b[0m\n",
      "-----------------------------------------\n",
      "['request_rate', 'CPU0User%', '[TCPD]OutSegs']\n",
      "-----------------------------------------\n",
      "train_features ...... [0.3 6.4 3. ]\n",
      "[[  0.32  14.79 104.6 ]]\n",
      "action =  -4  --> rt -->  [[95.96]] \n",
      "\n",
      "[[  0.42  10.19 101.17]]\n",
      "action =  -3  --> rt -->  [[87.19]] \n",
      "\n",
      "[[  0.46   8.65 100.03]]\n",
      "action =  -2  --> rt -->  [[83.81]] \n",
      "\n",
      "[[ 0.47  7.89 99.46]]\n",
      "action =  -1  --> rt -->  [[82.54]] \n",
      "\n",
      "SCALE IN\n",
      "[-4, 95.95502]\n",
      "95.95502\n",
      "[-3, 87.19397]\n",
      "87.19397\n",
      "-3\n",
      "chosen_delta_vm_out = 19\n",
      "chosen_delta_vm_in  = -3\n",
      "chosen_delta_vm     = -3\n"
     ]
    }
   ],
   "source": [
    "# Megvan a kibaszott modell\n",
    "\n",
    "# Meg van a df-ből kiolvasott utlsó sor\n",
    "\n",
    "# Csináljunk erre egy becslsét\n",
    "\n",
    "# csak ezek kellenek a last_df-ből\n",
    "\n",
    "c_rt = last_df['response_time']\n",
    "current_worker_number = last_df['worker_number']\n",
    "\n",
    "wcsv = last_df['write_to_csv_time']\n",
    "tper = last_df['time']\n",
    "\n",
    "train_features = last_df[input_variables]\n",
    "train_features.head()\n",
    "\n",
    "predicted_labels = first_model.predict(train_features)\n",
    "\n",
    "# most jön az, hogy minden actionre ki kell számolni az értéket\n",
    "\n",
    "# meg kell nézni, hogy mi az aktuális worker szám\n",
    "\n",
    "# w = 3\n",
    "w = current_worker_number.values[0]\n",
    "print(w)\n",
    "\n",
    "# ez alapján meghatározni, hogy milyen actionokat vehet végig (pl.w = 3 esetén [-2, -1, ,5, 6])\n",
    "\n",
    "MIN_VM = 1\n",
    "MAX_VM = 9\n",
    "\n",
    "MAX = MAX_VM - w + 1\n",
    "MIN = MIN_VM - w\n",
    "\n",
    "A = [x for x in range(MIN, MAX)]\n",
    "print(A)\n",
    "\n",
    "# ezt tovább lehet fokozni, hogy csak föl és csak le\n",
    "scale = 'IN'\n",
    "if scale == 'OUT':\n",
    "    A = [x for x in range(1, MAX)]\n",
    "if scale == 'IN':\n",
    "    A = [x for x in range(MIN, 0)]\n",
    "print(A)\n",
    "\n",
    "# most minden lehetséges A-hoz kiszámolni a metrikákat\n",
    "# elárolni őket egy tömbben s utólag kiértékelni\n",
    "\n",
    "print(input_df)\n",
    "\n",
    "print('-----------------------------------------')\n",
    "print('train_features -> vagyis a current metrics     ')\n",
    "with np.printoptions(precision=2, suppress=True):\n",
    "    print(train_features)\n",
    "print(colored('c_rt                  -> \\t' + str(c_rt), 'red'))\n",
    "print(colored('current_worker_number -> \\t' + str(current_worker_number), 'red'))\n",
    "print('-----------------------------------------')\n",
    "print(input_variables)\n",
    "print('-----------------------------------------')\n",
    "\n",
    "\n",
    "\n",
    "# Pandas.Series -> nd.array\n",
    "train_features = train_features.values\n",
    "train_features = train_features[0]\n",
    "print('train_features ......', train_features)\n",
    "\n",
    "# aps ebbe pakolom az [a, __predicted_response_time] értékeket\n",
    "aps = []\n",
    "\n",
    "for a in A:\n",
    "    # 0.\n",
    "    # inicializálni egy üres tömböt az input_variable változónak\n",
    "    _new_train_features = np.zeros((1, train_features.shape[0]))\n",
    "    \n",
    "    # 1.\n",
    "    # minden metrikára kiszámolni\n",
    "    for i, metric in enumerate(input_variables):\n",
    "        # print(i, metric)\n",
    "        if metric != 'worker_number':\n",
    "            \n",
    "            # Systematicly load\n",
    "            f = './lr/'\n",
    "            # file name, I'm using *.pickle as a file extension\n",
    "            filename = f + str(metric) + '.pickle'\n",
    "            # load model\n",
    "            __lr_model = pickle.load(open(filename, \"rb\"))\n",
    "            # print(__lr_model.coef_, __lr_model.intercept_)\n",
    "            \n",
    "            \n",
    "            feature = train_features[i]\n",
    "            \n",
    "\n",
    "            # 3.\n",
    "            # az előbbi model alapján egy becslés egy konkrét értékre (value, w, k)\n",
    "            __metric_term = create_term_for_prediction(feature, current_worker_number, a)\n",
    "\n",
    "            \n",
    "            # print('---a metrica értékének becsése (value, w, k alapján ---')\n",
    "            __metric_term  = np.squeeze(__metric_term, -1)\n",
    "\n",
    "            __pred_metric = __lr_model.predict(__metric_term)\n",
    "\n",
    "            # 4.\n",
    "            # adott becsült metrikát bele kell helyezni a neurális háló bemeneti változójához\n",
    "            _new_train_features[0, i] = __pred_metric\n",
    "\n",
    "   \n",
    "    # 5.\n",
    "    # megvan az új a-hoz tartozó metika tömb, ez alapján becsüjük meg a válaszidőt\n",
    "    with np.printoptions(precision=2, suppress=True):\n",
    "        print(_new_train_features)\n",
    "\n",
    "    # 6.\n",
    "    # a neurális háló model segítségével megbecsülöm a válaszidőt\n",
    "\n",
    "    __predicted_response_time = first_model.predict(_new_train_features, verbose = 0)\n",
    "\n",
    "    with np.printoptions(precision=2, suppress=True):\n",
    "        print('action = ', a, ' --> rt --> ', __predicted_response_time, '\\n')\n",
    "    \n",
    "    aps.append([a, __predicted_response_time.flatten()[0]])\n",
    "\n",
    "# Keressük meg hol a legjobb a becslés\n",
    "# fps = pd.DataFrame(aps, columns=['delta_vm', 'pred_rt'])\n",
    "# fps\n",
    "\n",
    "# Kerresük meg hoa legjobb a becslés\n",
    "UPPER_LIMIT = 90\n",
    "LOWER_LIMIT = 30\n",
    "\n",
    "chosen_delta_vm_out = 19\n",
    "chosen_delta_vm_in  = -20\n",
    "\n",
    "chosen_delta_vm = None\n",
    "\n",
    "# scale out (felfelés skálázás)\n",
    "if scale == 'OUT':\n",
    "    print('SCALE OUT')\n",
    "    for row in aps:\n",
    "        print(row)\n",
    "        print(row[1])\n",
    "        if row[1] < UPPER_LIMIT:\n",
    "            chosen_delta_vm_out = row[0]\n",
    "            print(chosen_delta_vm_out)\n",
    "            break\n",
    "    chosen_delta_vm = chosen_delta_vm_out\n",
    "# scale in (lefelés skálázás)\n",
    "if scale == 'IN':\n",
    "    print('SCALE IN')\n",
    "    for row in aps:\n",
    "        print(row)\n",
    "        print(row[1])\n",
    "        if row[1]  < UPPER_LIMIT:\n",
    "            chosen_delta_vm_in = row[0]\n",
    "            print(chosen_delta_vm_in)\n",
    "            break\n",
    "    chosen_delta_vm = chosen_delta_vm_in\n",
    "\n",
    "print('chosen_delta_vm_out =', chosen_delta_vm_out)\n",
    "print('chosen_delta_vm_in  =', chosen_delta_vm_in)\n",
    "print('chosen_delta_vm     =', chosen_delta_vm)\n",
    "\n",
    "# újra tesztelni különöböző értékekkel"
   ]
  },
  {
   "cell_type": "code",
   "execution_count": null,
   "metadata": {},
   "outputs": [],
   "source": []
  },
  {
   "cell_type": "code",
   "execution_count": null,
   "metadata": {},
   "outputs": [],
   "source": []
  },
  {
   "cell_type": "code",
   "execution_count": 104,
   "metadata": {},
   "outputs": [
    {
     "data": {
      "image/png": "[encoded data removed]",
      "text/plain": [
       "<Figure size 1440x576 with 2 Axes>"
      ]
     },
     "metadata": {
      "needs_background": "light"
     },
     "output_type": "display_data"
    }
   ],
   "source": [
    "def plot_timeseries(train_labels, predicted_labels):\n",
    "    \n",
    "    fig, (ax1, ax3) = plt.subplots(2, 1, figsize=(20, 8))\n",
    "\n",
    "    ax1.plot(mf['response_time'], color = 'C0')\n",
    "    # ax1.plot(mf['response_time_p95'], color = 'C1')\n",
    "    \n",
    "    # ax1.plot(train_labels, color = 'orange')\n",
    "    ax1.plot(predicted_labels, color = 'black', ls = '--')\n",
    "\n",
    "    # ax2 = ax1.twinx()\n",
    "\n",
    "    # ax2.plot(mf['request_rate'], color = 'C2')\n",
    "\n",
    "    ax1.set_xlabel('Time')\n",
    "    ax1.set_ylabel('Response Time')\n",
    "    # ax2.set_ylabel('Request Rate')\n",
    "\n",
    "    ax3.plot(mf['worker_number'], color = 'black')\n",
    "    ax3.set_xlabel('Time')\n",
    "    ax3.set_ylabel('VM Number')\n",
    "\n",
    "    plt.show()\n",
    "\n",
    "plot_timeseries(train_labels.values, predicted_labels)"
   ]
  },
  {
   "cell_type": "code",
   "execution_count": 105,
   "metadata": {},
   "outputs": [
    {
     "name": "stdout",
     "output_type": "stream",
     "text": [
      "['request_rate', 'CPU0User%', '[TCPD]OutSegs']\n"
     ]
    }
   ],
   "source": [
    "print(input_variables)"
   ]
  },
  {
   "cell_type": "markdown",
   "metadata": {},
   "source": [
    "# LR modell megcsinálló\n",
    "\n",
    "Minden metrikára megcsináljuk a tanítás és az LR modelleket elmenjük.\n",
    "\n",
    "https://mljar.com/blog/save-load-scikit-learn-model"
   ]
  },
  {
   "cell_type": "code",
   "execution_count": 200,
   "metadata": {},
   "outputs": [
    {
     "name": "stdout",
     "output_type": "stream",
     "text": [
      "<class 'sklearn.linear_model._base.LinearRegression'>\n",
      "[1.02434361 1.15767578]\n",
      "-------------------------------------------------------------------\n",
      "(194, 2)\n",
      "[1.02434361 1.15767578]\n",
      "<class 'sklearn.linear_model._base.LinearRegression'>\n",
      "[0.87016971 0.58266153]\n",
      "-------------------------------------------------------------------\n",
      "(194, 2)\n",
      "[0.87016971 0.58266153]\n",
      "<class 'sklearn.linear_model._base.LinearRegression'>\n",
      "[0.88660233 0.42923089]\n",
      "-------------------------------------------------------------------\n",
      "(194, 2)\n",
      "[0.88660233 0.42923089]\n"
     ]
    }
   ],
   "source": [
    "import pickle\n",
    "import os\n",
    "\n",
    "os.system('rm -rf ./lr')\n",
    "os.system('mkdir ./lr')\n",
    "f = './lr/'\n",
    "\n",
    "for i, metric in enumerate(input_variables):\n",
    "    # megcsinálni a linreg modelt az adott metrikára (tanítás)\n",
    "    __metric_term, __metric_next = create_term_for_metric(metric)\n",
    "    __lr_model = calc_pred_for_metric(__metric_term.values, __metric_next.values)\n",
    "    print(type(__lr_model))\n",
    "    print(__lr_model.coef_)\n",
    "    print('-------------------------------------------------------------------')\n",
    "    print(__metric_term.shape)\n",
    "\n",
    "    # file name, I'm using *.pickle as a file extension\n",
    "    filename = f + str(metric) + '.pickle'\n",
    "\n",
    "    # save model\n",
    "    pickle.dump(__lr_model, open(filename, \"wb\"))\n",
    "\n",
    "    # load model\n",
    "    loaded_model = pickle.load(open(filename, \"rb\"))\n",
    "\n",
    "    print(loaded_model.coef_)"
   ]
  },
  {
   "cell_type": "code",
   "execution_count": 186,
   "metadata": {},
   "outputs": [
    {
     "name": "stdout",
     "output_type": "stream",
     "text": [
      "[1.02434361 1.15767578]\n",
      "[0.87016971 0.58266153]\n",
      "[0.88660233 0.42923089]\n"
     ]
    }
   ],
   "source": [
    "# Systematicly load\n",
    "\n",
    "import pickle\n",
    "import os\n",
    "\n",
    "f = './lr/'\n",
    "\n",
    "for i, metric in enumerate(input_variables):\n",
    "\n",
    "    # file name, I'm using *.pickle as a file extension\n",
    "    filename = f + str(metric) + '.pickle'\n",
    "    \n",
    "    # load model\n",
    "    loaded_model = pickle.load(open(filename, \"rb\"))\n",
    "\n",
    "    print(loaded_model.coef_)"
   ]
  },
  {
   "cell_type": "markdown",
   "metadata": {},
   "source": [
    "# LR csináló vége"
   ]
  },
  {
   "cell_type": "markdown",
   "metadata": {},
   "source": [
    "# Helper függvik"
   ]
  },
  {
   "cell_type": "code",
   "execution_count": 106,
   "metadata": {},
   "outputs": [],
   "source": [
    "from sklearn.linear_model import LinearRegression\n",
    "\n",
    "def create_term_for_metric(columnname: str):\n",
    "    \n",
    "    f1 = mf.copy()\n",
    "    __next_name = columnname + 'Next'\n",
    "    __prev_name = columnname + 'Prev'\n",
    "\n",
    "    f1[__next_name] = f1[columnname].shift(-1)\n",
    "    f1[__prev_name] = f1[columnname].shift(+1)\n",
    "    \n",
    "    f1 = f1.dropna()\n",
    "\n",
    "    # Az lenne a korrekt ha kidobnám azokat ahol nem volt skálázás (delta_vm == 0)\n",
    "    \n",
    "    indexAge = f1[ (f1['delta_vm'] == 0) ].index\n",
    "    f1.drop(indexAge , inplace=True)\n",
    "\n",
    "    \n",
    "    __metric_term1 = columnname + '_term1'\n",
    "    __metric_term2 = columnname + '_term2'\n",
    "    f1[__metric_term1] = f1[columnname] * f1['worker_number']/(f1['worker_number'] + f1['delta_vm'])\n",
    "    f1[__metric_term2] = f1[columnname] * f1['delta_vm']/(f1['worker_number'] + f1['delta_vm'])\n",
    "    \n",
    "    __metric_term = f1[[__metric_term1, __metric_term2]]\n",
    "    __metric_next = f1[__next_name]\n",
    "    \n",
    "    return __metric_term, __metric_next\n",
    "\n",
    "\n",
    "\n",
    "def calc_pred_for_metric(__metric_term, __metric_next):\n",
    "\n",
    "    lr = LinearRegression(fit_intercept=True)\n",
    "\n",
    "    rr = lr.fit(__metric_term, __metric_next)\n",
    "\n",
    "    __fit_score = rr.score(__metric_term, __metric_next)\n",
    "    __fit_coef_ = rr.coef_\n",
    "    __fit_intercept_ = rr.intercept_\n",
    "    \n",
    "    __pred_metric = rr.predict(__metric_term)\n",
    "    \n",
    "    return rr\n",
    "    \n",
    "    "
   ]
  },
  {
   "cell_type": "markdown",
   "metadata": {},
   "source": [
    "# A -> pred RT"
   ]
  },
  {
   "cell_type": "code",
   "execution_count": 224,
   "metadata": {},
   "outputs": [
    {
     "name": "stdout",
     "output_type": "stream",
     "text": [
      "[-7, -6, -5, -4, -3, -2, -1, 0, 1, 2, 3, 4, 5, 6, 7]\n",
      "-----------------------------------------\n",
      "__last_metrics -> vagyis a current values\n",
      "[0.3 6.4 3. ]\n",
      "\u001b[31m__current_rt -> \t419.9073333333333\u001b[0m\n",
      "\u001b[31m__w -> worker_number \t5\u001b[0m\n",
      "-----------------------------------------\n",
      "['request_rate', 'CPU0User%', '[TCPD]OutSegs']\n",
      "-----------------------------------------\n",
      "[[ 0.62  0.99 94.31]]\n",
      "action =  -7  --> rt -->  [[72.96]] \n",
      "\n",
      "[[ 0.72 -3.61 90.88]]\n",
      "action =  -6  --> rt -->  [[68.94]] \n",
      "\n",
      "[[  0.32  14.79 104.6 ]]\n",
      "action =  -4  --> rt -->  [[95.96]] \n",
      "\n",
      "[[  0.42  10.19 101.17]]\n",
      "action =  -3  --> rt -->  [[87.19]] \n",
      "\n",
      "[[  0.46   8.65 100.03]]\n",
      "action =  -2  --> rt -->  [[83.81]] \n",
      "\n",
      "[[ 0.47  7.89 99.46]]\n",
      "action =  -1  --> rt -->  [[82.54]] \n",
      "\n",
      "[[ 0.48  7.43 99.12]]\n",
      "action =  0  --> rt -->  [[81.92]] \n",
      "\n",
      "[[ 0.49  7.12 98.89]]\n",
      "action =  1  --> rt -->  [[81.55]] \n",
      "\n",
      "[[ 0.5   6.9  98.72]]\n",
      "action =  2  --> rt -->  [[81.31]] \n",
      "\n",
      "[[ 0.5   6.74 98.6 ]]\n",
      "action =  3  --> rt -->  [[81.14]] \n",
      "\n",
      "[[ 0.5   6.61 98.51]]\n",
      "action =  4  --> rt -->  [[81.01]] \n",
      "\n",
      "[[ 0.5   6.51 98.43]]\n",
      "action =  5  --> rt -->  [[80.91]] \n",
      "\n",
      "[[ 0.51  6.42 98.37]]\n",
      "action =  6  --> rt -->  [[80.83]] \n",
      "\n",
      "[[ 0.51  6.35 98.32]]\n",
      "action =  7  --> rt -->  [[80.76]] \n",
      "\n"
     ]
    }
   ],
   "source": [
    "# mindegyikhez elkészíteni hogy mi lenne a fel leskálázás utáni értéke\n",
    "\n",
    "A = [i for i in range(-7, 8, 1)]\n",
    "\n",
    "print(A)\n",
    "\n",
    "# -2.\n",
    "# inicalizálni egy üres dictianary-t a dict(action, predicted_response_time) pároknak\n",
    "r = []\n",
    "al = []\n",
    "rl = []\n",
    "\n",
    "# -1.\n",
    "# kiválasztani, hogy milyen értéket mérek aktuális metrikákként\n",
    "# ideiglenesen az mf utolsó értékei lesznek a bemenők\n",
    "\n",
    "__N = 223\n",
    "\n",
    "__current_response_time = mf['response_time'].values[__N]\n",
    "__last_metrics = mf[input_variables].values[__N]\n",
    "__w = mf['worker_number'].values[__N]\n",
    "\n",
    "print('-----------------------------------------')\n",
    "print('__last_metrics -> vagyis a current values')\n",
    "with np.printoptions(precision=2, suppress=True):\n",
    "    print(__last_metrics)\n",
    "print(colored('__current_rt -> \\t' + str(__current_response_time), 'red'))\n",
    "print(colored('__w -> worker_number \\t' + str(__w), 'red'))\n",
    "\n",
    "print('-----------------------------------------')\n",
    "print(input_variables)\n",
    "print('-----------------------------------------')\n",
    "\n",
    "for a in A:\n",
    "    \n",
    "    # Ez kell, hogy a VM szám (w) ne legyen 0\n",
    "    if __w + a != 0:\n",
    "    \n",
    "        # 0.\n",
    "        # inicializálni egy üres tömböt az input_variable változónak\n",
    "        _new_train_features = np.zeros((1, mf[input_variables].shape[1]))\n",
    "\n",
    "        # 1.\n",
    "        # minden metrikára kiszámolni\n",
    "        for i, metric in enumerate(input_variables):\n",
    "            # print(i, metric)\n",
    "            if metric != 'worker_number':\n",
    "\n",
    "                # 2.\n",
    "                # megcsinálni a linreg modelt az adott metrikára (tanítás)\n",
    "                __metric_term, __metric_next = create_term_for_metric(metric)\n",
    "                __lr_model = calc_pred_for_metric(__metric_term.values, __metric_next.values)\n",
    "                \n",
    "                # 3.\n",
    "                # elmenetni az adott modelt (amit nem használok sehol)\n",
    "                # _ = joblib.dump(__lr_model, './lr/lr_' + metric + '.joblib', compress=9)\n",
    "                \n",
    "                # 3.\n",
    "                # az előbbi model alapján egy becslés egy konkrét értékre (value, w, k)\n",
    "                __metric_term = create_term_for_prediction(__last_metrics[i], __w, a)                \n",
    "                # print('---a metrica értékének becsése (value, w, k alapján ---')\n",
    "                # print(__metric_term)\n",
    "                # print(metric)\n",
    "                # print(a)\n",
    "                # print('------------------')\n",
    "                __pred_metric = __lr_model.predict(__metric_term)\n",
    "                \n",
    "                # 4.\n",
    "                # adott becsült metrikát bele kell helyezni a neurális háló bemeneti változójához\n",
    "                _new_train_features[0, i] = __pred_metric\n",
    "                # print(_new_train_features)\n",
    "            \n",
    "                \n",
    "        # 5.\n",
    "        # megvan az új a-hoz tartozó metika tömb, ez alapján becsüjük meg a válaszidőt\n",
    "        with np.printoptions(precision=2, suppress=True):\n",
    "            print(_new_train_features)\n",
    "        \n",
    "        # 6.\n",
    "        # a neurális háló model segítségével megbecsülöm a válaszidőt\n",
    "        \n",
    "        __predicted_response_time = first_model.predict(_new_train_features, verbose = 0)\n",
    "        \n",
    "        with np.printoptions(precision=2, suppress=True):\n",
    "            print('action = ', a, ' --> rt --> ', __predicted_response_time, '\\n')\n"
   ]
  },
  {
   "cell_type": "code",
   "execution_count": 109,
   "metadata": {},
   "outputs": [
    {
     "name": "stderr",
     "output_type": "stream",
     "text": [
      "WARNING:absl:Found untraced functions such as re_lu_3_layer_call_fn, re_lu_3_layer_call_and_return_conditional_losses while saving (showing 2 of 2). These functions will not be directly callable after loading.\n"
     ]
    },
    {
     "name": "stdout",
     "output_type": "stream",
     "text": [
      "INFO:tensorflow:Assets written to: /home/ubuntu/Scaler/Train/Train15/assets\n"
     ]
    },
    {
     "name": "stderr",
     "output_type": "stream",
     "text": [
      "INFO:tensorflow:Assets written to: /home/ubuntu/Scaler/Train/Train15/assets\n"
     ]
    }
   ],
   "source": []
  },
  {
   "cell_type": "code",
   "execution_count": 110,
   "metadata": {},
   "outputs": [
    {
     "name": "stdout",
     "output_type": "stream",
     "text": [
      "1/1 [==============================] - 0s 28ms/step\n",
      "1/1 [==============================] - 0s 69ms/step\n"
     ]
    }
   ],
   "source": []
  },
  {
   "cell_type": "code",
   "execution_count": null,
   "metadata": {},
   "outputs": [],
   "source": []
  },
  {
   "cell_type": "code",
   "execution_count": 85,
   "metadata": {},
   "outputs": [],
   "source": [
    "\n",
    "def moric(__n, debug=False):\n",
    "    'Az adatsorban minden elemre kiszámolja, hogy mi lett volna a válaszidő különböz k-mellett'\n",
    "    \n",
    "    results = []\n",
    "    results_dict = []\n",
    "\n",
    "    A = [i for i in range(-9, 10, 1)]\n",
    "\n",
    "    # n-edik elem lesz kiválasztva a 'mf' dataframeből\n",
    "    __N = __n\n",
    "\n",
    "    __current_response_time = mf['response_time_p95'].values[__N]\n",
    "    __last_metrics = mf[input_variables].values[__N]\n",
    "    __w = mf['worker_number'].values[__N]\n",
    "    \n",
    "    if debug == True:\n",
    "        print('RT = ', __current_response_time)\n",
    "        print('w  = ', __w)\n",
    "        with np.printoptions(precision=2, suppress=True):\n",
    "            print(__last_metrics)\n",
    "\n",
    "    for a in A:\n",
    "\n",
    "        # Ez kell, hogy a VM szám (w) ne legyen 0\n",
    "        if __w + a != 0:\n",
    "\n",
    "            # 0.\n",
    "            # inicializálni egy üres tömböt az input_variable változónak\n",
    "            _new_train_features = np.zeros((1, mf[input_variables].shape[1]))\n",
    "\n",
    "            # 1.\n",
    "            # minden metrikára kiszámolni\n",
    "            for i, metric in enumerate(input_variables):\n",
    "                # print(i, metric)\n",
    "                if metric != 'worker_number':\n",
    "\n",
    "                    # 2.\n",
    "                    # megcsinálni a linreg modelt az adott metrikára (tanítás)\n",
    "                    __metric_term, __metric_next = create_term_for_metric(metric)\n",
    "                    __lr_model = calc_pred_for_metric(__metric_term.values, __metric_next.values)\n",
    "\n",
    "                    # 3.\n",
    "                    # az előbbi model alapján egy becslés egy konkrét értékre (value, w, k)\n",
    "                    __metric_term = create_term_for_prediction(__last_metrics[i], __w, a)                \n",
    "                    __pred_metric = __lr_model.predict(__metric_term)\n",
    "\n",
    "                    # 4.\n",
    "                    # adott becsült metrikát bele kell helyezni a neurális háló bemeneti változójához\n",
    "                    _new_train_features[0, i] = __pred_metric\n",
    "                    # print(_new_train_features)\n",
    "\n",
    "            # 5.\n",
    "            # megvan az új a-hoz tartozó metika tömb, ez alapján becsüjük meg a válaszidőt\n",
    "            if debug == True:\n",
    "                with np.printoptions(precision=2, suppress=True):\n",
    "                    print(_new_train_features)\n",
    "\n",
    "            # 6.\n",
    "            # a neurális háló model segítségével megbecsülöm a válaszidőt\n",
    "            _ = time.time()\n",
    "            __predicted_response_time = first_model.predict(_new_train_features, verbose = 0, batch_size=10, use_multiprocessing=True)\n",
    "            # print(time.time()-_)\n",
    "            \n",
    "            # X.\n",
    "            # megpróbálom felgyorsítani, hogy a numpy számoja a pred válaszidőt\n",
    "            # W = first_model.get_weights()\n",
    "            # __px = predict(_new_train_features)\n",
    "            # print(__px, __predicted_response_time.flatten()[0])\n",
    "            \n",
    "            results_dict.append({'action': a, 'prt': __predicted_response_time.flatten()[0]})\n",
    "            results.append(__predicted_response_time.flatten()[0])\n",
    "            \n",
    "    return results\n"
   ]
  },
  {
   "cell_type": "code",
   "execution_count": 86,
   "metadata": {},
   "outputs": [
    {
     "data": {
      "text/plain": [
       "224"
      ]
     },
     "execution_count": 86,
     "metadata": {},
     "output_type": "execute_result"
    }
   ],
   "source": [
    "len(mf)"
   ]
  },
  {
   "cell_type": "code",
   "execution_count": 87,
   "metadata": {},
   "outputs": [
    {
     "data": {
      "application/vnd.jupyter.widget-view+json": {
       "model_id": "3eceb2c98ca845798b53bb5158300c8e",
       "version_major": 2,
       "version_minor": 0
      },
      "text/plain": [
       "Output()"
      ]
     },
     "metadata": {},
     "output_type": "display_data"
    },
    {
     "name": "stderr",
     "output_type": "stream",
     "text": [
      "2023-05-14 15:06:45.676099: W tensorflow/core/data/root_dataset.cc:266] Optimization loop failed: CANCELLED: Operation was cancelled\n",
      "2023-05-14 15:07:00.148762: W tensorflow/core/data/root_dataset.cc:266] Optimization loop failed: CANCELLED: Operation was cancelled\n",
      "2023-05-14 15:07:05.212583: W tensorflow/core/data/root_dataset.cc:266] Optimization loop failed: CANCELLED: Operation was cancelled\n",
      "2023-05-14 15:07:39.634575: W tensorflow/core/data/root_dataset.cc:266] Optimization loop failed: CANCELLED: Operation was cancelled\n",
      "2023-05-14 15:08:00.144800: W tensorflow/core/data/root_dataset.cc:266] Optimization loop failed: CANCELLED: Operation was cancelled\n",
      "2023-05-14 15:08:32.685683: W tensorflow/core/data/root_dataset.cc:266] Optimization loop failed: CANCELLED: Operation was cancelled\n",
      "2023-05-14 15:09:00.225804: W tensorflow/core/data/root_dataset.cc:266] Optimization loop failed: CANCELLED: Operation was cancelled\n",
      "2023-05-14 15:09:27.541836: W tensorflow/core/data/root_dataset.cc:266] Optimization loop failed: CANCELLED: Operation was cancelled\n",
      "2023-05-14 15:10:00.093404: W tensorflow/core/data/root_dataset.cc:266] Optimization loop failed: CANCELLED: Operation was cancelled\n",
      "2023-05-14 15:11:00.126156: W tensorflow/core/data/root_dataset.cc:266] Optimization loop failed: CANCELLED: Operation was cancelled\n",
      "2023-05-14 15:12:00.044501: W tensorflow/core/data/root_dataset.cc:266] Optimization loop failed: CANCELLED: Operation was cancelled\n",
      "2023-05-14 15:12:00.190442: W tensorflow/core/data/root_dataset.cc:266] Optimization loop failed: CANCELLED: Operation was cancelled\n",
      "2023-05-14 15:12:40.866392: W tensorflow/core/data/root_dataset.cc:266] Optimization loop failed: CANCELLED: Operation was cancelled\n",
      "2023-05-14 15:13:00.049010: W tensorflow/core/data/root_dataset.cc:266] Optimization loop failed: CANCELLED: Operation was cancelled\n",
      "2023-05-14 15:13:10.346707: W tensorflow/core/data/root_dataset.cc:266] Optimization loop failed: CANCELLED: Operation was cancelled\n",
      "2023-05-14 15:14:18.499433: W tensorflow/core/data/root_dataset.cc:266] Optimization loop failed: CANCELLED: Operation was cancelled\n"
     ]
    },
    {
     "data": {
      "text/html": [
       "<pre style=\"white-space:pre;overflow-x:auto;line-height:normal;font-family:Menlo,'DejaVu Sans Mono',consolas,'Courier New',monospace\"></pre>\n"
      ],
      "text/plain": []
     },
     "metadata": {},
     "output_type": "display_data"
    },
    {
     "data": {
      "text/html": [
       "<pre style=\"white-space:pre;overflow-x:auto;line-height:normal;font-family:Menlo,'DejaVu Sans Mono',consolas,'Courier New',monospace\">\n",
       "</pre>\n"
      ],
      "text/plain": [
       "\n"
      ]
     },
     "metadata": {},
     "output_type": "display_data"
    }
   ],
   "source": [
    "a_prts = []\n",
    "# for i in mf.shape[0]:\n",
    "for i in track(range(len(mf))):\n",
    "    _ = moric(i)\n",
    "    a_prts.append(_)\n",
    "    "
   ]
  },
  {
   "cell_type": "code",
   "execution_count": 88,
   "metadata": {},
   "outputs": [
    {
     "data": {
      "text/plain": [
       "224"
      ]
     },
     "execution_count": 88,
     "metadata": {},
     "output_type": "execute_result"
    }
   ],
   "source": [
    "len(a_prts)"
   ]
  },
  {
   "cell_type": "code",
   "execution_count": 89,
   "metadata": {},
   "outputs": [
    {
     "data": {
      "text/plain": [
       "{18}"
      ]
     },
     "execution_count": 89,
     "metadata": {},
     "output_type": "execute_result"
    }
   ],
   "source": [
    "# ha különböző hosszú ez a fos akkor baj van\n",
    "\n",
    "a = set()\n",
    "\n",
    "for i in range(len(a_prts)):\n",
    "    a.add(len(a_prts[i]))\n",
    "\n",
    "a"
   ]
  },
  {
   "cell_type": "code",
   "execution_count": 94,
   "metadata": {},
   "outputs": [
    {
     "name": "stdout",
     "output_type": "stream",
     "text": [
      "(224, 18)\n",
      "(50, 18)\n"
     ]
    }
   ],
   "source": [
    "# Ha csak egy részét akarom az idősornak vizsgálni\n",
    "\n",
    "a = np.array(a_prts[0:len(a_prts)])\n",
    "print(a.shape)\n",
    "\n",
    "\n",
    "a = np.array(a_prts[0:50])\n",
    "print(a.shape)\n"
   ]
  },
  {
   "cell_type": "code",
   "execution_count": 95,
   "metadata": {},
   "outputs": [
    {
     "name": "stdout",
     "output_type": "stream",
     "text": [
      "(50, 12)\n"
     ]
    }
   ],
   "source": [
    "# Ha csak bizonyos típusú actionoket akarok (pl. 0, 1, .., 5)\n",
    "\n",
    "a = a[:,6:]\n",
    "print(a.shape)"
   ]
  },
  {
   "cell_type": "code",
   "execution_count": 96,
   "metadata": {},
   "outputs": [
    {
     "data": {
      "image/png": "[encoded data removed]",
      "text/plain": [
       "<Figure size 1224x345.6 with 1 Axes>"
      ]
     },
     "metadata": {
      "needs_background": "light"
     },
     "output_type": "display_data"
    }
   ],
   "source": [
    "# https://matplotlib.org/stable/tutorials/colors/colormaps.html\n",
    "\n",
    "import matplotlib as mpl\n",
    "from cycler import cycler\n",
    "mpl.rcParams['lines.linewidth'] = 1\n",
    "#mpl.rcParams['lines.linestyle'] = '-'\n",
    "#mpl.rcParams['axes.prop_cycle'] = cycler(color=['r', 'g', 'b', 'y'])\n",
    "#mpl.rcParams['axes.prop_cycle'] = cycler(color='bgrcmyk')\n",
    "\n",
    "colormap = plt.get_cmap('jet')\n",
    "colors = [colormap(k) for k in np.linspace(0, 1, 10)]\n",
    "\n",
    "mpl.rcParams['axes.prop_cycle'] = cycler(color=colors)\n",
    "\n",
    "plt.figure(figsize=(17, 4.8))\n",
    "plt.plot(a)\n",
    "plt.show()"
   ]
  },
  {
   "cell_type": "code",
   "execution_count": 97,
   "metadata": {},
   "outputs": [
    {
     "data": {
      "image/png": "[encoded data removed]",
      "text/plain": [
       "<Figure size 1224x345.6 with 1 Axes>"
      ]
     },
     "metadata": {
      "needs_background": "light"
     },
     "output_type": "display_data"
    }
   ],
   "source": [
    "plt.figure(figsize=(17, 4.8))\n",
    "plt.plot(mf['worker_number'].values[30:50])\n",
    "plt.show()"
   ]
  },
  {
   "cell_type": "code",
   "execution_count": 98,
   "metadata": {},
   "outputs": [
    {
     "name": "stdout",
     "output_type": "stream",
     "text": [
      "RT =  113.3854499999997\n",
      "w  =  2\n",
      "[   19.8    36.8    67.6     9.9   272.5 73968.8 89443.2 49031.2  2732.9]\n",
      "[[   23.85    20.28    36.56    22.95   742.35 72756.08 89302.03 47021.15\n",
      "    912.37]]\n",
      "[[   23.98    19.77    35.62    22.99   743.46 72711.73 89301.23 47033.59\n",
      "    852.85]]\n",
      "[[   24.15    19.07    34.29    23.03   745.   72649.64 89300.11 47051.01\n",
      "    769.52]]\n",
      "[[   24.42    18.01    32.3     23.1    747.31 72556.51 89298.44 47077.14\n",
      "    644.53]]\n",
      "[[   24.86    16.25    28.99    23.22   751.17 72401.28 89295.65 47120.68\n",
      "    436.2 ]]\n",
      "[[   25.74    12.72    22.36    23.46   758.89 72090.83 89290.07 47207.77\n",
      "     19.55]]\n",
      "[[   28.38     2.14     2.46    24.16   782.05 71159.47 89273.33 47469.04\n",
      "  -1230.4 ]]\n",
      "[[   17.82    44.46    82.03    21.35   689.42 74884.9  89340.28 46423.96\n",
      "   3769.4 ]]\n",
      "[[   20.46    33.88    62.14    22.05   712.58 73953.54 89323.55 46685.23\n",
      "   2519.45]]\n",
      "[[   21.34    30.35    55.51    22.29   720.3  73643.09 89317.97 46772.32\n",
      "   2102.8 ]]\n",
      "[[   21.78    28.59    52.19    22.4    724.16 73487.86 89315.18 46815.87\n",
      "   1894.48]]\n",
      "[[   22.04    27.53    50.2     22.47   726.47 73394.73 89313.5  46842.\n",
      "   1769.48]]\n",
      "[[   22.22    26.83    48.88    22.52   728.02 73332.64 89312.39 46859.41\n",
      "   1686.15]]\n",
      "[[   22.34    26.32    47.93    22.55   729.12 73288.29 89311.59 46871.85\n",
      "   1626.63]]\n",
      "[[   22.44    25.95    47.22    22.58   729.95 73255.02 89310.99 46881.19\n",
      "   1581.99]]\n",
      "[[   22.51    25.65    46.67    22.6    730.59 73229.15 89310.53 46888.44\n",
      "   1547.27]]\n",
      "[[   22.57    25.42    46.22    22.61   731.11 73208.46 89310.16 46894.25\n",
      "   1519.49]]\n",
      "[[   22.62    25.22    45.86    22.63   731.53 73191.52 89309.85 46899.\n",
      "   1496.77]]\n"
     ]
    },
    {
     "data": {
      "text/plain": [
       "[70.56792,\n",
       " 70.56792,\n",
       " 70.56792,\n",
       " 70.567924,\n",
       " 70.68156,\n",
       " 73.45728,\n",
       " 73.45728,\n",
       " 76.08806,\n",
       " 70.567856,\n",
       " 70.56792,\n",
       " 70.56792,\n",
       " 70.56792,\n",
       " 70.56792,\n",
       " 70.56792,\n",
       " 70.56792,\n",
       " 70.56792,\n",
       " 70.56792,\n",
       " 70.56792]"
      ]
     },
     "execution_count": 98,
     "metadata": {},
     "output_type": "execute_result"
    }
   ],
   "source": [
    "\n",
    "# Amit egyszerűen nehezen tudok a mai agyammal felfogni, hogy van az, hogy vannak olyan pontok az idősorban\n",
    "# amikor tök mindegy hány új vm-et adnék hozzá azt mondja hogy mindíg ugyan az lenne a várható válaszidő.\n",
    "\n",
    "# Hogy a pékbe van ez?\n",
    "# Mi miatt van ez így?\n",
    "# A linreg nem teszi adott helyen a megfellő helyre az új metrika értéket?\n",
    "# Vagy a neurális háló?\n",
    "\n",
    "# A fenti est kitűnő példa erre.\n",
    "\n",
    "# Például a 40-ik eset pont ilyen.\n",
    "\n",
    "# ---> \n",
    "\n",
    "# Lehet, hogy ez olyan helyeken fordul elő, ahol a current worker number maximumon van.\n",
    "\n",
    "moric(40)\n",
    "\n",
    "moric(40, debug=True)"
   ]
  },
  {
   "cell_type": "code",
   "execution_count": null,
   "metadata": {},
   "outputs": [],
   "source": []
  }
 ],
 "metadata": {
  "colab": {
   "collapsed_sections": [],
   "name": "Metric Log.ipynb",
   "provenance": []
  },
  "kernelspec": {
   "display_name": "Python 3 (ipykernel)",
   "language": "python",
   "name": "python3"
  },
  "language_info": {
   "codemirror_mode": {
    "name": "ipython",
    "version": 3
   },
   "file_extension": ".py",
   "mimetype": "text/x-python",
   "name": "python",
   "nbconvert_exporter": "python",
   "pygments_lexer": "ipython3",
   "version": "3.8.10"
  }
 },
 "nbformat": 4,
 "nbformat_minor": 1
}
