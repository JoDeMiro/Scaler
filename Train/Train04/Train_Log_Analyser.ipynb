{
 "cells": [
  {
   "cell_type": "code",
   "execution_count": 147,
   "metadata": {
    "id": "gQ72ylODaJaZ"
   },
   "outputs": [
    {
     "name": "stdout",
     "output_type": "stream",
     "text": [
      "2.10.0\n",
      "2023-04-30 12:25:57\n",
      "12:25:57\n"
     ]
    }
   ],
   "source": [
    "# Fonots\n",
    "\n",
    "# Használathoz fel kell tölteni a metric_____.log filét ha Google Colabon használod.\n",
    "\n",
    "import tensorflow as tf\n",
    "import pandas as pd\n",
    "import numpy as np\n",
    "import matplotlib\n",
    "import matplotlib.pyplot as plt\n",
    "\n",
    "from datetime import datetime, date, time\n",
    "\n",
    "from tensorflow import keras\n",
    "from tensorflow.keras import layers\n",
    "\n",
    "from sklearn.linear_model import LinearRegression\n",
    "\n",
    "print(tf.__version__)\n",
    "\n",
    "import time\n",
    "ost = time.time()\n",
    "\n",
    "ost = time.strftime(\"%Y-%m-%d %H:%M:%S\", time.gmtime())\n",
    "print(ost)\n",
    "\n",
    "ost = time.strftime(\"%H:%M:%S\", time.gmtime())\n",
    "print(ost)"
   ]
  },
  {
   "cell_type": "code",
   "execution_count": 96,
   "metadata": {},
   "outputs": [],
   "source": [
    "metric_file_name = 'metric_train_by_none.log'"
   ]
  },
  {
   "cell_type": "code",
   "execution_count": 97,
   "metadata": {
    "id": "1UqvefmUahhy"
   },
   "outputs": [],
   "source": [
    "df = pd.read_csv(metric_file_name, sep=',', header=0)"
   ]
  },
  {
   "cell_type": "code",
   "execution_count": 98,
   "metadata": {},
   "outputs": [
    {
     "data": {
      "text/html": [
       "<div>\n",
       "<style scoped>\n",
       "    .dataframe tbody tr th:only-of-type {\n",
       "        vertical-align: middle;\n",
       "    }\n",
       "\n",
       "    .dataframe tbody tr th {\n",
       "        vertical-align: top;\n",
       "    }\n",
       "\n",
       "    .dataframe thead th {\n",
       "        text-align: right;\n",
       "    }\n",
       "</style>\n",
       "<table border=\"1\" class=\"dataframe\">\n",
       "  <thead>\n",
       "    <tr style=\"text-align: right;\">\n",
       "      <th></th>\n",
       "      <th>worker_give_metrics</th>\n",
       "      <th>write_to_csv_time</th>\n",
       "      <th>time</th>\n",
       "      <th>response_time_p95</th>\n",
       "      <th>response_time</th>\n",
       "      <th>worker_number</th>\n",
       "      <th>request_rate</th>\n",
       "      <th>CPU0User%</th>\n",
       "      <th>CPU0Idle%</th>\n",
       "      <th>CPU0Total%</th>\n",
       "      <th>...</th>\n",
       "      <th>[NUMA:0]Mapped</th>\n",
       "      <th>[NUMA:0]Anon</th>\n",
       "      <th>[NUMA:0]AnonH</th>\n",
       "      <th>[NUMA:0]Inactive</th>\n",
       "      <th>[NUMA:0]Hits</th>\n",
       "      <th>[TCPD]InReceives</th>\n",
       "      <th>[TCPD]InDelivers</th>\n",
       "      <th>[TCPD]OutRequests</th>\n",
       "      <th>[TCPD]InSegs</th>\n",
       "      <th>[TCPD]OutSegs</th>\n",
       "    </tr>\n",
       "  </thead>\n",
       "  <tbody>\n",
       "    <tr>\n",
       "      <th>0</th>\n",
       "      <td>192.168.0.170</td>\n",
       "      <td>10:27:24</td>\n",
       "      <td>10:27:2</td>\n",
       "      <td>4042.55730</td>\n",
       "      <td>2313.897845</td>\n",
       "      <td>1</td>\n",
       "      <td>5.8</td>\n",
       "      <td>96.4</td>\n",
       "      <td>0.9</td>\n",
       "      <td>99.1</td>\n",
       "      <td>...</td>\n",
       "      <td>0.0</td>\n",
       "      <td>31.2</td>\n",
       "      <td>32.2</td>\n",
       "      <td>0.0</td>\n",
       "      <td>0.0</td>\n",
       "      <td>0.0</td>\n",
       "      <td>0.0</td>\n",
       "      <td>0.0</td>\n",
       "      <td>0.0</td>\n",
       "      <td>0.0</td>\n",
       "    </tr>\n",
       "    <tr>\n",
       "      <th>1</th>\n",
       "      <td>192.168.0.170</td>\n",
       "      <td>10:27:34</td>\n",
       "      <td>10:27:3</td>\n",
       "      <td>2016.02450</td>\n",
       "      <td>1037.741364</td>\n",
       "      <td>1</td>\n",
       "      <td>5.5</td>\n",
       "      <td>96.0</td>\n",
       "      <td>0.7</td>\n",
       "      <td>99.3</td>\n",
       "      <td>...</td>\n",
       "      <td>0.0</td>\n",
       "      <td>40.6</td>\n",
       "      <td>38.1</td>\n",
       "      <td>0.0</td>\n",
       "      <td>0.0</td>\n",
       "      <td>0.0</td>\n",
       "      <td>0.0</td>\n",
       "      <td>0.0</td>\n",
       "      <td>0.0</td>\n",
       "      <td>0.0</td>\n",
       "    </tr>\n",
       "    <tr>\n",
       "      <th>2</th>\n",
       "      <td>192.168.0.170</td>\n",
       "      <td>10:27:44</td>\n",
       "      <td>10:27:4</td>\n",
       "      <td>7459.59195</td>\n",
       "      <td>4233.257538</td>\n",
       "      <td>1</td>\n",
       "      <td>5.2</td>\n",
       "      <td>95.9</td>\n",
       "      <td>0.9</td>\n",
       "      <td>99.1</td>\n",
       "      <td>...</td>\n",
       "      <td>0.0</td>\n",
       "      <td>38.4</td>\n",
       "      <td>36.1</td>\n",
       "      <td>0.0</td>\n",
       "      <td>0.0</td>\n",
       "      <td>0.0</td>\n",
       "      <td>0.0</td>\n",
       "      <td>0.0</td>\n",
       "      <td>0.0</td>\n",
       "      <td>0.0</td>\n",
       "    </tr>\n",
       "    <tr>\n",
       "      <th>3</th>\n",
       "      <td>192.168.0.170</td>\n",
       "      <td>10:27:54</td>\n",
       "      <td>10:27:5</td>\n",
       "      <td>10517.01750</td>\n",
       "      <td>3743.313127</td>\n",
       "      <td>2</td>\n",
       "      <td>7.1</td>\n",
       "      <td>97.4</td>\n",
       "      <td>0.4</td>\n",
       "      <td>99.6</td>\n",
       "      <td>...</td>\n",
       "      <td>0.0</td>\n",
       "      <td>24.0</td>\n",
       "      <td>27.0</td>\n",
       "      <td>0.0</td>\n",
       "      <td>0.0</td>\n",
       "      <td>0.0</td>\n",
       "      <td>0.0</td>\n",
       "      <td>0.0</td>\n",
       "      <td>0.0</td>\n",
       "      <td>0.0</td>\n",
       "    </tr>\n",
       "    <tr>\n",
       "      <th>4</th>\n",
       "      <td>192.168.0.170</td>\n",
       "      <td>10:28:03</td>\n",
       "      <td>10:28:0</td>\n",
       "      <td>5647.82210</td>\n",
       "      <td>3332.122743</td>\n",
       "      <td>1</td>\n",
       "      <td>7.0</td>\n",
       "      <td>95.8</td>\n",
       "      <td>0.8</td>\n",
       "      <td>99.2</td>\n",
       "      <td>...</td>\n",
       "      <td>0.0</td>\n",
       "      <td>41.1</td>\n",
       "      <td>38.5</td>\n",
       "      <td>0.0</td>\n",
       "      <td>0.0</td>\n",
       "      <td>0.0</td>\n",
       "      <td>0.0</td>\n",
       "      <td>0.0</td>\n",
       "      <td>0.0</td>\n",
       "      <td>0.0</td>\n",
       "    </tr>\n",
       "  </tbody>\n",
       "</table>\n",
       "<p>5 rows × 39 columns</p>\n",
       "</div>"
      ],
      "text/plain": [
       "  worker_give_metrics write_to_csv_time     time  response_time_p95  \\\n",
       "0       192.168.0.170          10:27:24  10:27:2         4042.55730   \n",
       "1       192.168.0.170          10:27:34  10:27:3         2016.02450   \n",
       "2       192.168.0.170          10:27:44  10:27:4         7459.59195   \n",
       "3       192.168.0.170          10:27:54  10:27:5        10517.01750   \n",
       "4       192.168.0.170          10:28:03  10:28:0         5647.82210   \n",
       "\n",
       "   response_time  worker_number  request_rate  CPU0User%  CPU0Idle%  \\\n",
       "0    2313.897845              1           5.8       96.4        0.9   \n",
       "1    1037.741364              1           5.5       96.0        0.7   \n",
       "2    4233.257538              1           5.2       95.9        0.9   \n",
       "3    3743.313127              2           7.1       97.4        0.4   \n",
       "4    3332.122743              1           7.0       95.8        0.8   \n",
       "\n",
       "   CPU0Total%  ...  [NUMA:0]Mapped  [NUMA:0]Anon  [NUMA:0]AnonH  \\\n",
       "0        99.1  ...             0.0          31.2           32.2   \n",
       "1        99.3  ...             0.0          40.6           38.1   \n",
       "2        99.1  ...             0.0          38.4           36.1   \n",
       "3        99.6  ...             0.0          24.0           27.0   \n",
       "4        99.2  ...             0.0          41.1           38.5   \n",
       "\n",
       "   [NUMA:0]Inactive   [NUMA:0]Hits  [TCPD]InReceives  [TCPD]InDelivers  \\\n",
       "0               0.0            0.0               0.0               0.0   \n",
       "1               0.0            0.0               0.0               0.0   \n",
       "2               0.0            0.0               0.0               0.0   \n",
       "3               0.0            0.0               0.0               0.0   \n",
       "4               0.0            0.0               0.0               0.0   \n",
       "\n",
       "   [TCPD]OutRequests  [TCPD]InSegs  [TCPD]OutSegs  \n",
       "0                0.0           0.0            0.0  \n",
       "1                0.0           0.0            0.0  \n",
       "2                0.0           0.0            0.0  \n",
       "3                0.0           0.0            0.0  \n",
       "4                0.0           0.0            0.0  \n",
       "\n",
       "[5 rows x 39 columns]"
      ]
     },
     "execution_count": 98,
     "metadata": {},
     "output_type": "execute_result"
    }
   ],
   "source": [
    "df.head()"
   ]
  },
  {
   "cell_type": "code",
   "execution_count": 99,
   "metadata": {},
   "outputs": [
    {
     "data": {
      "text/plain": [
       "array(['192.168.0.170'], dtype=object)"
      ]
     },
     "execution_count": 99,
     "metadata": {},
     "output_type": "execute_result"
    }
   ],
   "source": [
    "df['worker_give_metrics'].unique()"
   ]
  },
  {
   "cell_type": "code",
   "execution_count": 100,
   "metadata": {},
   "outputs": [
    {
     "data": {
      "image/png": "[encoded data removed]",
      "text/plain": [
       "<Figure size 1440x288 with 1 Axes>"
      ]
     },
     "metadata": {
      "needs_background": "light"
     },
     "output_type": "display_data"
    }
   ],
   "source": [
    "plt.figure(figsize=(20,4))\n",
    "plt.plot(df['response_time_p95'])\n",
    "plt.plot(df['response_time'])\n",
    "plt.show()"
   ]
  },
  {
   "cell_type": "code",
   "execution_count": 101,
   "metadata": {},
   "outputs": [
    {
     "data": {
      "image/png": "[encoded data removed]",
      "text/plain": [
       "<Figure size 1440x288 with 2 Axes>"
      ]
     },
     "metadata": {
      "needs_background": "light"
     },
     "output_type": "display_data"
    }
   ],
   "source": [
    "\n",
    "fig, ax1 = plt.subplots(figsize=(20, 4))\n",
    "\n",
    "ax1.plot(df['response_time'], label = 'RT', color = 'C0')\n",
    "ax1.plot(df['response_time_p95'], label = 'RT95%', color = 'C1')\n",
    "\n",
    "ax2 = ax1.twinx()\n",
    "\n",
    "ax2.plot(df['request_rate'], label = 'RR', color = 'C2')\n",
    "\n",
    "ax1.set_xlabel('time')\n",
    "ax1.set_ylabel('Response Time')\n",
    "ax2.set_ylabel('Request Rate')\n",
    "\n",
    "plt.show()"
   ]
  },
  {
   "cell_type": "code",
   "execution_count": 102,
   "metadata": {},
   "outputs": [
    {
     "data": {
      "image/png": "[encoded data removed]",
      "text/plain": [
       "<Figure size 1440x576 with 3 Axes>"
      ]
     },
     "metadata": {
      "needs_background": "light"
     },
     "output_type": "display_data"
    }
   ],
   "source": [
    "\n",
    "fig, (ax1, ax3) = plt.subplots(2, 1, figsize=(20, 8))\n",
    "\n",
    "ax1.plot(df['response_time'], color = 'C0')\n",
    "ax1.plot(df['response_time_p95'], color = 'C1')\n",
    "\n",
    "ax2 = ax1.twinx()\n",
    "\n",
    "ax2.plot(df['request_rate'], color = 'C2')\n",
    "\n",
    "ax1.set_xlabel('Time')\n",
    "ax1.set_ylabel('Response Time')\n",
    "ax2.set_ylabel('Request Rate')\n",
    "\n",
    "ax3.plot(df['worker_number'], color = 'black')\n",
    "ax3.set_xlabel('Time')\n",
    "ax3.set_ylabel('VM Number')\n",
    "\n",
    "plt.show()"
   ]
  },
  {
   "cell_type": "code",
   "execution_count": 103,
   "metadata": {},
   "outputs": [
    {
     "data": {
      "text/html": [
       "<div>\n",
       "<style scoped>\n",
       "    .dataframe tbody tr th:only-of-type {\n",
       "        vertical-align: middle;\n",
       "    }\n",
       "\n",
       "    .dataframe tbody tr th {\n",
       "        vertical-align: top;\n",
       "    }\n",
       "\n",
       "    .dataframe thead th {\n",
       "        text-align: right;\n",
       "    }\n",
       "</style>\n",
       "<table border=\"1\" class=\"dataframe\">\n",
       "  <thead>\n",
       "    <tr style=\"text-align: right;\">\n",
       "      <th></th>\n",
       "      <th>response_time_p95</th>\n",
       "      <th>response_time</th>\n",
       "      <th>worker_number</th>\n",
       "      <th>request_rate</th>\n",
       "    </tr>\n",
       "  </thead>\n",
       "  <tbody>\n",
       "    <tr>\n",
       "      <th>count</th>\n",
       "      <td>20.000000</td>\n",
       "      <td>20.000000</td>\n",
       "      <td>20.000000</td>\n",
       "      <td>20.000000</td>\n",
       "    </tr>\n",
       "    <tr>\n",
       "      <th>mean</th>\n",
       "      <td>4720.111870</td>\n",
       "      <td>2309.863871</td>\n",
       "      <td>2.350000</td>\n",
       "      <td>7.695000</td>\n",
       "    </tr>\n",
       "    <tr>\n",
       "      <th>std</th>\n",
       "      <td>4313.922836</td>\n",
       "      <td>2158.674315</td>\n",
       "      <td>1.631112</td>\n",
       "      <td>2.482672</td>\n",
       "    </tr>\n",
       "    <tr>\n",
       "      <th>min</th>\n",
       "      <td>218.808450</td>\n",
       "      <td>167.948650</td>\n",
       "      <td>1.000000</td>\n",
       "      <td>1.400000</td>\n",
       "    </tr>\n",
       "    <tr>\n",
       "      <th>25%</th>\n",
       "      <td>244.894225</td>\n",
       "      <td>197.073130</td>\n",
       "      <td>1.000000</td>\n",
       "      <td>6.250000</td>\n",
       "    </tr>\n",
       "    <tr>\n",
       "      <th>50%</th>\n",
       "      <td>3619.039350</td>\n",
       "      <td>1757.727718</td>\n",
       "      <td>2.000000</td>\n",
       "      <td>7.700000</td>\n",
       "    </tr>\n",
       "    <tr>\n",
       "      <th>75%</th>\n",
       "      <td>8481.773900</td>\n",
       "      <td>3786.417622</td>\n",
       "      <td>3.250000</td>\n",
       "      <td>10.000000</td>\n",
       "    </tr>\n",
       "    <tr>\n",
       "      <th>max</th>\n",
       "      <td>12257.813000</td>\n",
       "      <td>7443.025622</td>\n",
       "      <td>6.000000</td>\n",
       "      <td>10.000000</td>\n",
       "    </tr>\n",
       "  </tbody>\n",
       "</table>\n",
       "</div>"
      ],
      "text/plain": [
       "       response_time_p95  response_time  worker_number  request_rate\n",
       "count          20.000000      20.000000      20.000000     20.000000\n",
       "mean         4720.111870    2309.863871       2.350000      7.695000\n",
       "std          4313.922836    2158.674315       1.631112      2.482672\n",
       "min           218.808450     167.948650       1.000000      1.400000\n",
       "25%           244.894225     197.073130       1.000000      6.250000\n",
       "50%          3619.039350    1757.727718       2.000000      7.700000\n",
       "75%          8481.773900    3786.417622       3.250000     10.000000\n",
       "max         12257.813000    7443.025622       6.000000     10.000000"
      ]
     },
     "execution_count": 103,
     "metadata": {},
     "output_type": "execute_result"
    }
   ],
   "source": [
    "df.iloc[:, 0:7].describe()"
   ]
  },
  {
   "cell_type": "code",
   "execution_count": 104,
   "metadata": {
    "colab": {
     "base_uri": "https://localhost:8080/"
    },
    "id": "FDOsvqmgjYXr",
    "outputId": "c7401025-3d33-4398-98e5-ba804d4af9f6"
   },
   "outputs": [
    {
     "data": {
      "text/plain": [
       "Index(['worker_give_metrics', 'write_to_csv_time', 'time', 'response_time_p95',\n",
       "       'response_time', 'worker_number', 'request_rate', 'CPU0User%',\n",
       "       'CPU0Idle%', 'CPU0Total%', 'CPU1User%', 'CPU1Idle%', 'CPU1Total%',\n",
       "       '[DSK:sda]Reads', '[DSK:sda]RMerge', '[DSK:sda]RKBytes',\n",
       "       '[DSK:sda]WaitR', '[DSK:sda]Writes', '[DSK:sda]WMerge',\n",
       "       ' [DSK:sda]WKBytes', '[DSK:sda]WaitW', '[DSK:sda]Request',\n",
       "       '[DSK:sda]QueLen', '[DSK:sda]Wait', '[DSK:sda]SvcTim', '[DSK:sda]Util',\n",
       "       '[NUMA:0]Used', '[NUMA:0]Free', '[NUMA:0]Slab', '[NUMA:0]Mapped',\n",
       "       '[NUMA:0]Anon', '[NUMA:0]AnonH', '[NUMA:0]Inactive', ' [NUMA:0]Hits',\n",
       "       '[TCPD]InReceives', '[TCPD]InDelivers', '[TCPD]OutRequests',\n",
       "       '[TCPD]InSegs', '[TCPD]OutSegs'],\n",
       "      dtype='object')"
      ]
     },
     "execution_count": 104,
     "metadata": {},
     "output_type": "execute_result"
    }
   ],
   "source": [
    "df.columns"
   ]
  },
  {
   "cell_type": "code",
   "execution_count": 105,
   "metadata": {},
   "outputs": [
    {
     "data": {
      "image/png": "[encoded data removed]",
      "text/plain": [
       "<Figure size 1440x288 with 1 Axes>"
      ]
     },
     "metadata": {
      "needs_background": "light"
     },
     "output_type": "display_data"
    }
   ],
   "source": [
    "plt.figure(figsize=(20, 4))\n",
    "\n",
    "for col_name in df.columns:\n",
    "    if 'CPU' in col_name:\n",
    "        plt.plot(df[col_name], label = col_name)\n",
    "\n",
    "plt.legend(frameon=False)\n",
    "plt.show()"
   ]
  },
  {
   "cell_type": "code",
   "execution_count": 106,
   "metadata": {},
   "outputs": [
    {
     "data": {
      "text/html": [
       "<div>\n",
       "<style scoped>\n",
       "    .dataframe tbody tr th:only-of-type {\n",
       "        vertical-align: middle;\n",
       "    }\n",
       "\n",
       "    .dataframe tbody tr th {\n",
       "        vertical-align: top;\n",
       "    }\n",
       "\n",
       "    .dataframe thead th {\n",
       "        text-align: right;\n",
       "    }\n",
       "</style>\n",
       "<table border=\"1\" class=\"dataframe\">\n",
       "  <thead>\n",
       "    <tr style=\"text-align: right;\">\n",
       "      <th></th>\n",
       "      <th>CPU0User%</th>\n",
       "      <th>CPU0Idle%</th>\n",
       "      <th>CPU0Total%</th>\n",
       "      <th>CPU1User%</th>\n",
       "      <th>CPU1Idle%</th>\n",
       "      <th>CPU1Total%</th>\n",
       "    </tr>\n",
       "  </thead>\n",
       "  <tbody>\n",
       "    <tr>\n",
       "      <th>count</th>\n",
       "      <td>20.000000</td>\n",
       "      <td>20.000000</td>\n",
       "      <td>20.000000</td>\n",
       "      <td>20.0</td>\n",
       "      <td>20.000000</td>\n",
       "      <td>20.000000</td>\n",
       "    </tr>\n",
       "    <tr>\n",
       "      <th>mean</th>\n",
       "      <td>83.435000</td>\n",
       "      <td>13.645000</td>\n",
       "      <td>86.195000</td>\n",
       "      <td>0.0</td>\n",
       "      <td>55.670000</td>\n",
       "      <td>1.075000</td>\n",
       "    </tr>\n",
       "    <tr>\n",
       "      <th>std</th>\n",
       "      <td>20.235489</td>\n",
       "      <td>19.944752</td>\n",
       "      <td>20.225088</td>\n",
       "      <td>0.0</td>\n",
       "      <td>65.627049</td>\n",
       "      <td>0.946392</td>\n",
       "    </tr>\n",
       "    <tr>\n",
       "      <th>min</th>\n",
       "      <td>42.000000</td>\n",
       "      <td>0.200000</td>\n",
       "      <td>45.200000</td>\n",
       "      <td>0.0</td>\n",
       "      <td>4.000000</td>\n",
       "      <td>0.400000</td>\n",
       "    </tr>\n",
       "    <tr>\n",
       "      <th>25%</th>\n",
       "      <td>77.225000</td>\n",
       "      <td>0.700000</td>\n",
       "      <td>79.150000</td>\n",
       "      <td>0.0</td>\n",
       "      <td>7.400000</td>\n",
       "      <td>0.775000</td>\n",
       "    </tr>\n",
       "    <tr>\n",
       "      <th>50%</th>\n",
       "      <td>95.850000</td>\n",
       "      <td>0.850000</td>\n",
       "      <td>99.150000</td>\n",
       "      <td>0.0</td>\n",
       "      <td>10.000000</td>\n",
       "      <td>0.850000</td>\n",
       "    </tr>\n",
       "    <tr>\n",
       "      <th>75%</th>\n",
       "      <td>96.525000</td>\n",
       "      <td>20.725000</td>\n",
       "      <td>99.300000</td>\n",
       "      <td>0.0</td>\n",
       "      <td>103.175000</td>\n",
       "      <td>1.000000</td>\n",
       "    </tr>\n",
       "    <tr>\n",
       "      <th>max</th>\n",
       "      <td>97.800000</td>\n",
       "      <td>53.300000</td>\n",
       "      <td>99.800000</td>\n",
       "      <td>0.0</td>\n",
       "      <td>193.600000</td>\n",
       "      <td>5.000000</td>\n",
       "    </tr>\n",
       "  </tbody>\n",
       "</table>\n",
       "</div>"
      ],
      "text/plain": [
       "       CPU0User%  CPU0Idle%  CPU0Total%  CPU1User%   CPU1Idle%  CPU1Total%\n",
       "count  20.000000  20.000000   20.000000       20.0   20.000000   20.000000\n",
       "mean   83.435000  13.645000   86.195000        0.0   55.670000    1.075000\n",
       "std    20.235489  19.944752   20.225088        0.0   65.627049    0.946392\n",
       "min    42.000000   0.200000   45.200000        0.0    4.000000    0.400000\n",
       "25%    77.225000   0.700000   79.150000        0.0    7.400000    0.775000\n",
       "50%    95.850000   0.850000   99.150000        0.0   10.000000    0.850000\n",
       "75%    96.525000  20.725000   99.300000        0.0  103.175000    1.000000\n",
       "max    97.800000  53.300000   99.800000        0.0  193.600000    5.000000"
      ]
     },
     "execution_count": 106,
     "metadata": {},
     "output_type": "execute_result"
    }
   ],
   "source": [
    "df.iloc[:, 7:13].describe()"
   ]
  },
  {
   "cell_type": "code",
   "execution_count": 107,
   "metadata": {
    "colab": {
     "base_uri": "https://localhost:8080/",
     "height": 265
    },
    "id": "vLpOE2nokUNV",
    "outputId": "9c864191-b678-4779-d77f-b980802ada42"
   },
   "outputs": [
    {
     "data": {
      "image/png": "[encoded data removed]",
      "text/plain": [
       "<Figure size 1440x288 with 1 Axes>"
      ]
     },
     "metadata": {
      "needs_background": "light"
     },
     "output_type": "display_data"
    }
   ],
   "source": [
    "plt.figure(figsize=(20, 4))\n",
    "\n",
    "for col_name in df.columns:\n",
    "    if 'DSK' in col_name:\n",
    "        if df[col_name].describe()[2] > 0:\n",
    "            plt.plot(df[col_name], label = col_name)\n",
    "\n",
    "plt.legend(frameon=False)\n",
    "plt.show()"
   ]
  },
  {
   "cell_type": "code",
   "execution_count": 108,
   "metadata": {},
   "outputs": [
    {
     "data": {
      "text/html": [
       "<div>\n",
       "<style scoped>\n",
       "    .dataframe tbody tr th:only-of-type {\n",
       "        vertical-align: middle;\n",
       "    }\n",
       "\n",
       "    .dataframe tbody tr th {\n",
       "        vertical-align: top;\n",
       "    }\n",
       "\n",
       "    .dataframe thead th {\n",
       "        text-align: right;\n",
       "    }\n",
       "</style>\n",
       "<table border=\"1\" class=\"dataframe\">\n",
       "  <thead>\n",
       "    <tr style=\"text-align: right;\">\n",
       "      <th></th>\n",
       "      <th>[DSK:sda]Reads</th>\n",
       "      <th>[DSK:sda]RMerge</th>\n",
       "      <th>[DSK:sda]RKBytes</th>\n",
       "      <th>[DSK:sda]WaitR</th>\n",
       "      <th>[DSK:sda]Writes</th>\n",
       "      <th>[DSK:sda]WMerge</th>\n",
       "      <th>[DSK:sda]WKBytes</th>\n",
       "      <th>[DSK:sda]WaitW</th>\n",
       "      <th>[DSK:sda]Request</th>\n",
       "      <th>[DSK:sda]QueLen</th>\n",
       "      <th>[DSK:sda]Wait</th>\n",
       "      <th>[DSK:sda]SvcTim</th>\n",
       "      <th>[DSK:sda]Util</th>\n",
       "    </tr>\n",
       "  </thead>\n",
       "  <tbody>\n",
       "    <tr>\n",
       "      <th>count</th>\n",
       "      <td>20.000000</td>\n",
       "      <td>20.000000</td>\n",
       "      <td>20.000000</td>\n",
       "      <td>20.000000</td>\n",
       "      <td>20.000000</td>\n",
       "      <td>20.000000</td>\n",
       "      <td>20.0</td>\n",
       "      <td>20.000000</td>\n",
       "      <td>20.0</td>\n",
       "      <td>20.0</td>\n",
       "      <td>20.0</td>\n",
       "      <td>20.000000</td>\n",
       "      <td>20.0</td>\n",
       "    </tr>\n",
       "    <tr>\n",
       "      <th>mean</th>\n",
       "      <td>1.515000</td>\n",
       "      <td>911921.660000</td>\n",
       "      <td>92790.340000</td>\n",
       "      <td>88365.040000</td>\n",
       "      <td>54164.660000</td>\n",
       "      <td>691718.800000</td>\n",
       "      <td>0.0</td>\n",
       "      <td>39305.580000</td>\n",
       "      <td>100.0</td>\n",
       "      <td>0.0</td>\n",
       "      <td>0.0</td>\n",
       "      <td>28.270000</td>\n",
       "      <td>0.0</td>\n",
       "    </tr>\n",
       "    <tr>\n",
       "      <th>std</th>\n",
       "      <td>1.625868</td>\n",
       "      <td>3356.700433</td>\n",
       "      <td>3356.700433</td>\n",
       "      <td>441.579412</td>\n",
       "      <td>1913.595772</td>\n",
       "      <td>2021.628042</td>\n",
       "      <td>0.0</td>\n",
       "      <td>2000.801816</td>\n",
       "      <td>0.0</td>\n",
       "      <td>0.0</td>\n",
       "      <td>0.0</td>\n",
       "      <td>8.377294</td>\n",
       "      <td>0.0</td>\n",
       "    </tr>\n",
       "    <tr>\n",
       "      <th>min</th>\n",
       "      <td>0.400000</td>\n",
       "      <td>903620.800000</td>\n",
       "      <td>88617.600000</td>\n",
       "      <td>87341.600000</td>\n",
       "      <td>50430.000000</td>\n",
       "      <td>687029.600000</td>\n",
       "      <td>0.0</td>\n",
       "      <td>36050.000000</td>\n",
       "      <td>100.0</td>\n",
       "      <td>0.0</td>\n",
       "      <td>0.0</td>\n",
       "      <td>14.700000</td>\n",
       "      <td>0.0</td>\n",
       "    </tr>\n",
       "    <tr>\n",
       "      <th>25%</th>\n",
       "      <td>0.775000</td>\n",
       "      <td>910482.600000</td>\n",
       "      <td>90255.900000</td>\n",
       "      <td>88006.700000</td>\n",
       "      <td>52668.300000</td>\n",
       "      <td>690923.200000</td>\n",
       "      <td>0.0</td>\n",
       "      <td>38101.700000</td>\n",
       "      <td>100.0</td>\n",
       "      <td>0.0</td>\n",
       "      <td>0.0</td>\n",
       "      <td>23.275000</td>\n",
       "      <td>0.0</td>\n",
       "    </tr>\n",
       "    <tr>\n",
       "      <th>50%</th>\n",
       "      <td>0.850000</td>\n",
       "      <td>912829.800000</td>\n",
       "      <td>91882.200000</td>\n",
       "      <td>88484.400000</td>\n",
       "      <td>53969.200000</td>\n",
       "      <td>691414.000000</td>\n",
       "      <td>0.0</td>\n",
       "      <td>38994.200000</td>\n",
       "      <td>100.0</td>\n",
       "      <td>0.0</td>\n",
       "      <td>0.0</td>\n",
       "      <td>28.900000</td>\n",
       "      <td>0.0</td>\n",
       "    </tr>\n",
       "    <tr>\n",
       "      <th>75%</th>\n",
       "      <td>1.425000</td>\n",
       "      <td>914456.100000</td>\n",
       "      <td>94229.400000</td>\n",
       "      <td>88790.900000</td>\n",
       "      <td>55732.900000</td>\n",
       "      <td>692477.100000</td>\n",
       "      <td>0.0</td>\n",
       "      <td>40645.100000</td>\n",
       "      <td>100.0</td>\n",
       "      <td>0.0</td>\n",
       "      <td>0.0</td>\n",
       "      <td>34.075000</td>\n",
       "      <td>0.0</td>\n",
       "    </tr>\n",
       "    <tr>\n",
       "      <th>max</th>\n",
       "      <td>6.100000</td>\n",
       "      <td>916094.400000</td>\n",
       "      <td>101091.200000</td>\n",
       "      <td>88906.800000</td>\n",
       "      <td>57150.000000</td>\n",
       "      <td>695525.600000</td>\n",
       "      <td>0.0</td>\n",
       "      <td>42545.600000</td>\n",
       "      <td>100.0</td>\n",
       "      <td>0.0</td>\n",
       "      <td>0.0</td>\n",
       "      <td>41.100000</td>\n",
       "      <td>0.0</td>\n",
       "    </tr>\n",
       "  </tbody>\n",
       "</table>\n",
       "</div>"
      ],
      "text/plain": [
       "       [DSK:sda]Reads  [DSK:sda]RMerge  [DSK:sda]RKBytes  [DSK:sda]WaitR  \\\n",
       "count       20.000000        20.000000         20.000000       20.000000   \n",
       "mean         1.515000    911921.660000      92790.340000    88365.040000   \n",
       "std          1.625868      3356.700433       3356.700433      441.579412   \n",
       "min          0.400000    903620.800000      88617.600000    87341.600000   \n",
       "25%          0.775000    910482.600000      90255.900000    88006.700000   \n",
       "50%          0.850000    912829.800000      91882.200000    88484.400000   \n",
       "75%          1.425000    914456.100000      94229.400000    88790.900000   \n",
       "max          6.100000    916094.400000     101091.200000    88906.800000   \n",
       "\n",
       "       [DSK:sda]Writes  [DSK:sda]WMerge   [DSK:sda]WKBytes  [DSK:sda]WaitW  \\\n",
       "count        20.000000        20.000000               20.0       20.000000   \n",
       "mean      54164.660000    691718.800000                0.0    39305.580000   \n",
       "std        1913.595772      2021.628042                0.0     2000.801816   \n",
       "min       50430.000000    687029.600000                0.0    36050.000000   \n",
       "25%       52668.300000    690923.200000                0.0    38101.700000   \n",
       "50%       53969.200000    691414.000000                0.0    38994.200000   \n",
       "75%       55732.900000    692477.100000                0.0    40645.100000   \n",
       "max       57150.000000    695525.600000                0.0    42545.600000   \n",
       "\n",
       "       [DSK:sda]Request  [DSK:sda]QueLen  [DSK:sda]Wait  [DSK:sda]SvcTim  \\\n",
       "count              20.0             20.0           20.0        20.000000   \n",
       "mean              100.0              0.0            0.0        28.270000   \n",
       "std                 0.0              0.0            0.0         8.377294   \n",
       "min               100.0              0.0            0.0        14.700000   \n",
       "25%               100.0              0.0            0.0        23.275000   \n",
       "50%               100.0              0.0            0.0        28.900000   \n",
       "75%               100.0              0.0            0.0        34.075000   \n",
       "max               100.0              0.0            0.0        41.100000   \n",
       "\n",
       "       [DSK:sda]Util  \n",
       "count           20.0  \n",
       "mean             0.0  \n",
       "std              0.0  \n",
       "min              0.0  \n",
       "25%              0.0  \n",
       "50%              0.0  \n",
       "75%              0.0  \n",
       "max              0.0  "
      ]
     },
     "execution_count": 108,
     "metadata": {},
     "output_type": "execute_result"
    }
   ],
   "source": [
    "df.iloc[:, 13:26].describe()"
   ]
  },
  {
   "cell_type": "code",
   "execution_count": 109,
   "metadata": {
    "colab": {
     "base_uri": "https://localhost:8080/",
     "height": 300
    },
    "id": "ZWeaat0kneBV",
    "outputId": "e54752c1-df34-4b52-ed50-787e67d4f676"
   },
   "outputs": [
    {
     "data": {
      "text/html": [
       "<div>\n",
       "<style scoped>\n",
       "    .dataframe tbody tr th:only-of-type {\n",
       "        vertical-align: middle;\n",
       "    }\n",
       "\n",
       "    .dataframe tbody tr th {\n",
       "        vertical-align: top;\n",
       "    }\n",
       "\n",
       "    .dataframe thead th {\n",
       "        text-align: right;\n",
       "    }\n",
       "</style>\n",
       "<table border=\"1\" class=\"dataframe\">\n",
       "  <thead>\n",
       "    <tr style=\"text-align: right;\">\n",
       "      <th></th>\n",
       "      <th>[NUMA:0]Used</th>\n",
       "      <th>[NUMA:0]Free</th>\n",
       "      <th>[NUMA:0]Slab</th>\n",
       "      <th>[NUMA:0]Mapped</th>\n",
       "      <th>[NUMA:0]Anon</th>\n",
       "      <th>[NUMA:0]AnonH</th>\n",
       "      <th>[NUMA:0]Inactive</th>\n",
       "      <th>[NUMA:0]Hits</th>\n",
       "    </tr>\n",
       "  </thead>\n",
       "  <tbody>\n",
       "    <tr>\n",
       "      <th>count</th>\n",
       "      <td>20.0</td>\n",
       "      <td>20.0</td>\n",
       "      <td>20.0</td>\n",
       "      <td>20.0</td>\n",
       "      <td>20.000000</td>\n",
       "      <td>20.000000</td>\n",
       "      <td>20.0</td>\n",
       "      <td>20.0</td>\n",
       "    </tr>\n",
       "    <tr>\n",
       "      <th>mean</th>\n",
       "      <td>0.0</td>\n",
       "      <td>0.0</td>\n",
       "      <td>0.0</td>\n",
       "      <td>0.0</td>\n",
       "      <td>28.270000</td>\n",
       "      <td>28.160000</td>\n",
       "      <td>0.0</td>\n",
       "      <td>0.0</td>\n",
       "    </tr>\n",
       "    <tr>\n",
       "      <th>std</th>\n",
       "      <td>0.0</td>\n",
       "      <td>0.0</td>\n",
       "      <td>0.0</td>\n",
       "      <td>0.0</td>\n",
       "      <td>8.377294</td>\n",
       "      <td>7.711263</td>\n",
       "      <td>0.0</td>\n",
       "      <td>0.0</td>\n",
       "    </tr>\n",
       "    <tr>\n",
       "      <th>min</th>\n",
       "      <td>0.0</td>\n",
       "      <td>0.0</td>\n",
       "      <td>0.0</td>\n",
       "      <td>0.0</td>\n",
       "      <td>14.700000</td>\n",
       "      <td>14.200000</td>\n",
       "      <td>0.0</td>\n",
       "      <td>0.0</td>\n",
       "    </tr>\n",
       "    <tr>\n",
       "      <th>25%</th>\n",
       "      <td>0.0</td>\n",
       "      <td>0.0</td>\n",
       "      <td>0.0</td>\n",
       "      <td>0.0</td>\n",
       "      <td>23.275000</td>\n",
       "      <td>24.625000</td>\n",
       "      <td>0.0</td>\n",
       "      <td>0.0</td>\n",
       "    </tr>\n",
       "    <tr>\n",
       "      <th>50%</th>\n",
       "      <td>0.0</td>\n",
       "      <td>0.0</td>\n",
       "      <td>0.0</td>\n",
       "      <td>0.0</td>\n",
       "      <td>28.900000</td>\n",
       "      <td>29.350000</td>\n",
       "      <td>0.0</td>\n",
       "      <td>0.0</td>\n",
       "    </tr>\n",
       "    <tr>\n",
       "      <th>75%</th>\n",
       "      <td>0.0</td>\n",
       "      <td>0.0</td>\n",
       "      <td>0.0</td>\n",
       "      <td>0.0</td>\n",
       "      <td>34.075000</td>\n",
       "      <td>33.725000</td>\n",
       "      <td>0.0</td>\n",
       "      <td>0.0</td>\n",
       "    </tr>\n",
       "    <tr>\n",
       "      <th>max</th>\n",
       "      <td>0.0</td>\n",
       "      <td>0.0</td>\n",
       "      <td>0.0</td>\n",
       "      <td>0.0</td>\n",
       "      <td>41.100000</td>\n",
       "      <td>38.500000</td>\n",
       "      <td>0.0</td>\n",
       "      <td>0.0</td>\n",
       "    </tr>\n",
       "  </tbody>\n",
       "</table>\n",
       "</div>"
      ],
      "text/plain": [
       "       [NUMA:0]Used  [NUMA:0]Free  [NUMA:0]Slab  [NUMA:0]Mapped  [NUMA:0]Anon  \\\n",
       "count          20.0          20.0          20.0            20.0     20.000000   \n",
       "mean            0.0           0.0           0.0             0.0     28.270000   \n",
       "std             0.0           0.0           0.0             0.0      8.377294   \n",
       "min             0.0           0.0           0.0             0.0     14.700000   \n",
       "25%             0.0           0.0           0.0             0.0     23.275000   \n",
       "50%             0.0           0.0           0.0             0.0     28.900000   \n",
       "75%             0.0           0.0           0.0             0.0     34.075000   \n",
       "max             0.0           0.0           0.0             0.0     41.100000   \n",
       "\n",
       "       [NUMA:0]AnonH  [NUMA:0]Inactive   [NUMA:0]Hits  \n",
       "count      20.000000              20.0           20.0  \n",
       "mean       28.160000               0.0            0.0  \n",
       "std         7.711263               0.0            0.0  \n",
       "min        14.200000               0.0            0.0  \n",
       "25%        24.625000               0.0            0.0  \n",
       "50%        29.350000               0.0            0.0  \n",
       "75%        33.725000               0.0            0.0  \n",
       "max        38.500000               0.0            0.0  "
      ]
     },
     "execution_count": 109,
     "metadata": {},
     "output_type": "execute_result"
    }
   ],
   "source": [
    "df.iloc[:, 26:34].describe()"
   ]
  },
  {
   "cell_type": "code",
   "execution_count": 110,
   "metadata": {},
   "outputs": [
    {
     "data": {
      "image/png": "[encoded data removed]",
      "text/plain": [
       "<Figure size 1440x288 with 1 Axes>"
      ]
     },
     "metadata": {
      "needs_background": "light"
     },
     "output_type": "display_data"
    },
    {
     "data": {
      "image/png": "[encoded data removed]",
      "text/plain": [
       "<Figure size 1440x288 with 1 Axes>"
      ]
     },
     "metadata": {
      "needs_background": "light"
     },
     "output_type": "display_data"
    }
   ],
   "source": [
    "for col_name in df.columns:\n",
    "    if 'NUMA' in col_name:\n",
    "        if df[col_name].describe()[2] > 0:\n",
    "            plt.figure(figsize=(20, 4))\n",
    "            plt.ticklabel_format(useOffset=False)\n",
    "            plt.ticklabel_format(style='plain')\n",
    "            plt.plot(df[col_name], label = col_name)\n",
    "            plt.legend(frameon=False)\n",
    "            plt.show()"
   ]
  },
  {
   "cell_type": "code",
   "execution_count": 111,
   "metadata": {
    "colab": {
     "base_uri": "https://localhost:8080/",
     "height": 265
    },
    "id": "yebPrfaDpke2",
    "outputId": "1aa3c2c7-7859-4824-c9ba-fa3d449826fe"
   },
   "outputs": [
    {
     "name": "stderr",
     "output_type": "stream",
     "text": [
      "No handles with labels found to put in legend.\n"
     ]
    },
    {
     "data": {
      "image/png": "[encoded data removed]",
      "text/plain": [
       "<Figure size 1440x288 with 1 Axes>"
      ]
     },
     "metadata": {
      "needs_background": "light"
     },
     "output_type": "display_data"
    }
   ],
   "source": [
    "plt.figure(figsize=(20, 4))\n",
    "\n",
    "for col_name in df.columns:\n",
    "    if 'TCP' in col_name:\n",
    "        if df[col_name].describe()[2] > 0:\n",
    "            plt.plot(df[col_name], label = col_name)\n",
    "\n",
    "plt.legend(frameon=False)\n",
    "plt.show()"
   ]
  },
  {
   "cell_type": "markdown",
   "metadata": {
    "id": "L3kmCEPlxOMP"
   },
   "source": [
    "## CPU Threshod és Response Time Threshold\n",
    "\n",
    "Két féle skálázást csináltam azonos terheléssel.\n",
    "\n",
    "A két féle skálázásból származó log filokat beolvasom és összehasonlítom."
   ]
  },
  {
   "cell_type": "code",
   "execution_count": 112,
   "metadata": {
    "id": "Ad85O3JEBXKC"
   },
   "outputs": [],
   "source": [
    "train_log_file_name  = 'scaled_train_by_none.log'"
   ]
  },
  {
   "cell_type": "code",
   "execution_count": 113,
   "metadata": {
    "id": "6yPxm8VYpsh5"
   },
   "outputs": [],
   "source": [
    "cf = pd.read_csv(train_log_file_name, sep=',', header=0)"
   ]
  },
  {
   "cell_type": "code",
   "execution_count": 114,
   "metadata": {
    "id": "4-UHbXvd_PIv"
   },
   "outputs": [
    {
     "name": "stdout",
     "output_type": "stream",
     "text": [
      "15\n"
     ]
    }
   ],
   "source": [
    "print(cf.count()[0])"
   ]
  },
  {
   "cell_type": "code",
   "execution_count": 115,
   "metadata": {},
   "outputs": [],
   "source": [
    "cf['otime'] = cf['time']\n",
    "\n",
    "cf['time'] = cf['otime'].str[:-1]"
   ]
  },
  {
   "cell_type": "code",
   "execution_count": 116,
   "metadata": {},
   "outputs": [
    {
     "data": {
      "text/html": [
       "<div>\n",
       "<style scoped>\n",
       "    .dataframe tbody tr th:only-of-type {\n",
       "        vertical-align: middle;\n",
       "    }\n",
       "\n",
       "    .dataframe tbody tr th {\n",
       "        vertical-align: top;\n",
       "    }\n",
       "\n",
       "    .dataframe thead th {\n",
       "        text-align: right;\n",
       "    }\n",
       "</style>\n",
       "<table border=\"1\" class=\"dataframe\">\n",
       "  <thead>\n",
       "    <tr style=\"text-align: right;\">\n",
       "      <th></th>\n",
       "      <th>time</th>\n",
       "      <th>notification</th>\n",
       "      <th>actual_vm_number_was</th>\n",
       "      <th>actual_vm_number_is</th>\n",
       "      <th>otime</th>\n",
       "    </tr>\n",
       "  </thead>\n",
       "  <tbody>\n",
       "    <tr>\n",
       "      <th>0</th>\n",
       "      <td>10:27:4</td>\n",
       "      <td>Worker 192.168.0.116 added.</td>\n",
       "      <td>1</td>\n",
       "      <td>2</td>\n",
       "      <td>10:27:44</td>\n",
       "    </tr>\n",
       "    <tr>\n",
       "      <th>1</th>\n",
       "      <td>10:27:5</td>\n",
       "      <td>Worker 192.168.0.116 removed.</td>\n",
       "      <td>2</td>\n",
       "      <td>1</td>\n",
       "      <td>10:27:54</td>\n",
       "    </tr>\n",
       "    <tr>\n",
       "      <th>2</th>\n",
       "      <td>10:28:0</td>\n",
       "      <td>Worker 192.168.0.116 added.</td>\n",
       "      <td>1</td>\n",
       "      <td>2</td>\n",
       "      <td>10:28:03</td>\n",
       "    </tr>\n",
       "    <tr>\n",
       "      <th>3</th>\n",
       "      <td>10:28:1</td>\n",
       "      <td>Worker 192.168.0.46 added.</td>\n",
       "      <td>2</td>\n",
       "      <td>3</td>\n",
       "      <td>10:28:13</td>\n",
       "    </tr>\n",
       "    <tr>\n",
       "      <th>4</th>\n",
       "      <td>10:28:2</td>\n",
       "      <td>Worker 192.168.0.219 added.</td>\n",
       "      <td>3</td>\n",
       "      <td>4</td>\n",
       "      <td>10:28:21</td>\n",
       "    </tr>\n",
       "  </tbody>\n",
       "</table>\n",
       "</div>"
      ],
      "text/plain": [
       "      time                   notification  actual_vm_number_was  \\\n",
       "0  10:27:4    Worker 192.168.0.116 added.                     1   \n",
       "1  10:27:5  Worker 192.168.0.116 removed.                     2   \n",
       "2  10:28:0    Worker 192.168.0.116 added.                     1   \n",
       "3  10:28:1     Worker 192.168.0.46 added.                     2   \n",
       "4  10:28:2    Worker 192.168.0.219 added.                     3   \n",
       "\n",
       "   actual_vm_number_is     otime  \n",
       "0                    2  10:27:44  \n",
       "1                    1  10:27:54  \n",
       "2                    2  10:28:03  \n",
       "3                    3  10:28:13  \n",
       "4                    4  10:28:21  "
      ]
     },
     "execution_count": 116,
     "metadata": {},
     "output_type": "execute_result"
    }
   ],
   "source": [
    "cf.head()"
   ]
  },
  {
   "cell_type": "code",
   "execution_count": 117,
   "metadata": {},
   "outputs": [
    {
     "data": {
      "text/plain": [
       "array(['Worker 192.168.0.116 added.', 'Worker 192.168.0.116 removed.',\n",
       "       'Worker 192.168.0.46 added.', 'Worker 192.168.0.219 added.',\n",
       "       'Worker 192.168.0.233 added.', 'Worker 192.168.0.230 added.',\n",
       "       'Worker 192.168.0.46 removed.', 'Worker 192.168.0.219 removed.',\n",
       "       'Worker 192.168.0.233 removed.', 'Worker 192.168.0.230 removed.'],\n",
       "      dtype=object)"
      ]
     },
     "execution_count": 117,
     "metadata": {},
     "output_type": "execute_result"
    }
   ],
   "source": [
    "cf['notification'].unique()"
   ]
  },
  {
   "cell_type": "code",
   "execution_count": 118,
   "metadata": {},
   "outputs": [],
   "source": [
    "# ezt kell összeillesztenem a másik adatbázissal a time alapján"
   ]
  },
  {
   "cell_type": "code",
   "execution_count": 119,
   "metadata": {},
   "outputs": [
    {
     "data": {
      "text/html": [
       "<div>\n",
       "<style scoped>\n",
       "    .dataframe tbody tr th:only-of-type {\n",
       "        vertical-align: middle;\n",
       "    }\n",
       "\n",
       "    .dataframe tbody tr th {\n",
       "        vertical-align: top;\n",
       "    }\n",
       "\n",
       "    .dataframe thead th {\n",
       "        text-align: right;\n",
       "    }\n",
       "</style>\n",
       "<table border=\"1\" class=\"dataframe\">\n",
       "  <thead>\n",
       "    <tr style=\"text-align: right;\">\n",
       "      <th></th>\n",
       "      <th>worker_give_metrics</th>\n",
       "      <th>write_to_csv_time</th>\n",
       "      <th>time</th>\n",
       "      <th>response_time_p95</th>\n",
       "      <th>response_time</th>\n",
       "      <th>worker_number</th>\n",
       "      <th>request_rate</th>\n",
       "      <th>CPU0User%</th>\n",
       "      <th>CPU0Idle%</th>\n",
       "      <th>CPU0Total%</th>\n",
       "      <th>...</th>\n",
       "      <th>[NUMA:0]Mapped</th>\n",
       "      <th>[NUMA:0]Anon</th>\n",
       "      <th>[NUMA:0]AnonH</th>\n",
       "      <th>[NUMA:0]Inactive</th>\n",
       "      <th>[NUMA:0]Hits</th>\n",
       "      <th>[TCPD]InReceives</th>\n",
       "      <th>[TCPD]InDelivers</th>\n",
       "      <th>[TCPD]OutRequests</th>\n",
       "      <th>[TCPD]InSegs</th>\n",
       "      <th>[TCPD]OutSegs</th>\n",
       "    </tr>\n",
       "  </thead>\n",
       "  <tbody>\n",
       "    <tr>\n",
       "      <th>0</th>\n",
       "      <td>192.168.0.170</td>\n",
       "      <td>10:27:24</td>\n",
       "      <td>10:27:2</td>\n",
       "      <td>4042.55730</td>\n",
       "      <td>2313.897845</td>\n",
       "      <td>1</td>\n",
       "      <td>5.8</td>\n",
       "      <td>96.4</td>\n",
       "      <td>0.9</td>\n",
       "      <td>99.1</td>\n",
       "      <td>...</td>\n",
       "      <td>0.0</td>\n",
       "      <td>31.2</td>\n",
       "      <td>32.2</td>\n",
       "      <td>0.0</td>\n",
       "      <td>0.0</td>\n",
       "      <td>0.0</td>\n",
       "      <td>0.0</td>\n",
       "      <td>0.0</td>\n",
       "      <td>0.0</td>\n",
       "      <td>0.0</td>\n",
       "    </tr>\n",
       "    <tr>\n",
       "      <th>1</th>\n",
       "      <td>192.168.0.170</td>\n",
       "      <td>10:27:34</td>\n",
       "      <td>10:27:3</td>\n",
       "      <td>2016.02450</td>\n",
       "      <td>1037.741364</td>\n",
       "      <td>1</td>\n",
       "      <td>5.5</td>\n",
       "      <td>96.0</td>\n",
       "      <td>0.7</td>\n",
       "      <td>99.3</td>\n",
       "      <td>...</td>\n",
       "      <td>0.0</td>\n",
       "      <td>40.6</td>\n",
       "      <td>38.1</td>\n",
       "      <td>0.0</td>\n",
       "      <td>0.0</td>\n",
       "      <td>0.0</td>\n",
       "      <td>0.0</td>\n",
       "      <td>0.0</td>\n",
       "      <td>0.0</td>\n",
       "      <td>0.0</td>\n",
       "    </tr>\n",
       "    <tr>\n",
       "      <th>2</th>\n",
       "      <td>192.168.0.170</td>\n",
       "      <td>10:27:44</td>\n",
       "      <td>10:27:4</td>\n",
       "      <td>7459.59195</td>\n",
       "      <td>4233.257538</td>\n",
       "      <td>1</td>\n",
       "      <td>5.2</td>\n",
       "      <td>95.9</td>\n",
       "      <td>0.9</td>\n",
       "      <td>99.1</td>\n",
       "      <td>...</td>\n",
       "      <td>0.0</td>\n",
       "      <td>38.4</td>\n",
       "      <td>36.1</td>\n",
       "      <td>0.0</td>\n",
       "      <td>0.0</td>\n",
       "      <td>0.0</td>\n",
       "      <td>0.0</td>\n",
       "      <td>0.0</td>\n",
       "      <td>0.0</td>\n",
       "      <td>0.0</td>\n",
       "    </tr>\n",
       "    <tr>\n",
       "      <th>3</th>\n",
       "      <td>192.168.0.170</td>\n",
       "      <td>10:27:54</td>\n",
       "      <td>10:27:5</td>\n",
       "      <td>10517.01750</td>\n",
       "      <td>3743.313127</td>\n",
       "      <td>2</td>\n",
       "      <td>7.1</td>\n",
       "      <td>97.4</td>\n",
       "      <td>0.4</td>\n",
       "      <td>99.6</td>\n",
       "      <td>...</td>\n",
       "      <td>0.0</td>\n",
       "      <td>24.0</td>\n",
       "      <td>27.0</td>\n",
       "      <td>0.0</td>\n",
       "      <td>0.0</td>\n",
       "      <td>0.0</td>\n",
       "      <td>0.0</td>\n",
       "      <td>0.0</td>\n",
       "      <td>0.0</td>\n",
       "      <td>0.0</td>\n",
       "    </tr>\n",
       "    <tr>\n",
       "      <th>4</th>\n",
       "      <td>192.168.0.170</td>\n",
       "      <td>10:28:03</td>\n",
       "      <td>10:28:0</td>\n",
       "      <td>5647.82210</td>\n",
       "      <td>3332.122743</td>\n",
       "      <td>1</td>\n",
       "      <td>7.0</td>\n",
       "      <td>95.8</td>\n",
       "      <td>0.8</td>\n",
       "      <td>99.2</td>\n",
       "      <td>...</td>\n",
       "      <td>0.0</td>\n",
       "      <td>41.1</td>\n",
       "      <td>38.5</td>\n",
       "      <td>0.0</td>\n",
       "      <td>0.0</td>\n",
       "      <td>0.0</td>\n",
       "      <td>0.0</td>\n",
       "      <td>0.0</td>\n",
       "      <td>0.0</td>\n",
       "      <td>0.0</td>\n",
       "    </tr>\n",
       "  </tbody>\n",
       "</table>\n",
       "<p>5 rows × 39 columns</p>\n",
       "</div>"
      ],
      "text/plain": [
       "  worker_give_metrics write_to_csv_time     time  response_time_p95  \\\n",
       "0       192.168.0.170          10:27:24  10:27:2         4042.55730   \n",
       "1       192.168.0.170          10:27:34  10:27:3         2016.02450   \n",
       "2       192.168.0.170          10:27:44  10:27:4         7459.59195   \n",
       "3       192.168.0.170          10:27:54  10:27:5        10517.01750   \n",
       "4       192.168.0.170          10:28:03  10:28:0         5647.82210   \n",
       "\n",
       "   response_time  worker_number  request_rate  CPU0User%  CPU0Idle%  \\\n",
       "0    2313.897845              1           5.8       96.4        0.9   \n",
       "1    1037.741364              1           5.5       96.0        0.7   \n",
       "2    4233.257538              1           5.2       95.9        0.9   \n",
       "3    3743.313127              2           7.1       97.4        0.4   \n",
       "4    3332.122743              1           7.0       95.8        0.8   \n",
       "\n",
       "   CPU0Total%  ...  [NUMA:0]Mapped  [NUMA:0]Anon  [NUMA:0]AnonH  \\\n",
       "0        99.1  ...             0.0          31.2           32.2   \n",
       "1        99.3  ...             0.0          40.6           38.1   \n",
       "2        99.1  ...             0.0          38.4           36.1   \n",
       "3        99.6  ...             0.0          24.0           27.0   \n",
       "4        99.2  ...             0.0          41.1           38.5   \n",
       "\n",
       "   [NUMA:0]Inactive   [NUMA:0]Hits  [TCPD]InReceives  [TCPD]InDelivers  \\\n",
       "0               0.0            0.0               0.0               0.0   \n",
       "1               0.0            0.0               0.0               0.0   \n",
       "2               0.0            0.0               0.0               0.0   \n",
       "3               0.0            0.0               0.0               0.0   \n",
       "4               0.0            0.0               0.0               0.0   \n",
       "\n",
       "   [TCPD]OutRequests  [TCPD]InSegs  [TCPD]OutSegs  \n",
       "0                0.0           0.0            0.0  \n",
       "1                0.0           0.0            0.0  \n",
       "2                0.0           0.0            0.0  \n",
       "3                0.0           0.0            0.0  \n",
       "4                0.0           0.0            0.0  \n",
       "\n",
       "[5 rows x 39 columns]"
      ]
     },
     "execution_count": 119,
     "metadata": {},
     "output_type": "execute_result"
    }
   ],
   "source": [
    "df.head()"
   ]
  },
  {
   "cell_type": "code",
   "execution_count": 120,
   "metadata": {},
   "outputs": [],
   "source": [
    "mf = df.merge(cf, on='time', how='left')"
   ]
  },
  {
   "cell_type": "code",
   "execution_count": 121,
   "metadata": {},
   "outputs": [
    {
     "data": {
      "text/html": [
       "<div>\n",
       "<style scoped>\n",
       "    .dataframe tbody tr th:only-of-type {\n",
       "        vertical-align: middle;\n",
       "    }\n",
       "\n",
       "    .dataframe tbody tr th {\n",
       "        vertical-align: top;\n",
       "    }\n",
       "\n",
       "    .dataframe thead th {\n",
       "        text-align: right;\n",
       "    }\n",
       "</style>\n",
       "<table border=\"1\" class=\"dataframe\">\n",
       "  <thead>\n",
       "    <tr style=\"text-align: right;\">\n",
       "      <th></th>\n",
       "      <th>worker_give_metrics</th>\n",
       "      <th>write_to_csv_time</th>\n",
       "      <th>time</th>\n",
       "      <th>response_time_p95</th>\n",
       "      <th>response_time</th>\n",
       "      <th>worker_number</th>\n",
       "      <th>request_rate</th>\n",
       "      <th>CPU0User%</th>\n",
       "      <th>CPU0Idle%</th>\n",
       "      <th>CPU0Total%</th>\n",
       "      <th>...</th>\n",
       "      <th>[NUMA:0]Hits</th>\n",
       "      <th>[TCPD]InReceives</th>\n",
       "      <th>[TCPD]InDelivers</th>\n",
       "      <th>[TCPD]OutRequests</th>\n",
       "      <th>[TCPD]InSegs</th>\n",
       "      <th>[TCPD]OutSegs</th>\n",
       "      <th>notification</th>\n",
       "      <th>actual_vm_number_was</th>\n",
       "      <th>actual_vm_number_is</th>\n",
       "      <th>otime</th>\n",
       "    </tr>\n",
       "  </thead>\n",
       "  <tbody>\n",
       "    <tr>\n",
       "      <th>0</th>\n",
       "      <td>192.168.0.170</td>\n",
       "      <td>10:27:24</td>\n",
       "      <td>10:27:2</td>\n",
       "      <td>4042.55730</td>\n",
       "      <td>2313.897845</td>\n",
       "      <td>1</td>\n",
       "      <td>5.8</td>\n",
       "      <td>96.4</td>\n",
       "      <td>0.9</td>\n",
       "      <td>99.1</td>\n",
       "      <td>...</td>\n",
       "      <td>0.0</td>\n",
       "      <td>0.0</td>\n",
       "      <td>0.0</td>\n",
       "      <td>0.0</td>\n",
       "      <td>0.0</td>\n",
       "      <td>0.0</td>\n",
       "      <td>NaN</td>\n",
       "      <td>NaN</td>\n",
       "      <td>NaN</td>\n",
       "      <td>NaN</td>\n",
       "    </tr>\n",
       "    <tr>\n",
       "      <th>1</th>\n",
       "      <td>192.168.0.170</td>\n",
       "      <td>10:27:34</td>\n",
       "      <td>10:27:3</td>\n",
       "      <td>2016.02450</td>\n",
       "      <td>1037.741364</td>\n",
       "      <td>1</td>\n",
       "      <td>5.5</td>\n",
       "      <td>96.0</td>\n",
       "      <td>0.7</td>\n",
       "      <td>99.3</td>\n",
       "      <td>...</td>\n",
       "      <td>0.0</td>\n",
       "      <td>0.0</td>\n",
       "      <td>0.0</td>\n",
       "      <td>0.0</td>\n",
       "      <td>0.0</td>\n",
       "      <td>0.0</td>\n",
       "      <td>NaN</td>\n",
       "      <td>NaN</td>\n",
       "      <td>NaN</td>\n",
       "      <td>NaN</td>\n",
       "    </tr>\n",
       "    <tr>\n",
       "      <th>2</th>\n",
       "      <td>192.168.0.170</td>\n",
       "      <td>10:27:44</td>\n",
       "      <td>10:27:4</td>\n",
       "      <td>7459.59195</td>\n",
       "      <td>4233.257538</td>\n",
       "      <td>1</td>\n",
       "      <td>5.2</td>\n",
       "      <td>95.9</td>\n",
       "      <td>0.9</td>\n",
       "      <td>99.1</td>\n",
       "      <td>...</td>\n",
       "      <td>0.0</td>\n",
       "      <td>0.0</td>\n",
       "      <td>0.0</td>\n",
       "      <td>0.0</td>\n",
       "      <td>0.0</td>\n",
       "      <td>0.0</td>\n",
       "      <td>Worker 192.168.0.116 added.</td>\n",
       "      <td>1.0</td>\n",
       "      <td>2.0</td>\n",
       "      <td>10:27:44</td>\n",
       "    </tr>\n",
       "    <tr>\n",
       "      <th>3</th>\n",
       "      <td>192.168.0.170</td>\n",
       "      <td>10:27:54</td>\n",
       "      <td>10:27:5</td>\n",
       "      <td>10517.01750</td>\n",
       "      <td>3743.313127</td>\n",
       "      <td>2</td>\n",
       "      <td>7.1</td>\n",
       "      <td>97.4</td>\n",
       "      <td>0.4</td>\n",
       "      <td>99.6</td>\n",
       "      <td>...</td>\n",
       "      <td>0.0</td>\n",
       "      <td>0.0</td>\n",
       "      <td>0.0</td>\n",
       "      <td>0.0</td>\n",
       "      <td>0.0</td>\n",
       "      <td>0.0</td>\n",
       "      <td>Worker 192.168.0.116 removed.</td>\n",
       "      <td>2.0</td>\n",
       "      <td>1.0</td>\n",
       "      <td>10:27:54</td>\n",
       "    </tr>\n",
       "    <tr>\n",
       "      <th>4</th>\n",
       "      <td>192.168.0.170</td>\n",
       "      <td>10:28:03</td>\n",
       "      <td>10:28:0</td>\n",
       "      <td>5647.82210</td>\n",
       "      <td>3332.122743</td>\n",
       "      <td>1</td>\n",
       "      <td>7.0</td>\n",
       "      <td>95.8</td>\n",
       "      <td>0.8</td>\n",
       "      <td>99.2</td>\n",
       "      <td>...</td>\n",
       "      <td>0.0</td>\n",
       "      <td>0.0</td>\n",
       "      <td>0.0</td>\n",
       "      <td>0.0</td>\n",
       "      <td>0.0</td>\n",
       "      <td>0.0</td>\n",
       "      <td>Worker 192.168.0.116 added.</td>\n",
       "      <td>1.0</td>\n",
       "      <td>2.0</td>\n",
       "      <td>10:28:03</td>\n",
       "    </tr>\n",
       "  </tbody>\n",
       "</table>\n",
       "<p>5 rows × 43 columns</p>\n",
       "</div>"
      ],
      "text/plain": [
       "  worker_give_metrics write_to_csv_time     time  response_time_p95  \\\n",
       "0       192.168.0.170          10:27:24  10:27:2         4042.55730   \n",
       "1       192.168.0.170          10:27:34  10:27:3         2016.02450   \n",
       "2       192.168.0.170          10:27:44  10:27:4         7459.59195   \n",
       "3       192.168.0.170          10:27:54  10:27:5        10517.01750   \n",
       "4       192.168.0.170          10:28:03  10:28:0         5647.82210   \n",
       "\n",
       "   response_time  worker_number  request_rate  CPU0User%  CPU0Idle%  \\\n",
       "0    2313.897845              1           5.8       96.4        0.9   \n",
       "1    1037.741364              1           5.5       96.0        0.7   \n",
       "2    4233.257538              1           5.2       95.9        0.9   \n",
       "3    3743.313127              2           7.1       97.4        0.4   \n",
       "4    3332.122743              1           7.0       95.8        0.8   \n",
       "\n",
       "   CPU0Total%  ...   [NUMA:0]Hits  [TCPD]InReceives  [TCPD]InDelivers  \\\n",
       "0        99.1  ...            0.0               0.0               0.0   \n",
       "1        99.3  ...            0.0               0.0               0.0   \n",
       "2        99.1  ...            0.0               0.0               0.0   \n",
       "3        99.6  ...            0.0               0.0               0.0   \n",
       "4        99.2  ...            0.0               0.0               0.0   \n",
       "\n",
       "   [TCPD]OutRequests  [TCPD]InSegs  [TCPD]OutSegs  \\\n",
       "0                0.0           0.0            0.0   \n",
       "1                0.0           0.0            0.0   \n",
       "2                0.0           0.0            0.0   \n",
       "3                0.0           0.0            0.0   \n",
       "4                0.0           0.0            0.0   \n",
       "\n",
       "                    notification  actual_vm_number_was  actual_vm_number_is  \\\n",
       "0                            NaN                   NaN                  NaN   \n",
       "1                            NaN                   NaN                  NaN   \n",
       "2    Worker 192.168.0.116 added.                   1.0                  2.0   \n",
       "3  Worker 192.168.0.116 removed.                   2.0                  1.0   \n",
       "4    Worker 192.168.0.116 added.                   1.0                  2.0   \n",
       "\n",
       "      otime  \n",
       "0       NaN  \n",
       "1       NaN  \n",
       "2  10:27:44  \n",
       "3  10:27:54  \n",
       "4  10:28:03  \n",
       "\n",
       "[5 rows x 43 columns]"
      ]
     },
     "execution_count": 121,
     "metadata": {},
     "output_type": "execute_result"
    }
   ],
   "source": [
    "mf.head()"
   ]
  },
  {
   "cell_type": "code",
   "execution_count": 122,
   "metadata": {},
   "outputs": [],
   "source": [
    "mf['delta_vm'] = mf['actual_vm_number_is'] - mf['actual_vm_number_was']"
   ]
  },
  {
   "cell_type": "code",
   "execution_count": 123,
   "metadata": {},
   "outputs": [
    {
     "data": {
      "text/html": [
       "<div>\n",
       "<style scoped>\n",
       "    .dataframe tbody tr th:only-of-type {\n",
       "        vertical-align: middle;\n",
       "    }\n",
       "\n",
       "    .dataframe tbody tr th {\n",
       "        vertical-align: top;\n",
       "    }\n",
       "\n",
       "    .dataframe thead th {\n",
       "        text-align: right;\n",
       "    }\n",
       "</style>\n",
       "<table border=\"1\" class=\"dataframe\">\n",
       "  <thead>\n",
       "    <tr style=\"text-align: right;\">\n",
       "      <th></th>\n",
       "      <th>worker_give_metrics</th>\n",
       "      <th>write_to_csv_time</th>\n",
       "      <th>time</th>\n",
       "      <th>response_time_p95</th>\n",
       "      <th>response_time</th>\n",
       "      <th>worker_number</th>\n",
       "      <th>request_rate</th>\n",
       "      <th>CPU0User%</th>\n",
       "      <th>CPU0Idle%</th>\n",
       "      <th>CPU0Total%</th>\n",
       "      <th>...</th>\n",
       "      <th>[TCPD]InReceives</th>\n",
       "      <th>[TCPD]InDelivers</th>\n",
       "      <th>[TCPD]OutRequests</th>\n",
       "      <th>[TCPD]InSegs</th>\n",
       "      <th>[TCPD]OutSegs</th>\n",
       "      <th>notification</th>\n",
       "      <th>actual_vm_number_was</th>\n",
       "      <th>actual_vm_number_is</th>\n",
       "      <th>otime</th>\n",
       "      <th>delta_vm</th>\n",
       "    </tr>\n",
       "  </thead>\n",
       "  <tbody>\n",
       "    <tr>\n",
       "      <th>0</th>\n",
       "      <td>192.168.0.170</td>\n",
       "      <td>10:27:24</td>\n",
       "      <td>10:27:2</td>\n",
       "      <td>4042.55730</td>\n",
       "      <td>2313.897845</td>\n",
       "      <td>1</td>\n",
       "      <td>5.8</td>\n",
       "      <td>96.4</td>\n",
       "      <td>0.9</td>\n",
       "      <td>99.1</td>\n",
       "      <td>...</td>\n",
       "      <td>0.0</td>\n",
       "      <td>0.0</td>\n",
       "      <td>0.0</td>\n",
       "      <td>0.0</td>\n",
       "      <td>0.0</td>\n",
       "      <td>NaN</td>\n",
       "      <td>NaN</td>\n",
       "      <td>NaN</td>\n",
       "      <td>NaN</td>\n",
       "      <td>NaN</td>\n",
       "    </tr>\n",
       "    <tr>\n",
       "      <th>1</th>\n",
       "      <td>192.168.0.170</td>\n",
       "      <td>10:27:34</td>\n",
       "      <td>10:27:3</td>\n",
       "      <td>2016.02450</td>\n",
       "      <td>1037.741364</td>\n",
       "      <td>1</td>\n",
       "      <td>5.5</td>\n",
       "      <td>96.0</td>\n",
       "      <td>0.7</td>\n",
       "      <td>99.3</td>\n",
       "      <td>...</td>\n",
       "      <td>0.0</td>\n",
       "      <td>0.0</td>\n",
       "      <td>0.0</td>\n",
       "      <td>0.0</td>\n",
       "      <td>0.0</td>\n",
       "      <td>NaN</td>\n",
       "      <td>NaN</td>\n",
       "      <td>NaN</td>\n",
       "      <td>NaN</td>\n",
       "      <td>NaN</td>\n",
       "    </tr>\n",
       "    <tr>\n",
       "      <th>2</th>\n",
       "      <td>192.168.0.170</td>\n",
       "      <td>10:27:44</td>\n",
       "      <td>10:27:4</td>\n",
       "      <td>7459.59195</td>\n",
       "      <td>4233.257538</td>\n",
       "      <td>1</td>\n",
       "      <td>5.2</td>\n",
       "      <td>95.9</td>\n",
       "      <td>0.9</td>\n",
       "      <td>99.1</td>\n",
       "      <td>...</td>\n",
       "      <td>0.0</td>\n",
       "      <td>0.0</td>\n",
       "      <td>0.0</td>\n",
       "      <td>0.0</td>\n",
       "      <td>0.0</td>\n",
       "      <td>Worker 192.168.0.116 added.</td>\n",
       "      <td>1.0</td>\n",
       "      <td>2.0</td>\n",
       "      <td>10:27:44</td>\n",
       "      <td>1.0</td>\n",
       "    </tr>\n",
       "    <tr>\n",
       "      <th>3</th>\n",
       "      <td>192.168.0.170</td>\n",
       "      <td>10:27:54</td>\n",
       "      <td>10:27:5</td>\n",
       "      <td>10517.01750</td>\n",
       "      <td>3743.313127</td>\n",
       "      <td>2</td>\n",
       "      <td>7.1</td>\n",
       "      <td>97.4</td>\n",
       "      <td>0.4</td>\n",
       "      <td>99.6</td>\n",
       "      <td>...</td>\n",
       "      <td>0.0</td>\n",
       "      <td>0.0</td>\n",
       "      <td>0.0</td>\n",
       "      <td>0.0</td>\n",
       "      <td>0.0</td>\n",
       "      <td>Worker 192.168.0.116 removed.</td>\n",
       "      <td>2.0</td>\n",
       "      <td>1.0</td>\n",
       "      <td>10:27:54</td>\n",
       "      <td>-1.0</td>\n",
       "    </tr>\n",
       "    <tr>\n",
       "      <th>4</th>\n",
       "      <td>192.168.0.170</td>\n",
       "      <td>10:28:03</td>\n",
       "      <td>10:28:0</td>\n",
       "      <td>5647.82210</td>\n",
       "      <td>3332.122743</td>\n",
       "      <td>1</td>\n",
       "      <td>7.0</td>\n",
       "      <td>95.8</td>\n",
       "      <td>0.8</td>\n",
       "      <td>99.2</td>\n",
       "      <td>...</td>\n",
       "      <td>0.0</td>\n",
       "      <td>0.0</td>\n",
       "      <td>0.0</td>\n",
       "      <td>0.0</td>\n",
       "      <td>0.0</td>\n",
       "      <td>Worker 192.168.0.116 added.</td>\n",
       "      <td>1.0</td>\n",
       "      <td>2.0</td>\n",
       "      <td>10:28:03</td>\n",
       "      <td>1.0</td>\n",
       "    </tr>\n",
       "  </tbody>\n",
       "</table>\n",
       "<p>5 rows × 44 columns</p>\n",
       "</div>"
      ],
      "text/plain": [
       "  worker_give_metrics write_to_csv_time     time  response_time_p95  \\\n",
       "0       192.168.0.170          10:27:24  10:27:2         4042.55730   \n",
       "1       192.168.0.170          10:27:34  10:27:3         2016.02450   \n",
       "2       192.168.0.170          10:27:44  10:27:4         7459.59195   \n",
       "3       192.168.0.170          10:27:54  10:27:5        10517.01750   \n",
       "4       192.168.0.170          10:28:03  10:28:0         5647.82210   \n",
       "\n",
       "   response_time  worker_number  request_rate  CPU0User%  CPU0Idle%  \\\n",
       "0    2313.897845              1           5.8       96.4        0.9   \n",
       "1    1037.741364              1           5.5       96.0        0.7   \n",
       "2    4233.257538              1           5.2       95.9        0.9   \n",
       "3    3743.313127              2           7.1       97.4        0.4   \n",
       "4    3332.122743              1           7.0       95.8        0.8   \n",
       "\n",
       "   CPU0Total%  ...  [TCPD]InReceives  [TCPD]InDelivers  [TCPD]OutRequests  \\\n",
       "0        99.1  ...               0.0               0.0                0.0   \n",
       "1        99.3  ...               0.0               0.0                0.0   \n",
       "2        99.1  ...               0.0               0.0                0.0   \n",
       "3        99.6  ...               0.0               0.0                0.0   \n",
       "4        99.2  ...               0.0               0.0                0.0   \n",
       "\n",
       "   [TCPD]InSegs  [TCPD]OutSegs                   notification  \\\n",
       "0           0.0            0.0                            NaN   \n",
       "1           0.0            0.0                            NaN   \n",
       "2           0.0            0.0    Worker 192.168.0.116 added.   \n",
       "3           0.0            0.0  Worker 192.168.0.116 removed.   \n",
       "4           0.0            0.0    Worker 192.168.0.116 added.   \n",
       "\n",
       "   actual_vm_number_was  actual_vm_number_is     otime  delta_vm  \n",
       "0                   NaN                  NaN       NaN       NaN  \n",
       "1                   NaN                  NaN       NaN       NaN  \n",
       "2                   1.0                  2.0  10:27:44       1.0  \n",
       "3                   2.0                  1.0  10:27:54      -1.0  \n",
       "4                   1.0                  2.0  10:28:03       1.0  \n",
       "\n",
       "[5 rows x 44 columns]"
      ]
     },
     "execution_count": 123,
     "metadata": {},
     "output_type": "execute_result"
    }
   ],
   "source": [
    "mf.head()"
   ]
  },
  {
   "cell_type": "code",
   "execution_count": 124,
   "metadata": {},
   "outputs": [
    {
     "data": {
      "text/plain": [
       "Index(['worker_give_metrics', 'write_to_csv_time', 'time', 'response_time_p95',\n",
       "       'response_time', 'worker_number', 'request_rate', 'CPU0User%',\n",
       "       'CPU0Idle%', 'CPU0Total%', 'CPU1User%', 'CPU1Idle%', 'CPU1Total%',\n",
       "       '[DSK:sda]Reads', '[DSK:sda]RMerge', '[DSK:sda]RKBytes',\n",
       "       '[DSK:sda]WaitR', '[DSK:sda]Writes', '[DSK:sda]WMerge',\n",
       "       ' [DSK:sda]WKBytes', '[DSK:sda]WaitW', '[DSK:sda]Request',\n",
       "       '[DSK:sda]QueLen', '[DSK:sda]Wait', '[DSK:sda]SvcTim', '[DSK:sda]Util',\n",
       "       '[NUMA:0]Used', '[NUMA:0]Free', '[NUMA:0]Slab', '[NUMA:0]Mapped',\n",
       "       '[NUMA:0]Anon', '[NUMA:0]AnonH', '[NUMA:0]Inactive', ' [NUMA:0]Hits',\n",
       "       '[TCPD]InReceives', '[TCPD]InDelivers', '[TCPD]OutRequests',\n",
       "       '[TCPD]InSegs', '[TCPD]OutSegs', 'notification', 'actual_vm_number_was',\n",
       "       'actual_vm_number_is', 'otime', 'delta_vm'],\n",
       "      dtype='object')"
      ]
     },
     "execution_count": 124,
     "metadata": {},
     "output_type": "execute_result"
    }
   ],
   "source": [
    "mf.columns"
   ]
  },
  {
   "cell_type": "code",
   "execution_count": 125,
   "metadata": {},
   "outputs": [
    {
     "data": {
      "text/plain": [
       "False"
      ]
     },
     "execution_count": 125,
     "metadata": {},
     "output_type": "execute_result"
    }
   ],
   "source": [
    "mf['worker_number'].isnull().values.any()"
   ]
  },
  {
   "cell_type": "code",
   "execution_count": 126,
   "metadata": {},
   "outputs": [
    {
     "data": {
      "text/plain": [
       "[<matplotlib.lines.Line2D at 0x7f31feb0f490>]"
      ]
     },
     "execution_count": 126,
     "metadata": {},
     "output_type": "execute_result"
    },
    {
     "data": {
      "image/png": "[encoded data removed]",
      "text/plain": [
       "<Figure size 1440x360 with 4 Axes>"
      ]
     },
     "metadata": {
      "needs_background": "light"
     },
     "output_type": "display_data"
    }
   ],
   "source": [
    "fig, (ax1, ax2, ax3, ax4) = plt.subplots(4, 1, figsize=(20, 5), sharex=True)\n",
    "\n",
    "ax1.plot(mf['delta_vm'])\n",
    "ax2.plot(mf['actual_vm_number_is'])\n",
    "ax3.plot(mf['actual_vm_number_was'])\n",
    "ax4.plot(mf['worker_number'])"
   ]
  },
  {
   "cell_type": "code",
   "execution_count": 127,
   "metadata": {},
   "outputs": [
    {
     "data": {
      "text/plain": [
       "<matplotlib.collections.PathCollection at 0x7f31fea87af0>"
      ]
     },
     "execution_count": 127,
     "metadata": {},
     "output_type": "execute_result"
    },
    {
     "data": {
      "image/png": "[encoded data removed]",
      "text/plain": [
       "<Figure size 432x288 with 1 Axes>"
      ]
     },
     "metadata": {
      "needs_background": "light"
     },
     "output_type": "display_data"
    }
   ],
   "source": [
    "# Ellenőrzés (mert úgy tűnik, hogy a két adatbázisban az éppen aktuális VM szám mindhat egy kicsit mozogna)\n",
    "\n",
    "plt.scatter(mf['worker_number'], mf['actual_vm_number_is'])"
   ]
  },
  {
   "cell_type": "code",
   "execution_count": 128,
   "metadata": {},
   "outputs": [
    {
     "data": {
      "text/plain": [
       "<matplotlib.collections.PathCollection at 0x7f31fea6eb80>"
      ]
     },
     "execution_count": 128,
     "metadata": {},
     "output_type": "execute_result"
    },
    {
     "data": {
      "image/png": "[encoded data removed]",
      "text/plain": [
       "<Figure size 432x288 with 1 Axes>"
      ]
     },
     "metadata": {
      "needs_background": "light"
     },
     "output_type": "display_data"
    }
   ],
   "source": [
    "plt.scatter(mf['worker_number'], mf['actual_vm_number_was'])"
   ]
  },
  {
   "cell_type": "code",
   "execution_count": 129,
   "metadata": {},
   "outputs": [],
   "source": [
    "# Ezt jó hogy megcsináltam (lásd a fenti ábrát)\n",
    "\n",
    "# A 'actual_vm_number_was' == 'worker_number'"
   ]
  },
  {
   "cell_type": "code",
   "execution_count": 130,
   "metadata": {},
   "outputs": [
    {
     "data": {
      "text/plain": [
       "Index(['worker_give_metrics', 'write_to_csv_time', 'time', 'response_time_p95',\n",
       "       'response_time', 'worker_number', 'request_rate', 'CPU0User%',\n",
       "       'CPU0Idle%', 'CPU0Total%', 'CPU1User%', 'CPU1Idle%', 'CPU1Total%',\n",
       "       '[DSK:sda]Reads', '[DSK:sda]RMerge', '[DSK:sda]RKBytes',\n",
       "       '[DSK:sda]WaitR', '[DSK:sda]Writes', '[DSK:sda]WMerge',\n",
       "       ' [DSK:sda]WKBytes', '[DSK:sda]WaitW', '[DSK:sda]Request',\n",
       "       '[DSK:sda]QueLen', '[DSK:sda]Wait', '[DSK:sda]SvcTim', '[DSK:sda]Util',\n",
       "       '[NUMA:0]Used', '[NUMA:0]Free', '[NUMA:0]Slab', '[NUMA:0]Mapped',\n",
       "       '[NUMA:0]Anon', '[NUMA:0]AnonH', '[NUMA:0]Inactive', ' [NUMA:0]Hits',\n",
       "       '[TCPD]InReceives', '[TCPD]InDelivers', '[TCPD]OutRequests',\n",
       "       '[TCPD]InSegs', '[TCPD]OutSegs', 'notification', 'actual_vm_number_was',\n",
       "       'actual_vm_number_is', 'otime', 'delta_vm'],\n",
       "      dtype='object')"
      ]
     },
     "execution_count": 130,
     "metadata": {},
     "output_type": "execute_result"
    }
   ],
   "source": [
    "mf.columns"
   ]
  },
  {
   "cell_type": "code",
   "execution_count": 131,
   "metadata": {},
   "outputs": [
    {
     "data": {
      "text/plain": [
       "[<matplotlib.lines.Line2D at 0x7f31fe959d90>]"
      ]
     },
     "execution_count": 131,
     "metadata": {},
     "output_type": "execute_result"
    },
    {
     "data": {
      "image/png": "[encoded data removed]",
      "text/plain": [
       "<Figure size 1440x360 with 4 Axes>"
      ]
     },
     "metadata": {
      "needs_background": "light"
     },
     "output_type": "display_data"
    }
   ],
   "source": [
    "fig, (ax1, ax2, ax3, ax4) = plt.subplots(4, 1, figsize=(20, 5), sharex=True)\n",
    "\n",
    "ax1.plot(mf['response_time_p95'])\n",
    "ax2.plot(mf['request_rate'])\n",
    "ax3.plot(mf['CPU0User%'])\n",
    "ax4.plot(mf['worker_number'])"
   ]
  },
  {
   "cell_type": "code",
   "execution_count": 132,
   "metadata": {},
   "outputs": [
    {
     "data": {
      "text/plain": [
       "Index(['worker_give_metrics', 'write_to_csv_time', 'time', 'response_time_p95',\n",
       "       'response_time', 'worker_number', 'request_rate', 'CPU0User%',\n",
       "       'CPU0Idle%', 'CPU0Total%', 'CPU1User%', 'CPU1Idle%', 'CPU1Total%',\n",
       "       '[DSK:sda]Reads', '[DSK:sda]RMerge', '[DSK:sda]RKBytes',\n",
       "       '[DSK:sda]WaitR', '[DSK:sda]Writes', '[DSK:sda]WMerge',\n",
       "       ' [DSK:sda]WKBytes', '[DSK:sda]WaitW', '[DSK:sda]Request',\n",
       "       '[DSK:sda]QueLen', '[DSK:sda]Wait', '[DSK:sda]SvcTim', '[DSK:sda]Util',\n",
       "       '[NUMA:0]Used', '[NUMA:0]Free', '[NUMA:0]Slab', '[NUMA:0]Mapped',\n",
       "       '[NUMA:0]Anon', '[NUMA:0]AnonH', '[NUMA:0]Inactive', ' [NUMA:0]Hits',\n",
       "       '[TCPD]InReceives', '[TCPD]InDelivers', '[TCPD]OutRequests',\n",
       "       '[TCPD]InSegs', '[TCPD]OutSegs', 'notification', 'actual_vm_number_was',\n",
       "       'actual_vm_number_is', 'otime', 'delta_vm'],\n",
       "      dtype='object')"
      ]
     },
     "execution_count": 132,
     "metadata": {},
     "output_type": "execute_result"
    }
   ],
   "source": [
    "mf.columns"
   ]
  },
  {
   "cell_type": "code",
   "execution_count": 133,
   "metadata": {},
   "outputs": [],
   "source": [
    "ff = mf[['time', 'otime', 'response_time', 'worker_number', 'request_rate', 'CPU0User%', 'actual_vm_number_was', 'actual_vm_number_is', 'delta_vm']].copy()"
   ]
  },
  {
   "cell_type": "code",
   "execution_count": 134,
   "metadata": {},
   "outputs": [
    {
     "data": {
      "text/html": [
       "<div>\n",
       "<style scoped>\n",
       "    .dataframe tbody tr th:only-of-type {\n",
       "        vertical-align: middle;\n",
       "    }\n",
       "\n",
       "    .dataframe tbody tr th {\n",
       "        vertical-align: top;\n",
       "    }\n",
       "\n",
       "    .dataframe thead th {\n",
       "        text-align: right;\n",
       "    }\n",
       "</style>\n",
       "<table border=\"1\" class=\"dataframe\">\n",
       "  <thead>\n",
       "    <tr style=\"text-align: right;\">\n",
       "      <th></th>\n",
       "      <th>time</th>\n",
       "      <th>otime</th>\n",
       "      <th>response_time</th>\n",
       "      <th>worker_number</th>\n",
       "      <th>request_rate</th>\n",
       "      <th>CPU0User%</th>\n",
       "      <th>actual_vm_number_was</th>\n",
       "      <th>actual_vm_number_is</th>\n",
       "      <th>delta_vm</th>\n",
       "    </tr>\n",
       "  </thead>\n",
       "  <tbody>\n",
       "    <tr>\n",
       "      <th>0</th>\n",
       "      <td>10:27:2</td>\n",
       "      <td>NaN</td>\n",
       "      <td>2313.897845</td>\n",
       "      <td>1</td>\n",
       "      <td>5.8</td>\n",
       "      <td>96.4</td>\n",
       "      <td>NaN</td>\n",
       "      <td>NaN</td>\n",
       "      <td>NaN</td>\n",
       "    </tr>\n",
       "    <tr>\n",
       "      <th>1</th>\n",
       "      <td>10:27:3</td>\n",
       "      <td>NaN</td>\n",
       "      <td>1037.741364</td>\n",
       "      <td>1</td>\n",
       "      <td>5.5</td>\n",
       "      <td>96.0</td>\n",
       "      <td>NaN</td>\n",
       "      <td>NaN</td>\n",
       "      <td>NaN</td>\n",
       "    </tr>\n",
       "    <tr>\n",
       "      <th>2</th>\n",
       "      <td>10:27:4</td>\n",
       "      <td>10:27:44</td>\n",
       "      <td>4233.257538</td>\n",
       "      <td>1</td>\n",
       "      <td>5.2</td>\n",
       "      <td>95.9</td>\n",
       "      <td>1.0</td>\n",
       "      <td>2.0</td>\n",
       "      <td>1.0</td>\n",
       "    </tr>\n",
       "    <tr>\n",
       "      <th>3</th>\n",
       "      <td>10:27:5</td>\n",
       "      <td>10:27:54</td>\n",
       "      <td>3743.313127</td>\n",
       "      <td>2</td>\n",
       "      <td>7.1</td>\n",
       "      <td>97.4</td>\n",
       "      <td>2.0</td>\n",
       "      <td>1.0</td>\n",
       "      <td>-1.0</td>\n",
       "    </tr>\n",
       "    <tr>\n",
       "      <th>4</th>\n",
       "      <td>10:28:0</td>\n",
       "      <td>10:28:03</td>\n",
       "      <td>3332.122743</td>\n",
       "      <td>1</td>\n",
       "      <td>7.0</td>\n",
       "      <td>95.8</td>\n",
       "      <td>1.0</td>\n",
       "      <td>2.0</td>\n",
       "      <td>1.0</td>\n",
       "    </tr>\n",
       "  </tbody>\n",
       "</table>\n",
       "</div>"
      ],
      "text/plain": [
       "      time     otime  response_time  worker_number  request_rate  CPU0User%  \\\n",
       "0  10:27:2       NaN    2313.897845              1           5.8       96.4   \n",
       "1  10:27:3       NaN    1037.741364              1           5.5       96.0   \n",
       "2  10:27:4  10:27:44    4233.257538              1           5.2       95.9   \n",
       "3  10:27:5  10:27:54    3743.313127              2           7.1       97.4   \n",
       "4  10:28:0  10:28:03    3332.122743              1           7.0       95.8   \n",
       "\n",
       "   actual_vm_number_was  actual_vm_number_is  delta_vm  \n",
       "0                   NaN                  NaN       NaN  \n",
       "1                   NaN                  NaN       NaN  \n",
       "2                   1.0                  2.0       1.0  \n",
       "3                   2.0                  1.0      -1.0  \n",
       "4                   1.0                  2.0       1.0  "
      ]
     },
     "execution_count": 134,
     "metadata": {},
     "output_type": "execute_result"
    }
   ],
   "source": [
    "ff.head()"
   ]
  },
  {
   "cell_type": "code",
   "execution_count": 41,
   "metadata": {},
   "outputs": [],
   "source": [
    "f2 = ff.reset_index(drop=True) # nem használom, de ha le kéne resetelni az indexet"
   ]
  },
  {
   "cell_type": "code",
   "execution_count": 42,
   "metadata": {},
   "outputs": [],
   "source": [
    "# cpu' = c0 + c1 * cpu * worker_number/(worker_number + delta_vm) + c2 * cpu * delta_vm/(worker_number + delta_vm)\n",
    "\n",
    "# m'   = c0 + c1 · m · w/(w + k) + c2 · m · k/(w + k)"
   ]
  },
  {
   "cell_type": "code",
   "execution_count": 43,
   "metadata": {},
   "outputs": [],
   "source": [
    "# A time a metrikához tartozik\n",
    "# a otime a scalerhez\n",
    "# 19:57:4 kor mérünk valamit (91.6)\n",
    "# --> az is egy külön jó kérdés, hogy ez mikor kerül birásra a rendszerbe (19:57:4 (0) vagy (9))\n",
    "# ----> megoldás lehet, hogy beteszek a scaler programba egy időbőjeget is, hogy mikor íra be ezt az adatot\n",
    "\n",
    "# A sclaer 19:57:42-kor végrehajt egy skálázást\n",
    "\n",
    "# Ennek az eredménye logikus, hogy csak a 19:57:5 metric mérésnél jelenhet meg"
   ]
  },
  {
   "cell_type": "code",
   "execution_count": 136,
   "metadata": {},
   "outputs": [
    {
     "data": {
      "text/html": [
       "<div>\n",
       "<style scoped>\n",
       "    .dataframe tbody tr th:only-of-type {\n",
       "        vertical-align: middle;\n",
       "    }\n",
       "\n",
       "    .dataframe tbody tr th {\n",
       "        vertical-align: top;\n",
       "    }\n",
       "\n",
       "    .dataframe thead th {\n",
       "        text-align: right;\n",
       "    }\n",
       "</style>\n",
       "<table border=\"1\" class=\"dataframe\">\n",
       "  <thead>\n",
       "    <tr style=\"text-align: right;\">\n",
       "      <th></th>\n",
       "      <th>time</th>\n",
       "      <th>otime</th>\n",
       "      <th>response_time</th>\n",
       "      <th>worker_number</th>\n",
       "      <th>request_rate</th>\n",
       "      <th>CPU0User%</th>\n",
       "      <th>actual_vm_number_was</th>\n",
       "      <th>actual_vm_number_is</th>\n",
       "      <th>delta_vm</th>\n",
       "      <th>CPU0User%Next</th>\n",
       "      <th>CPU0User%Prev</th>\n",
       "    </tr>\n",
       "  </thead>\n",
       "  <tbody>\n",
       "    <tr>\n",
       "      <th>0</th>\n",
       "      <td>10:27:2</td>\n",
       "      <td>NaN</td>\n",
       "      <td>2313.897845</td>\n",
       "      <td>1</td>\n",
       "      <td>5.8</td>\n",
       "      <td>96.4</td>\n",
       "      <td>NaN</td>\n",
       "      <td>NaN</td>\n",
       "      <td>NaN</td>\n",
       "      <td>96.0</td>\n",
       "      <td>NaN</td>\n",
       "    </tr>\n",
       "    <tr>\n",
       "      <th>1</th>\n",
       "      <td>10:27:3</td>\n",
       "      <td>NaN</td>\n",
       "      <td>1037.741364</td>\n",
       "      <td>1</td>\n",
       "      <td>5.5</td>\n",
       "      <td>96.0</td>\n",
       "      <td>NaN</td>\n",
       "      <td>NaN</td>\n",
       "      <td>NaN</td>\n",
       "      <td>95.9</td>\n",
       "      <td>96.4</td>\n",
       "    </tr>\n",
       "    <tr>\n",
       "      <th>2</th>\n",
       "      <td>10:27:4</td>\n",
       "      <td>10:27:44</td>\n",
       "      <td>4233.257538</td>\n",
       "      <td>1</td>\n",
       "      <td>5.2</td>\n",
       "      <td>95.9</td>\n",
       "      <td>1.0</td>\n",
       "      <td>2.0</td>\n",
       "      <td>1.0</td>\n",
       "      <td>97.4</td>\n",
       "      <td>96.0</td>\n",
       "    </tr>\n",
       "    <tr>\n",
       "      <th>3</th>\n",
       "      <td>10:27:5</td>\n",
       "      <td>10:27:54</td>\n",
       "      <td>3743.313127</td>\n",
       "      <td>2</td>\n",
       "      <td>7.1</td>\n",
       "      <td>97.4</td>\n",
       "      <td>2.0</td>\n",
       "      <td>1.0</td>\n",
       "      <td>-1.0</td>\n",
       "      <td>95.8</td>\n",
       "      <td>95.9</td>\n",
       "    </tr>\n",
       "    <tr>\n",
       "      <th>4</th>\n",
       "      <td>10:28:0</td>\n",
       "      <td>10:28:03</td>\n",
       "      <td>3332.122743</td>\n",
       "      <td>1</td>\n",
       "      <td>7.0</td>\n",
       "      <td>95.8</td>\n",
       "      <td>1.0</td>\n",
       "      <td>2.0</td>\n",
       "      <td>1.0</td>\n",
       "      <td>97.3</td>\n",
       "      <td>97.4</td>\n",
       "    </tr>\n",
       "  </tbody>\n",
       "</table>\n",
       "</div>"
      ],
      "text/plain": [
       "      time     otime  response_time  worker_number  request_rate  CPU0User%  \\\n",
       "0  10:27:2       NaN    2313.897845              1           5.8       96.4   \n",
       "1  10:27:3       NaN    1037.741364              1           5.5       96.0   \n",
       "2  10:27:4  10:27:44    4233.257538              1           5.2       95.9   \n",
       "3  10:27:5  10:27:54    3743.313127              2           7.1       97.4   \n",
       "4  10:28:0  10:28:03    3332.122743              1           7.0       95.8   \n",
       "\n",
       "   actual_vm_number_was  actual_vm_number_is  delta_vm  CPU0User%Next  \\\n",
       "0                   NaN                  NaN       NaN           96.0   \n",
       "1                   NaN                  NaN       NaN           95.9   \n",
       "2                   1.0                  2.0       1.0           97.4   \n",
       "3                   2.0                  1.0      -1.0           95.8   \n",
       "4                   1.0                  2.0       1.0           97.3   \n",
       "\n",
       "   CPU0User%Prev  \n",
       "0            NaN  \n",
       "1           96.4  \n",
       "2           96.0  \n",
       "3           95.9  \n",
       "4           97.4  "
      ]
     },
     "execution_count": 136,
     "metadata": {},
     "output_type": "execute_result"
    }
   ],
   "source": [
    "f1 = ff.copy()\n",
    "f1['CPU0User%Next'] = f1['CPU0User%'].shift(-1)\n",
    "f1['CPU0User%Prev'] = f1['CPU0User%'].shift(+1)\n",
    "f1.head()"
   ]
  },
  {
   "cell_type": "code",
   "execution_count": 137,
   "metadata": {},
   "outputs": [],
   "source": [
    "# viszont csak ott kell figyelmebe venni a bf-af értéket ahol ténylegesen volt skálázás"
   ]
  },
  {
   "cell_type": "code",
   "execution_count": 138,
   "metadata": {},
   "outputs": [
    {
     "data": {
      "text/html": [
       "<div>\n",
       "<style scoped>\n",
       "    .dataframe tbody tr th:only-of-type {\n",
       "        vertical-align: middle;\n",
       "    }\n",
       "\n",
       "    .dataframe tbody tr th {\n",
       "        vertical-align: top;\n",
       "    }\n",
       "\n",
       "    .dataframe thead th {\n",
       "        text-align: right;\n",
       "    }\n",
       "</style>\n",
       "<table border=\"1\" class=\"dataframe\">\n",
       "  <thead>\n",
       "    <tr style=\"text-align: right;\">\n",
       "      <th></th>\n",
       "      <th>time</th>\n",
       "      <th>otime</th>\n",
       "      <th>response_time</th>\n",
       "      <th>worker_number</th>\n",
       "      <th>request_rate</th>\n",
       "      <th>CPU0User%</th>\n",
       "      <th>actual_vm_number_was</th>\n",
       "      <th>actual_vm_number_is</th>\n",
       "      <th>delta_vm</th>\n",
       "      <th>CPU0User%Next</th>\n",
       "      <th>CPU0User%Prev</th>\n",
       "    </tr>\n",
       "  </thead>\n",
       "  <tbody>\n",
       "    <tr>\n",
       "      <th>2</th>\n",
       "      <td>10:27:4</td>\n",
       "      <td>10:27:44</td>\n",
       "      <td>4233.257538</td>\n",
       "      <td>1</td>\n",
       "      <td>5.2</td>\n",
       "      <td>95.9</td>\n",
       "      <td>1.0</td>\n",
       "      <td>2.0</td>\n",
       "      <td>1.0</td>\n",
       "      <td>97.4</td>\n",
       "      <td>96.0</td>\n",
       "    </tr>\n",
       "    <tr>\n",
       "      <th>3</th>\n",
       "      <td>10:27:5</td>\n",
       "      <td>10:27:54</td>\n",
       "      <td>3743.313127</td>\n",
       "      <td>2</td>\n",
       "      <td>7.1</td>\n",
       "      <td>97.4</td>\n",
       "      <td>2.0</td>\n",
       "      <td>1.0</td>\n",
       "      <td>-1.0</td>\n",
       "      <td>95.8</td>\n",
       "      <td>95.9</td>\n",
       "    </tr>\n",
       "    <tr>\n",
       "      <th>4</th>\n",
       "      <td>10:28:0</td>\n",
       "      <td>10:28:03</td>\n",
       "      <td>3332.122743</td>\n",
       "      <td>1</td>\n",
       "      <td>7.0</td>\n",
       "      <td>95.8</td>\n",
       "      <td>1.0</td>\n",
       "      <td>2.0</td>\n",
       "      <td>1.0</td>\n",
       "      <td>97.3</td>\n",
       "      <td>97.4</td>\n",
       "    </tr>\n",
       "    <tr>\n",
       "      <th>5</th>\n",
       "      <td>10:28:1</td>\n",
       "      <td>10:28:13</td>\n",
       "      <td>3387.872513</td>\n",
       "      <td>2</td>\n",
       "      <td>7.6</td>\n",
       "      <td>97.3</td>\n",
       "      <td>2.0</td>\n",
       "      <td>3.0</td>\n",
       "      <td>1.0</td>\n",
       "      <td>90.4</td>\n",
       "      <td>95.8</td>\n",
       "    </tr>\n",
       "    <tr>\n",
       "      <th>6</th>\n",
       "      <td>10:28:2</td>\n",
       "      <td>10:28:21</td>\n",
       "      <td>1201.557592</td>\n",
       "      <td>3</td>\n",
       "      <td>9.8</td>\n",
       "      <td>90.4</td>\n",
       "      <td>3.0</td>\n",
       "      <td>4.0</td>\n",
       "      <td>1.0</td>\n",
       "      <td>81.2</td>\n",
       "      <td>97.3</td>\n",
       "    </tr>\n",
       "    <tr>\n",
       "      <th>7</th>\n",
       "      <td>10:28:3</td>\n",
       "      <td>10:28:32</td>\n",
       "      <td>190.593960</td>\n",
       "      <td>4</td>\n",
       "      <td>10.0</td>\n",
       "      <td>81.2</td>\n",
       "      <td>4.0</td>\n",
       "      <td>5.0</td>\n",
       "      <td>1.0</td>\n",
       "      <td>49.0</td>\n",
       "      <td>90.4</td>\n",
       "    </tr>\n",
       "    <tr>\n",
       "      <th>8</th>\n",
       "      <td>10:28:4</td>\n",
       "      <td>10:28:42</td>\n",
       "      <td>198.788780</td>\n",
       "      <td>5</td>\n",
       "      <td>10.0</td>\n",
       "      <td>49.0</td>\n",
       "      <td>5.0</td>\n",
       "      <td>6.0</td>\n",
       "      <td>1.0</td>\n",
       "      <td>42.0</td>\n",
       "      <td>81.2</td>\n",
       "    </tr>\n",
       "    <tr>\n",
       "      <th>9</th>\n",
       "      <td>10:28:5</td>\n",
       "      <td>10:28:51</td>\n",
       "      <td>200.506280</td>\n",
       "      <td>6</td>\n",
       "      <td>10.0</td>\n",
       "      <td>42.0</td>\n",
       "      <td>6.0</td>\n",
       "      <td>5.0</td>\n",
       "      <td>-1.0</td>\n",
       "      <td>45.8</td>\n",
       "      <td>49.0</td>\n",
       "    </tr>\n",
       "    <tr>\n",
       "      <th>10</th>\n",
       "      <td>10:29:0</td>\n",
       "      <td>10:29:01</td>\n",
       "      <td>191.926180</td>\n",
       "      <td>5</td>\n",
       "      <td>10.0</td>\n",
       "      <td>45.8</td>\n",
       "      <td>5.0</td>\n",
       "      <td>4.0</td>\n",
       "      <td>-1.0</td>\n",
       "      <td>51.7</td>\n",
       "      <td>42.0</td>\n",
       "    </tr>\n",
       "    <tr>\n",
       "      <th>11</th>\n",
       "      <td>10:29:1</td>\n",
       "      <td>10:29:11</td>\n",
       "      <td>183.128240</td>\n",
       "      <td>4</td>\n",
       "      <td>10.0</td>\n",
       "      <td>51.7</td>\n",
       "      <td>4.0</td>\n",
       "      <td>3.0</td>\n",
       "      <td>-1.0</td>\n",
       "      <td>65.3</td>\n",
       "      <td>45.8</td>\n",
       "    </tr>\n",
       "  </tbody>\n",
       "</table>\n",
       "</div>"
      ],
      "text/plain": [
       "       time     otime  response_time  worker_number  request_rate  CPU0User%  \\\n",
       "2   10:27:4  10:27:44    4233.257538              1           5.2       95.9   \n",
       "3   10:27:5  10:27:54    3743.313127              2           7.1       97.4   \n",
       "4   10:28:0  10:28:03    3332.122743              1           7.0       95.8   \n",
       "5   10:28:1  10:28:13    3387.872513              2           7.6       97.3   \n",
       "6   10:28:2  10:28:21    1201.557592              3           9.8       90.4   \n",
       "7   10:28:3  10:28:32     190.593960              4          10.0       81.2   \n",
       "8   10:28:4  10:28:42     198.788780              5          10.0       49.0   \n",
       "9   10:28:5  10:28:51     200.506280              6          10.0       42.0   \n",
       "10  10:29:0  10:29:01     191.926180              5          10.0       45.8   \n",
       "11  10:29:1  10:29:11     183.128240              4          10.0       51.7   \n",
       "\n",
       "    actual_vm_number_was  actual_vm_number_is  delta_vm  CPU0User%Next  \\\n",
       "2                    1.0                  2.0       1.0           97.4   \n",
       "3                    2.0                  1.0      -1.0           95.8   \n",
       "4                    1.0                  2.0       1.0           97.3   \n",
       "5                    2.0                  3.0       1.0           90.4   \n",
       "6                    3.0                  4.0       1.0           81.2   \n",
       "7                    4.0                  5.0       1.0           49.0   \n",
       "8                    5.0                  6.0       1.0           42.0   \n",
       "9                    6.0                  5.0      -1.0           45.8   \n",
       "10                   5.0                  4.0      -1.0           51.7   \n",
       "11                   4.0                  3.0      -1.0           65.3   \n",
       "\n",
       "    CPU0User%Prev  \n",
       "2            96.0  \n",
       "3            95.9  \n",
       "4            97.4  \n",
       "5            95.8  \n",
       "6            97.3  \n",
       "7            90.4  \n",
       "8            81.2  \n",
       "9            49.0  \n",
       "10           42.0  \n",
       "11           45.8  "
      ]
     },
     "execution_count": 138,
     "metadata": {},
     "output_type": "execute_result"
    }
   ],
   "source": [
    "f2 = f1.dropna()\n",
    "f2.head(10)"
   ]
  },
  {
   "cell_type": "code",
   "execution_count": 47,
   "metadata": {},
   "outputs": [],
   "source": [
    "# cpu' = c0 + c1 * cpu * worker_number/(worker_number + delta_vm) + c2 * cpu * delta_vm/(worker_number + delta_vm)\n",
    "\n",
    "# m'   = c0 + c1 · m · w/(w + k) + c2 · m · k/(w + k)"
   ]
  },
  {
   "cell_type": "code",
   "execution_count": 139,
   "metadata": {},
   "outputs": [],
   "source": [
    "# Ez a jó\n",
    "\n",
    "# A jelenlegi a lapján 'CPU0USer' becsüljük a következő értéket 'CPU0User%Next'\n",
    "\n",
    "f3 = f2.copy()\n",
    "f3['cpu_term1'] = f3['CPU0User%'] * f3['worker_number']/(f3['worker_number'] + f3['delta_vm'])\n",
    "f3['cpu_term2'] = f3['CPU0User%'] * f3['delta_vm']/(f3['worker_number'] + f3['delta_vm'])\n",
    "\n",
    "# --\n",
    "\n",
    "_cpu_term = f3[['cpu_term1', 'cpu_term2']]          # jelenlegiekből összeállított term\n",
    "\n",
    "_cpu_next = f3['CPU0User%Next']                    # a következő mérés értéke\n",
    "\n",
    "print(_cpu_term.shape, _cpu_next.shape)\n",
    "\n",
    "lr = LinearRegression(fit_intercept=True)\n",
    "\n",
    "rr = lr.fit(_cpu_term, _cpu_next)\n",
    "\n",
    "rr.score(_cpu_term, _cpu_next)"
   ]
  },
  {
   "cell_type": "code",
   "execution_count": 141,
   "metadata": {},
   "outputs": [
    {
     "data": {
      "text/plain": [
       "array([0.85445423, 0.78527866])"
      ]
     },
     "execution_count": 141,
     "metadata": {},
     "output_type": "execute_result"
    }
   ],
   "source": [
    "rr.coef_"
   ]
  },
  {
   "cell_type": "code",
   "execution_count": 142,
   "metadata": {},
   "outputs": [
    {
     "data": {
      "text/plain": [
       "10.86390335343792"
      ]
     },
     "execution_count": 142,
     "metadata": {},
     "output_type": "execute_result"
    }
   ],
   "source": [
    "rr.intercept_"
   ]
  },
  {
   "cell_type": "code",
   "execution_count": 143,
   "metadata": {},
   "outputs": [],
   "source": [
    "pred_cpu = rr.predict(_cpu_term)"
   ]
  },
  {
   "cell_type": "code",
   "execution_count": 144,
   "metadata": {},
   "outputs": [
    {
     "data": {
      "text/plain": [
       "<matplotlib.collections.PathCollection at 0x7f31fe92df10>"
      ]
     },
     "execution_count": 144,
     "metadata": {},
     "output_type": "execute_result"
    },
    {
     "data": {
      "image/png": "[encoded data removed]",
      "text/plain": [
       "<Figure size 432x288 with 1 Axes>"
      ]
     },
     "metadata": {
      "needs_background": "light"
     },
     "output_type": "display_data"
    }
   ],
   "source": [
    "plt.scatter(f3['CPU0User%'], pred_cpu)"
   ]
  },
  {
   "cell_type": "code",
   "execution_count": 54,
   "metadata": {},
   "outputs": [],
   "source": [
    "# Egy gyors ellenörzés -> hogy vátozna, ha a 'k' (delta_vm) számát én állítanám be"
   ]
  },
  {
   "cell_type": "code",
   "execution_count": 55,
   "metadata": {},
   "outputs": [],
   "source": [
    "# m'   = c0 + c1 · m · w/(w + k) + c2 · m · k/(w + k)"
   ]
  },
  {
   "cell_type": "code",
   "execution_count": 146,
   "metadata": {},
   "outputs": [
    {
     "name": "stdout",
     "output_type": "stream",
     "text": [
      "(1, 2)\n",
      "[[45. 45.]]\n",
      "[84.65188318]\n"
     ]
    },
    {
     "name": "stderr",
     "output_type": "stream",
     "text": [
      "/home/ubuntu/notebook/lib/python3.8/site-packages/sklearn/base.py:450: UserWarning: X does not have valid feature names, but LinearRegression was fitted with feature names\n",
      "  warnings.warn(\n"
     ]
    }
   ],
   "source": [
    "_cpu_usage = 90\n",
    "_actual_vm = 2\n",
    "_delta_vm = 2\n",
    "\n",
    "_t1 = _cpu_usage * _actual_vm/(_actual_vm + _delta_vm)\n",
    "_t2 = _cpu_usage * _delta_vm/(_actual_vm + _delta_vm)\n",
    "\n",
    "_x = np.array([[_t1, _t2]])\n",
    "\n",
    "print(_x.shape)\n",
    "print(_x)\n",
    "\n",
    "_pred = rr.predict(_x)\n",
    "\n",
    "print(_pred)\n",
    "\n",
    "# Jó, a model azt mondja, hogy ha 1 darab VM-t hozzáadok akkor csökkenni fog a CPU Usage"
   ]
  },
  {
   "cell_type": "code",
   "execution_count": 154,
   "metadata": {},
   "outputs": [],
   "source": [
    "from sklearn.linear_model import LinearRegression\n",
    "    \n",
    "def create_model_for_metric(columnname: str):\n",
    "    \n",
    "    f1 = mf.copy()\n",
    "    __next_name = columnname + 'Next'\n",
    "    __prev_name = columnname + 'Prev'\n",
    "\n",
    "    f1[__next_name] = f1[columnname].shift(-1)\n",
    "    f1[__prev_name] = f1[columnname].shift(+1)\n",
    "    \n",
    "    f1 = f1.dropna()\n",
    "    \n",
    "    __metric_term1 = columnname + '_term1'\n",
    "    __metric_term2 = columnname + '_term2'\n",
    "    f1[__metric_term1] = f1[columnname] * f1['worker_number']/(f1['worker_number'] + f1['delta_vm'])\n",
    "    f1[__metric_term2] = f1[columnname] * f1['delta_vm']/(f1['worker_number'] + f1['delta_vm'])\n",
    "    \n",
    "    __metric_term = f1[[__metric_term1, __metric_term2]]\n",
    "    __metric_next = f1[__next_name]\n",
    "\n",
    "    lr = LinearRegression(fit_intercept=True)\n",
    "\n",
    "    rr = lr.fit(__metric_term, __metric_next)\n",
    "\n",
    "    __fit_score = rr.score(__metric_term, __metric_next)\n",
    "    \n",
    "    __fit_coef_ = rr.coef_\n",
    "    \n",
    "    __fit_intercept_ = rr.intercept_\n",
    "    \n",
    "    __pred_metric = rr.predict(__metric_term)\n",
    "    \n",
    "    plt.scatter(f1[columnname], __pred_metric)"
   ]
  },
  {
   "cell_type": "code",
   "execution_count": 155,
   "metadata": {},
   "outputs": [
    {
     "data": {
      "image/png": "[encoded data removed]",
      "text/plain": [
       "<Figure size 432x288 with 1 Axes>"
      ]
     },
     "metadata": {
      "needs_background": "light"
     },
     "output_type": "display_data"
    }
   ],
   "source": [
    "create_model_for_metric('CPU0User%')"
   ]
  },
  {
   "cell_type": "code",
   "execution_count": 101,
   "metadata": {},
   "outputs": [
    {
     "data": {
      "image/png": "[encoded data removed]",
      "text/plain": [
       "<Figure size 432x288 with 1 Axes>"
      ]
     },
     "metadata": {
      "needs_background": "light"
     },
     "output_type": "display_data"
    }
   ],
   "source": [
    "create_model_for_metric('response_time_p95')"
   ]
  },
  {
   "cell_type": "code",
   "execution_count": 102,
   "metadata": {},
   "outputs": [
    {
     "data": {
      "image/png": "[encoded data removed]",
      "text/plain": [
       "<Figure size 432x288 with 1 Axes>"
      ]
     },
     "metadata": {
      "needs_background": "light"
     },
     "output_type": "display_data"
    }
   ],
   "source": [
    "create_model_for_metric('request_rate')"
   ]
  },
  {
   "cell_type": "code",
   "execution_count": 103,
   "metadata": {},
   "outputs": [
    {
     "data": {
      "image/png": "[encoded data removed]",
      "text/plain": [
       "<Figure size 432x288 with 1 Axes>"
      ]
     },
     "metadata": {
      "needs_background": "light"
     },
     "output_type": "display_data"
    }
   ],
   "source": [
    "create_model_for_metric('CPU0Idle%')"
   ]
  },
  {
   "cell_type": "code",
   "execution_count": 96,
   "metadata": {},
   "outputs": [],
   "source": [
    "from __future__ import print_function\n",
    "from ipywidgets import interact, interactive, fixed, interact_manual\n",
    "import ipywidgets as widgets"
   ]
  },
  {
   "cell_type": "code",
   "execution_count": 104,
   "metadata": {},
   "outputs": [
    {
     "data": {
      "application/vnd.jupyter.widget-view+json": {
       "model_id": "1b8096a267a645b38d54eae41fe4889a",
       "version_major": 2,
       "version_minor": 0
      },
      "text/plain": [
       "interactive(children=(Dropdown(description='columnname', options=('worker_give_metrics', 'write_to_csv_time', …"
      ]
     },
     "metadata": {},
     "output_type": "display_data"
    }
   ],
   "source": [
    "cn = mf.columns\n",
    "\n",
    "interact(create_model_for_metric, columnname=cn);"
   ]
  },
  {
   "cell_type": "code",
   "execution_count": 119,
   "metadata": {},
   "outputs": [
    {
     "name": "stdout",
     "output_type": "stream",
     "text": [
      "69.2814\n"
     ]
    }
   ],
   "source": [
    "# Csak kiviből kipróbálom, hogy milyen érkeket adna az ő linreg beállításaikkal (nem tom melyik, melyik metric)\n",
    "\n",
    "bvalues = [[1,0,0],\n",
    "           [0.9448,0.1072,3.0954],\n",
    "           [0.8954,0.3220,42.3307],\n",
    "           [1.1008,0.4017,-20.2569],\n",
    "           [1.0589,0.5713,1.5306],\n",
    "           [0.6142,0.1733,26.5175],\n",
    "           [0.9222,0.2059,1.1572],\n",
    "           [0.7489,0.2851,18.4977]]\n",
    "\n",
    "# metrics[i]=np.dot(bvalues[i],[(metrics[i]*w)/(w+k),(metrics[i]*k)/(w+k),1])\n",
    "\n",
    "metrics = [90, 90, 90, 90, 90, 90]\n",
    "w = 3\n",
    "k = 1\n",
    "\n",
    "m = 1\n",
    "\n",
    "_cpu = np.dot(bvalues[m],[(metrics[m]*w)/(w+k),(metrics[m]*k)/(w+k),1])\n",
    "\n",
    "print(_cpu)\n",
    "\n",
    "# Mivel nem tudom, hogy melyik együtthatótk tartoznak a cpu-hoz ezért nem merem biztosan kijelenteni,\n",
    "# de úgy tűnik, hogy náluk ha egy VM-t hozzáadok akkor csökken a CPU usage érték és nem nő.\n",
    "\n",
    "# Ennek lehet az az oka is, hogy a Fibonacci CPU REST API-n tanítottam"
   ]
  },
  {
   "cell_type": "code",
   "execution_count": null,
   "metadata": {},
   "outputs": [],
   "source": [
    "\n",
    "# Csak úgy mondom, hogy gyárilag a Request Rate értéket is becsülni kell a linreg modellel\n",
    "\n",
    "# Ennek az az oka, hogy mivel elosztott terhelés van, valóban előforudhat és elő is fordul,\n",
    "# hogy ha egy új VM-t becsatolok a rendszerbe akkor az adott gépre kevesebb bejövő kérés\n",
    "# fog jutni.\n"
   ]
  },
  {
   "cell_type": "code",
   "execution_count": 122,
   "metadata": {},
   "outputs": [
    {
     "data": {
      "text/plain": [
       "Index(['worker_give_metrics', 'write_to_csv_time', 'time', 'response_time_p95',\n",
       "       'response_time', 'worker_number', 'request_rate', 'CPU0User%',\n",
       "       'CPU0Idle%', 'CPU0Total%', 'CPU1User%', 'CPU1Idle%', 'CPU1Total%',\n",
       "       '[DSK:sda]Reads', '[DSK:sda]RMerge', '[DSK:sda]RKBytes',\n",
       "       '[DSK:sda]WaitR', '[DSK:sda]Writes', '[DSK:sda]WMerge',\n",
       "       ' [DSK:sda]WKBytes', '[DSK:sda]WaitW', '[DSK:sda]Request',\n",
       "       '[DSK:sda]QueLen', '[DSK:sda]Wait', '[DSK:sda]SvcTim', '[DSK:sda]Util',\n",
       "       '[NUMA:0]Used', '[NUMA:0]Free', '[NUMA:0]Slab', '[NUMA:0]Mapped',\n",
       "       '[NUMA:0]Anon', '[NUMA:0]AnonH', '[NUMA:0]Inactive', ' [NUMA:0]Hits',\n",
       "       '[TCPD]InReceives', '[TCPD]InDelivers', '[TCPD]OutRequests',\n",
       "       '[TCPD]InSegs', '[TCPD]OutSegs', 'notification', 'actual_vm_number_was',\n",
       "       'actual_vm_number_is', 'otime', 'delta_vm'],\n",
       "      dtype='object')"
      ]
     },
     "execution_count": 122,
     "metadata": {},
     "output_type": "execute_result"
    }
   ],
   "source": [
    "mf.columns"
   ]
  },
  {
   "cell_type": "code",
   "execution_count": 125,
   "metadata": {},
   "outputs": [],
   "source": [
    "import tensorflow as tf\n",
    "tf.get_logger().setLevel('INFO')"
   ]
  },
  {
   "cell_type": "code",
   "execution_count": 136,
   "metadata": {},
   "outputs": [
    {
     "name": "stdout",
     "output_type": "stream",
     "text": [
      "[[19.416613 88.36346  11.377742 30.24485  29.666449]]\n",
      "First example: [[ 1.2 39.1 38.1 15.  14.3]]\n",
      "Normalized   : [[-1.72 -3.35  2.16 -2.64 -2.74]]\n",
      "Model: \"sequential_4\"\n",
      "_________________________________________________________________\n",
      " Layer (type)                Output Shape              Param #   \n",
      "=================================================================\n",
      " normalization_12 (Normaliza  (None, 5)                11        \n",
      " tion)                                                           \n",
      "                                                                 \n",
      " dense_9 (Dense)             (None, 5)                 30        \n",
      "                                                                 \n",
      " dense_10 (Dense)            (None, 3)                 18        \n",
      "                                                                 \n",
      " dense_11 (Dense)            (None, 1)                 4         \n",
      "                                                                 \n",
      "=================================================================\n",
      "Total params: 63\n",
      "Trainable params: 52\n",
      "Non-trainable params: 11\n",
      "_________________________________________________________________\n"
     ]
    }
   ],
   "source": [
    "\n",
    "\n",
    "train_features = mf[['request_rate', 'CPU0User%', '[DSK:sda]Reads', '[NUMA:0]Anon', '[NUMA:0]AnonH']]\n",
    "\n",
    "train_labels = mf[['response_time_p95']]\n",
    "\n",
    "train_labels = mf[['response_time']]\n",
    "\n",
    "\n",
    "normalizer = tf.keras.layers.Normalization(axis=-1)\n",
    "\n",
    "normalizer.adapt(np.array(train_features))\n",
    "\n",
    "print(normalizer.mean.numpy())\n",
    "\n",
    "first = np.array(train_features[:1])\n",
    "\n",
    "with np.printoptions(precision=2, suppress=True):\n",
    "    print('First example:', first)\n",
    "    print('Normalized   :', normalizer(first).numpy())\n",
    "\n",
    "first_model = tf.keras.Sequential([\n",
    "    normalizer,\n",
    "    tf.keras.layers.Dense(5),\n",
    "    tf.keras.layers.Dense(3),\n",
    "    layers.Dense(units=1)\n",
    "])\n",
    "\n",
    "first_model.summary()\n",
    "\n",
    "first_model.compile(\n",
    "    optimizer=tf.keras.optimizers.Adam(learning_rate=0.1),\n",
    "    loss='mean_absolute_error')\n"
   ]
  },
  {
   "cell_type": "code",
   "execution_count": 141,
   "metadata": {},
   "outputs": [],
   "source": [
    "def plot_loss(history):\n",
    "    plt.plot(history.history['loss'], label='loss')\n",
    "    plt.plot(history.history['val_loss'], label='val_loss')\n",
    "    # plt.ylim([0, 10])\n",
    "    plt.xlabel('Epoch')\n",
    "    plt.ylabel('Error [RT]')\n",
    "    plt.legend()\n",
    "    plt.grid(True)"
   ]
  },
  {
   "cell_type": "code",
   "execution_count": 142,
   "metadata": {},
   "outputs": [
    {
     "name": "stdout",
     "output_type": "stream",
     "text": [
      "CPU times: user 4.48 s, sys: 162 ms, total: 4.64 s\n",
      "Wall time: 4.28 s\n"
     ]
    },
    {
     "data": {
      "image/png": "[encoded data removed]",
      "text/plain": [
       "<Figure size 432x288 with 1 Axes>"
      ]
     },
     "metadata": {
      "needs_background": "light"
     },
     "output_type": "display_data"
    }
   ],
   "source": [
    "%%time\n",
    "history = first_model.fit(\n",
    "    train_features,\n",
    "    train_labels,\n",
    "    epochs = 100,\n",
    "    verbose = 0,\n",
    "    validation_split = 0.2)\n",
    "\n",
    "plot_loss(history)"
   ]
  },
  {
   "cell_type": "code",
   "execution_count": null,
   "metadata": {},
   "outputs": [],
   "source": []
  },
  {
   "cell_type": "code",
   "execution_count": 143,
   "metadata": {},
   "outputs": [],
   "source": [
    "# https://www.tensorflow.org/tutorials/keras/regression"
   ]
  },
  {
   "cell_type": "code",
   "execution_count": null,
   "metadata": {},
   "outputs": [],
   "source": []
  }
 ],
 "metadata": {
  "colab": {
   "collapsed_sections": [],
   "name": "Metric Log.ipynb",
   "provenance": []
  },
  "kernelspec": {
   "display_name": "Python 3 (ipykernel)",
   "language": "python",
   "name": "python3"
  },
  "language_info": {
   "codemirror_mode": {
    "name": "ipython",
    "version": 3
   },
   "file_extension": ".py",
   "mimetype": "text/x-python",
   "name": "python",
   "nbconvert_exporter": "python",
   "pygments_lexer": "ipython3",
   "version": "3.8.10"
  }
 },
 "nbformat": 4,
 "nbformat_minor": 1
}
