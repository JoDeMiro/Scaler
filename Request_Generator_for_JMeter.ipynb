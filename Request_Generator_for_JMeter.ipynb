{
 "cells": [
  {
   "cell_type": "code",
   "execution_count": 2,
   "id": "abc7d1fc",
   "metadata": {},
   "outputs": [],
   "source": [
    "import numpy as np"
   ]
  },
  {
   "cell_type": "code",
   "execution_count": 16,
   "id": "696015d9",
   "metadata": {},
   "outputs": [],
   "source": [
    "a = []\n",
    "for i in range(16, 27, 1):\n",
    "    _ = [i]*80\n",
    "    # a.append(_)\n",
    "    a += _\n",
    "for i in range(27, 16, -1):\n",
    "    _ = [i]*80\n",
    "    a += _\n",
    "\n",
    "a = np.array(a)\n",
    "np.savetxt('seq.csv', a, delimiter=',', fmt='%d', )\n",
    "# a.tofile('seq.csv',sep=',',format='%10.5f')"
   ]
  },
  {
   "cell_type": "code",
   "execution_count": 6,
   "id": "b85506d8",
   "metadata": {},
   "outputs": [],
   "source": [
    "a = []\n",
    "for i in range(100, 2700, 100):\n",
    "    _ = [i]*34\n",
    "    # a.append(_)\n",
    "    a += _\n",
    "for i in range(2700, 100, -100):\n",
    "    _ = [i]*34\n",
    "    a += _\n",
    "\n",
    "a = np.array(a)\n",
    "np.savetxt('seq.csv', a, delimiter=',', fmt='%d', )\n",
    "# a.tofile('seq.csv',sep=',',format='%10.5f')"
   ]
  },
  {
   "cell_type": "code",
   "execution_count": null,
   "id": "b7c3b368",
   "metadata": {},
   "outputs": [],
   "source": []
  }
 ],
 "metadata": {
  "kernelspec": {
   "display_name": "Python 3 (ipykernel)",
   "language": "python",
   "name": "python3"
  },
  "language_info": {
   "codemirror_mode": {
    "name": "ipython",
    "version": 3
   },
   "file_extension": ".py",
   "mimetype": "text/x-python",
   "name": "python",
   "nbconvert_exporter": "python",
   "pygments_lexer": "ipython3",
   "version": "3.8.10"
  }
 },
 "nbformat": 4,
 "nbformat_minor": 5
}
